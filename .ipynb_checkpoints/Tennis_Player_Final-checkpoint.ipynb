{
 "cells": [
  {
   "cell_type": "code",
   "execution_count": 114,
   "metadata": {},
   "outputs": [],
   "source": [
    "import pandas as pd\n",
    "import numpy as np\n",
    "import scipy.stats as stats\n",
    "import matplotlib.pyplot as plt\n",
    "#import seaborn as sns\n",
    "plt.style.use('ggplot')\n",
    "from src.utils import greater_comparison, less_comparison"
   ]
  },
  {
   "cell_type": "markdown",
   "metadata": {},
   "source": [
    "# Loading in / Cleaning the Data"
   ]
  },
  {
   "cell_type": "code",
   "execution_count": 62,
   "metadata": {},
   "outputs": [],
   "source": [
    "tennis_2019 = pd.read_csv('data/atp_matches_2019.csv', delimiter=',')\n",
    "tennis_2018 = pd.read_csv('data/atp_matches_2018.csv', delimiter=',')\n",
    "tennis_2017 = pd.read_csv('data/atp_matches_2017.csv', delimiter=',')\n",
    "tennis_2016 = pd.read_csv('data/atp_matches_2016.csv', delimiter=',')\n",
    "tennis_2015 = pd.read_csv('data/atp_matches_2015.csv', delimiter=',')\n",
    "tennis_2014 = pd.read_csv('data/atp_matches_2014.csv', delimiter=',')\n",
    "tennis_2013 = pd.read_csv('data/atp_matches_2013.csv', delimiter=',')\n",
    "tennis_2012 = pd.read_csv('data/atp_matches_2012.csv', delimiter=',')\n",
    "tennis_2011 = pd.read_csv('data/atp_matches_2011.csv', delimiter=',')\n",
    "tennis_2010 = pd.read_csv('data/atp_matches_2010.csv', delimiter=',')"
   ]
  },
  {
   "cell_type": "code",
   "execution_count": 63,
   "metadata": {},
   "outputs": [],
   "source": [
    "copy_tennis_2019 = tennis_2019.copy()\n",
    "copy_tennis_2018 = tennis_2018.copy()\n",
    "copy_tennis_2017 = tennis_2017.copy()\n",
    "copy_tennis_2016 = tennis_2016.copy()\n",
    "copy_tennis_2015 = tennis_2015.copy()\n",
    "copy_tennis_2014 = tennis_2014.copy()\n",
    "copy_tennis_2013 = tennis_2013.copy()\n",
    "copy_tennis_2012 = tennis_2012.copy()\n",
    "copy_tennis_2011 = tennis_2011.copy()\n",
    "copy_tennis_2010 = tennis_2010.copy()"
   ]
  },
  {
   "cell_type": "code",
   "execution_count": 64,
   "metadata": {},
   "outputs": [],
   "source": [
    "# Want to combine all the years into one df\n",
    "final_tennis = pd.concat([copy_tennis_2019, copy_tennis_2018, copy_tennis_2017, copy_tennis_2016, copy_tennis_2015, copy_tennis_2014, copy_tennis_2013, copy_tennis_2012, copy_tennis_2011, copy_tennis_2010], axis = 0, join='inner').sort_index()\n",
    "copy_tennis = final_tennis.copy()"
   ]
  },
  {
   "cell_type": "code",
   "execution_count": 65,
   "metadata": {},
   "outputs": [
    {
     "data": {
      "text/plain": [
       "Index(['tourney_id', 'tourney_name', 'surface', 'draw_size', 'tourney_level',\n",
       "       'tourney_date', 'match_num', 'winner_id', 'winner_seed', 'winner_entry',\n",
       "       'winner_name', 'winner_hand', 'winner_ht', 'winner_ioc', 'winner_age',\n",
       "       'loser_id', 'loser_seed', 'loser_entry', 'loser_name', 'loser_hand',\n",
       "       'loser_ht', 'loser_ioc', 'loser_age', 'score', 'best_of', 'round',\n",
       "       'minutes', 'w_ace', 'w_df', 'w_svpt', 'w_1stIn', 'w_1stWon', 'w_2ndWon',\n",
       "       'w_SvGms', 'w_bpSaved', 'w_bpFaced', 'l_ace', 'l_df', 'l_svpt',\n",
       "       'l_1stIn', 'l_1stWon', 'l_2ndWon', 'l_SvGms', 'l_bpSaved', 'l_bpFaced',\n",
       "       'winner_rank', 'winner_rank_points', 'loser_rank', 'loser_rank_points'],\n",
       "      dtype='object')"
      ]
     },
     "execution_count": 65,
     "metadata": {},
     "output_type": "execute_result"
    }
   ],
   "source": [
    "copy_tennis.columns"
   ]
  },
  {
   "cell_type": "markdown",
   "metadata": {},
   "source": [
    "### Creating a Concatenated DF of Each players Wins AND Losses"
   ]
  },
  {
   "cell_type": "code",
   "execution_count": 66,
   "metadata": {},
   "outputs": [],
   "source": [
    "# Dropping the columns relevant to the loser of the match\n",
    "wins_tennis = copy_tennis.drop(['loser_id', 'loser_seed', 'loser_entry', 'loser_name', 'loser_hand', 'loser_ht', 'loser_ioc', 'loser_age', \n",
    "                                        'l_ace', 'l_df', 'l_svpt', 'l_1stIn', 'l_1stWon', 'l_2ndWon', 'l_SvGms', 'l_bpSaved', 'l_bpFaced', 'loser_rank', \n",
    "                                'loser_rank_points'], axis=1).copy()"
   ]
  },
  {
   "cell_type": "code",
   "execution_count": 67,
   "metadata": {},
   "outputs": [],
   "source": [
    "# Creating a binary code for wins/losses\n",
    "wins_tennis['win'] = 1"
   ]
  },
  {
   "cell_type": "code",
   "execution_count": 68,
   "metadata": {},
   "outputs": [
    {
     "data": {
      "text/plain": [
       "(29340, 31)"
      ]
     },
     "execution_count": 68,
     "metadata": {},
     "output_type": "execute_result"
    }
   ],
   "source": [
    "# Checking the shape\n",
    "wins_tennis.shape"
   ]
  },
  {
   "cell_type": "code",
   "execution_count": 69,
   "metadata": {},
   "outputs": [
    {
     "data": {
      "text/plain": [
       "Index(['tourney_id', 'tourney_name', 'surface', 'draw_size', 'tourney_level',\n",
       "       'tourney_date', 'match_num', 'winner_id', 'winner_seed', 'winner_entry',\n",
       "       'winner_name', 'winner_hand', 'winner_ht', 'winner_ioc', 'winner_age',\n",
       "       'score', 'best_of', 'round', 'minutes', 'w_ace', 'w_df', 'w_svpt',\n",
       "       'w_1stIn', 'w_1stWon', 'w_2ndWon', 'w_SvGms', 'w_bpSaved', 'w_bpFaced',\n",
       "       'winner_rank', 'winner_rank_points', 'win'],\n",
       "      dtype='object')"
      ]
     },
     "execution_count": 69,
     "metadata": {},
     "output_type": "execute_result"
    }
   ],
   "source": [
    "# Assigning the columns wanted in the DF\n",
    "wins_tennis.columns = ['tourney_id', 'tourney_name', 'surface', 'draw_size', 'tourney_level',\n",
    "       'tourney_date', 'match_num', 'winner_id', 'winner_seed', 'winner_entry',\n",
    "       'winner_name', 'winner_hand', 'winner_ht', 'winner_ioc', 'winner_age',\n",
    "       'score', 'best_of', 'round', 'minutes', 'w_ace', 'w_df', 'w_svpt',\n",
    "       'w_1stIn', 'w_1stWon', 'w_2ndWon', 'w_SvGms', 'w_bpSaved', 'w_bpFaced',\n",
    "       'winner_rank', 'winner_rank_points', 'win']\n",
    "# Checking the columns\n",
    "wins_tennis.columns"
   ]
  },
  {
   "cell_type": "code",
   "execution_count": 70,
   "metadata": {},
   "outputs": [],
   "source": [
    "# Drop the columns related to the winner\n",
    "loss_tennis = copy_tennis.drop(['winner_id', 'winner_seed', 'winner_entry',\n",
    "       'winner_name', 'winner_hand', 'winner_ht', 'winner_ioc', 'winner_age', 'w_ace', 'w_df', 'w_svpt', 'w_1stIn', 'w_1stWon', 'w_2ndWon',\n",
    "       'w_SvGms', 'w_bpSaved', 'w_bpFaced', 'winner_rank', 'winner_rank_points'], axis=1).copy()"
   ]
  },
  {
   "cell_type": "code",
   "execution_count": 71,
   "metadata": {},
   "outputs": [],
   "source": [
    "loss_tennis['win'] = 0"
   ]
  },
  {
   "cell_type": "code",
   "execution_count": 72,
   "metadata": {},
   "outputs": [
    {
     "data": {
      "text/plain": [
       "Index(['tourney_id', 'tourney_name', 'surface', 'draw_size', 'tourney_level',\n",
       "       'tourney_date', 'match_num', 'loser_id', 'loser_seed', 'loser_entry',\n",
       "       'loser_name', 'loser_hand', 'loser_ht', 'loser_ioc', 'loser_age',\n",
       "       'score', 'best_of', 'round', 'minutes', 'l_ace', 'l_df', 'l_svpt',\n",
       "       'l_1stIn', 'l_1stWon', 'l_2ndWon', 'l_SvGms', 'l_bpSaved', 'l_bpFaced',\n",
       "       'loser_rank', 'loser_rank_points', 'win'],\n",
       "      dtype='object')"
      ]
     },
     "execution_count": 72,
     "metadata": {},
     "output_type": "execute_result"
    }
   ],
   "source": [
    "# Checking the columns\n",
    "loss_tennis.columns"
   ]
  },
  {
   "cell_type": "code",
   "execution_count": 73,
   "metadata": {},
   "outputs": [
    {
     "data": {
      "text/plain": [
       "(29340, 31)"
      ]
     },
     "execution_count": 73,
     "metadata": {},
     "output_type": "execute_result"
    }
   ],
   "source": [
    "loss_tennis.shape"
   ]
  },
  {
   "cell_type": "code",
   "execution_count": 74,
   "metadata": {},
   "outputs": [
    {
     "data": {
      "text/plain": [
       "Index(['tourney_id', 'tourney_name', 'surface', 'drasize', 'tourney_level',\n",
       "       'tourney_date', 'match_num', 'id', 'seed', 'entry', 'name', 'hand',\n",
       "       'ht', 'ioc', 'age', 'score', 'best_of', 'round', 'minutes', 'ace', 'df',\n",
       "       'svpt', '1stIn', '1stWon', '2ndWon', 'SvGms', 'bpSaved', 'bpFaced',\n",
       "       'rank', 'rank_points', 'win'],\n",
       "      dtype='object')"
      ]
     },
     "execution_count": 74,
     "metadata": {},
     "output_type": "execute_result"
    }
   ],
   "source": [
    "wins_tennis.columns = [i.replace('w_', '').replace('winner_', '') for i in wins_tennis.columns]\n",
    "wins_tennis.columns"
   ]
  },
  {
   "cell_type": "code",
   "execution_count": 75,
   "metadata": {},
   "outputs": [
    {
     "data": {
      "text/plain": [
       "Index(['tourney_id', 'tourney_name', 'surface', 'drasize', 'tourney_level',\n",
       "       'tourney_date', 'match_num', 'id', 'seed', 'entry', 'name', 'hand',\n",
       "       'ht', 'ioc', 'age', 'score', 'best_of', 'round', 'minutes', 'ace', 'df',\n",
       "       'svpt', '1stIn', '1stWon', '2ndWon', 'SvGms', 'bpSaved', 'bpFaced',\n",
       "       'rank', 'rank_points', 'win'],\n",
       "      dtype='object')"
      ]
     },
     "execution_count": 75,
     "metadata": {},
     "output_type": "execute_result"
    }
   ],
   "source": [
    "loss_tennis.columns = [i.replace('w_', '').replace('winner_', '') for i in wins_tennis.columns]\n",
    "loss_tennis.columns"
   ]
  },
  {
   "cell_type": "markdown",
   "metadata": {},
   "source": [
    "#### Want to combine wins_tennis with loss_tennis df into one concatenated version so that we can sort each player can be tracked by their Wins and Losses in one DF"
   ]
  },
  {
   "cell_type": "code",
   "execution_count": 76,
   "metadata": {},
   "outputs": [
    {
     "data": {
      "text/plain": [
       "name\n",
       "Abd Hazli Bin Zainuddin         NaN\n",
       "Abdulhameed Alshatti            NaN\n",
       "Abdulhamid Mubarak         0.000000\n",
       "Abdulla Hajji              0.000000\n",
       "Abdullah Maqdas            2.500000\n",
       "                             ...   \n",
       "Zdenek Kolar               2.000000\n",
       "Ze Zhang                   4.513514\n",
       "Zhe Li                     3.642857\n",
       "Zhizhen Zhang              6.833333\n",
       "Zsombor Piros              6.000000\n",
       "Name: ace, Length: 1271, dtype: float64"
      ]
     },
     "execution_count": 76,
     "metadata": {},
     "output_type": "execute_result"
    }
   ],
   "source": [
    "# Couple of tests to make sure df works\n",
    "con_tennis = pd.concat([wins_tennis, loss_tennis])\n",
    "con_tennis.groupby(['name']).mean()['ace']"
   ]
  },
  {
   "cell_type": "code",
   "execution_count": 77,
   "metadata": {},
   "outputs": [
    {
     "data": {
      "text/plain": [
       "name\n",
       "Abd Hazli Bin Zainuddin    29.664613\n",
       "Abdulhameed Alshatti       18.585900\n",
       "Abdulhamid Mubarak         21.894593\n",
       "Abdulla Hajji              19.082820\n",
       "Abdullah Maqdas            27.695414\n",
       "                             ...    \n",
       "Zdenek Kolar               21.765914\n",
       "Ze Zhang                   24.062971\n",
       "Zhe Li                     30.327817\n",
       "Zhizhen Zhang              21.587532\n",
       "Zsombor Piros              18.787680\n",
       "Name: age, Length: 1271, dtype: float64"
      ]
     },
     "execution_count": 77,
     "metadata": {},
     "output_type": "execute_result"
    }
   ],
   "source": [
    "avg_age = con_tennis.groupby(['name']).mean()['age']\n",
    "avg_age"
   ]
  },
  {
   "cell_type": "markdown",
   "metadata": {},
   "source": [
    "### Replace the NaN's with 0 for stats that'll be used"
   ]
  },
  {
   "cell_type": "code",
   "execution_count": 78,
   "metadata": {},
   "outputs": [],
   "source": [
    "con_tennis['ace'] = con_tennis['ace'].fillna(0)\n",
    "con_tennis['svpt'] = con_tennis['svpt'].fillna(0)\n",
    "con_tennis['1stIn'] = con_tennis['1stIn'].fillna(0)\n",
    "con_tennis['bpSaved'] = con_tennis['bpSaved'].fillna(0)\n",
    "con_tennis['bpFaced'] = con_tennis['bpFaced'].fillna(0)\n",
    "con_tennis['df'] = con_tennis['df'].fillna(0)"
   ]
  },
  {
   "cell_type": "markdown",
   "metadata": {},
   "source": [
    "# Graphs to be Used"
   ]
  },
  {
   "cell_type": "markdown",
   "metadata": {},
   "source": [
    "### Selecting Players"
   ]
  },
  {
   "cell_type": "markdown",
   "metadata": {},
   "source": [
    "Choosing the players to highlight this decade was relatively easy, simply choose the top 3 players in terms of total wins. Here we'll focus on Novak Djokovic, Rafael Nadal, and Roger Federer."
   ]
  },
  {
   "cell_type": "code",
   "execution_count": 79,
   "metadata": {},
   "outputs": [
    {
     "data": {
      "image/png": "[encoded data removed]",
      "text/plain": [
       "<Figure size 1440x432 with 1 Axes>"
      ]
     },
     "metadata": {},
     "output_type": "display_data"
    }
   ],
   "source": [
    "player_win_sum = con_tennis.groupby(['name']).sum()['win'].sort_values(ascending=False)\n",
    "flare = sns.color_palette(\"flare\", 1500) #as_cmap=True)\n",
    "\n",
    "fig, ax = plt.subplots(figsize=(20, 6))\n",
    "for player, wins in player_win_sum[:10].items():\n",
    "    ax.bar(player, wins, color=sns.set_palette(\"flare\", 20, 0.4))\n",
    "    \n",
    "ax.set_xlabel('Player', fontsize=16)\n",
    "ax.set_ylabel('Num of Matches Won')\n",
    "ax.set_title('Top 10 Players in Win Totals (2010 - 2019)', fontsize=18)\n",
    "ax.set_xlim(xmin=-1)\n",
    "\n",
    "fig.autofmt_xdate(rotation=45)\n",
    "#fig.savefig('images/top_10_players.png')"
   ]
  },
  {
   "cell_type": "markdown",
   "metadata": {},
   "source": [
    "### Wins / Losses"
   ]
  },
  {
   "cell_type": "markdown",
   "metadata": {},
   "source": [
    "Wanted to highlight these specific players records to show just how dominate they've been. After looking at these graphs my initial assumption was that Djokovic would be the best player in this decade and prove to be pretty easily."
   ]
  },
  {
   "cell_type": "code",
   "execution_count": 80,
   "metadata": {},
   "outputs": [],
   "source": [
    "# Wins and Losses\n",
    "\n",
    "# Federer\n",
    "fed_wins = con_tennis[((con_tennis['win'] == 1) & (con_tennis['name'] == 'Roger Federer'))]\n",
    "n_fed_wins = len(con_tennis[((con_tennis['win'] == 1) & (con_tennis['name'] == 'Roger Federer'))])\n",
    "fed_losses = con_tennis[((con_tennis['win'] == 0) & (con_tennis['name'] == 'Roger Federer'))]\n",
    "n_fed_losses = len(con_tennis[((con_tennis['win'] == 0) & (con_tennis['name'] == 'Roger Federer'))])\n",
    "\n",
    "# Nadal\n",
    "nadal_wins = con_tennis[((con_tennis['win'] == 1) & (con_tennis['name'] == 'Rafael Nadal'))]\n",
    "n_nadal_wins = len(con_tennis[((con_tennis['win'] == 1) & (con_tennis['name'] == 'Rafael Nadal'))])\n",
    "nadal_losses = con_tennis[((con_tennis['win'] == 0) & (con_tennis['name'] == 'Rafael Nadal'))]\n",
    "n_nadal_losses = len(con_tennis[((con_tennis['win'] == 0) & (con_tennis['name'] == 'Rafael Nadal'))])\n",
    "\n",
    "# Djok\n",
    "djok_wins = con_tennis[((con_tennis['win'] == 1) & (con_tennis['name'] == 'Novak Djokovic'))]\n",
    "n_djok_wins = len(con_tennis[((con_tennis['win'] == 1) & (con_tennis['name'] == 'Novak Djokovic'))])\n",
    "djok_losses = con_tennis[((con_tennis['win'] == 0) & (con_tennis['name'] == 'Novak Djokovic'))]\n",
    "n_djok_losses = len(con_tennis[((con_tennis['win'] == 0) & (con_tennis['name'] == 'Novak Djokovic'))])"
   ]
  },
  {
   "cell_type": "code",
   "execution_count": 81,
   "metadata": {},
   "outputs": [
    {
     "data": {
      "text/plain": [
       "[Text(0, 0, '112'), Text(0, 0, '110'), Text(0, 0, '100')]"
      ]
     },
     "execution_count": 81,
     "metadata": {},
     "output_type": "execute_result"
    },
    {
     "data": {
      "image/png": "[encoded data removed]",
      "text/plain": [
       "<Figure size 864x288 with 1 Axes>"
      ]
     },
     "metadata": {},
     "output_type": "display_data"
    }
   ],
   "source": [
    "# Grouped barchart of wins/losses for each player\n",
    "fig, ax = plt.subplots(figsize=(12, 4))\n",
    "\n",
    "x = ['Federer (Age 29-38)', 'Nadal (Age 24-33)', 'Djok (Age 23-32)']\n",
    "wins = [n_fed_wins, n_nadal_wins, n_djok_wins]\n",
    "losses = [n_fed_losses, n_nadal_losses, n_djok_losses]\n",
    "width = 0.5\n",
    "\n",
    "p1 = ax.barh(x, wins, width, color='forestgreen', label='Wins', edgecolor='black')\n",
    "p2 = ax.barh(x, losses, width, color='firebrick', label='Losses', edgecolor='black')\n",
    "ax.set_title('Wins and Losses (2010 - 2019)', fontsize=14)\n",
    "ax.set_xlabel('Num of Matches')\n",
    "ax.set_ylabel('Player')\n",
    "ax.legend()\n",
    "\n",
    "ax.bar_label(p1, label_type='center')\n",
    "ax.bar_label(p2, label_type='center')\n",
    "#fig.savefig('images/djok_nadal_fed_records')"
   ]
  },
  {
   "cell_type": "markdown",
   "metadata": {},
   "source": [
    "### Major Championship Wins/Losses"
   ]
  },
  {
   "cell_type": "code",
   "execution_count": 82,
   "metadata": {},
   "outputs": [],
   "source": [
    "# What percent of grand slams did they win?\n",
    "fed_gs_aus = con_tennis[((con_tennis[\"name\"] == \"Roger Federer\") & (con_tennis[\"tourney_name\"] == \"Australian Open\") & (con_tennis['win'] == 1))]\n",
    "fed_gs_fren = con_tennis[((con_tennis[\"name\"] == \"Roger Federer\") & (con_tennis[\"tourney_name\"] == \"Roland Garros\") & (con_tennis['win'] == 1))]\n",
    "fed_gs_wim = con_tennis[((con_tennis[\"name\"] == \"Roger Federer\") & (con_tennis[\"tourney_name\"] == \"Wimbledon\") & (con_tennis['win'] == 1))]\n",
    "fed_gs_us = con_tennis[((con_tennis[\"name\"] == \"Roger Federer\") & (con_tennis[\"tourney_name\"] == \"US Open\") & (con_tennis['win'] == 1))]\n",
    "fed_gs_titles = con_tennis[((con_tennis[\"name\"] == \"Roger Federer\") & (con_tennis[\"tourney_level\"] == \"G\") & (con_tennis['round'] == \"F\") & (con_tennis['win'] == 1))]\n",
    "fed_gs_total = len(fed_gs_aus) + len(fed_gs_fren) + len(fed_gs_wim) + len(fed_gs_us)\n",
    "n_fed_gs_titles = len(fed_gs_titles)\n",
    "\n",
    "nadal_gs_aus = con_tennis[((con_tennis[\"name\"] == \"Rafael Nadal\") & (con_tennis[\"tourney_name\"] == \"Australian Open\") & (con_tennis['win'] == 1))]\n",
    "nadal_gs_fren = con_tennis[((con_tennis[\"name\"] == \"Rafael Nadal\") & (con_tennis[\"tourney_name\"] == \"Roland Garros\") & (con_tennis['win'] == 1))]\n",
    "nadal_gs_wim = con_tennis[((con_tennis[\"name\"] == \"Rafael Nadal\") & (con_tennis[\"tourney_name\"] == \"Wimbledon\") & (con_tennis['win'] == 1))]\n",
    "nadal_gs_us = con_tennis[((con_tennis[\"name\"] == \"Rafael Nadal\") & (con_tennis[\"tourney_name\"] == \"US Open\") & (con_tennis['win'] == 1))]\n",
    "nadal_gs_titles = con_tennis[((con_tennis[\"name\"] == \"Rafael Nadal\") & (con_tennis[\"tourney_level\"] == \"G\") & (con_tennis['round'] == \"F\") & (con_tennis['win'] == 1))]\n",
    "nadal_gs_total = len(nadal_gs_aus) + len(nadal_gs_fren) + len(nadal_gs_wim) + len(nadal_gs_us)\n",
    "n_nadal_gs_titles = len(nadal_gs_titles)\n",
    "\n",
    "djok_gs_aus = con_tennis[((con_tennis[\"name\"] == \"Novak Djokovic\") & (con_tennis[\"tourney_name\"] == \"Australian Open\") & (con_tennis['win'] == 1))]\n",
    "djok_gs_fren = con_tennis[((con_tennis[\"name\"] == \"Novak Djokovic\") & (con_tennis[\"tourney_name\"] == \"Roland Garros\") & (con_tennis['win'] == 1))]\n",
    "djok_gs_wim = con_tennis[((con_tennis[\"name\"] == \"Novak Djokovic\") & (con_tennis[\"tourney_name\"] == \"Wimbledon\") & (con_tennis['win'] == 1))]\n",
    "djok_gs_us = con_tennis[((con_tennis[\"name\"] == \"Novak Djokovic\") & (con_tennis[\"tourney_name\"] == \"US Open\") & (con_tennis['win'] == 1))]\n",
    "djok_gs_titles = con_tennis[((con_tennis[\"name\"] == \"Novak Djokovic\") & (con_tennis[\"tourney_level\"] == \"G\") & (con_tennis['round'] == \"F\") & (con_tennis['win'] == 1))]\n",
    "djok_gs_total = len(djok_gs_aus) + len(djok_gs_fren) + len(djok_gs_wim) + len(djok_gs_us)\n",
    "n_djok_gs_titles = len(djok_gs_titles)\n",
    "\n",
    "combined_gs_total_losses = 78\n",
    "combined_gs_total_wins = fed_gs_total + nadal_gs_total + djok_gs_total\n",
    "combined_gs_titles = fed_gs_titles + nadal_gs_titles + djok_gs_titles"
   ]
  },
  {
   "cell_type": "code",
   "execution_count": 83,
   "metadata": {},
   "outputs": [
    {
     "name": "stdout",
     "output_type": "stream",
     "text": [
      "These 3 players have won a combined 564 matches out of 642 and in major tournaments from 2010 - 2019. Claiming 33 titles out of a possible 40.\n",
      "\n",
      " Federer has won 171 matches, with 5 titles.\n",
      "\n",
      " Nadal has won 177 matches, with 13 titles.\n",
      "\n",
      " Djokovic has won 216 matches, with 15 titles.\n"
     ]
    }
   ],
   "source": [
    "print(f\"These 3 players have won a combined {combined_gs_total_wins} matches out of {combined_gs_total_wins + combined_gs_total_losses} and in major tournaments from 2010 - 2019. Claiming {len(combined_gs_titles)} titles out of a possible 40.\")\n",
    "print(f\"\\n Federer has won {fed_gs_total} matches, with {n_fed_gs_titles} titles.\")\n",
    "print(f\"\\n Nadal has won {nadal_gs_total} matches, with {n_nadal_gs_titles} titles.\")\n",
    "print(f\"\\n Djokovic has won {djok_gs_total} matches, with {n_djok_gs_titles} titles.\")"
   ]
  },
  {
   "cell_type": "code",
   "execution_count": 84,
   "metadata": {},
   "outputs": [
    {
     "data": {
      "text/plain": [
       "[Text(0, 0, '5'), Text(0, 0, '13'), Text(0, 0, '15')]"
      ]
     },
     "execution_count": 84,
     "metadata": {},
     "output_type": "execute_result"
    },
    {
     "data": {
      "image/png": "[encoded data removed]",
      "text/plain": [
       "<Figure size 864x288 with 1 Axes>"
      ]
     },
     "metadata": {},
     "output_type": "display_data"
    }
   ],
   "source": [
    "# Grouped barchart of wins/titles for each player\n",
    "fig, ax = plt.subplots(figsize=(12, 4))\n",
    "\n",
    "x = ['Federer', 'Nadal', 'Djok']\n",
    "wins = [fed_gs_total, nadal_gs_total, djok_gs_total]\n",
    "titles = [n_fed_gs_titles, n_nadal_gs_titles, n_djok_gs_titles]\n",
    "width = 0.5\n",
    "\n",
    "p1 = ax.barh(x, wins, width, color='gray', label='Wins', edgecolor='black')\n",
    "p2 = ax.barh(x, titles, width, color='gold', label='Titles', edgecolor='black')\n",
    "ax.set_title('Wins and Titles In Major Tournaments (2010 - 2019)', fontsize=14)\n",
    "ax.set_xlabel('Num of Matches')\n",
    "ax.set_ylabel('Player')\n",
    "ax.legend()\n",
    "\n",
    "ax.bar_label(p1, label_type='center')\n",
    "ax.bar_label(p2, label_type='center')\n",
    "#fig.savefig('images/djok_nadal_fed_major_records')"
   ]
  },
  {
   "cell_type": "markdown",
   "metadata": {},
   "source": [
    "From here, I just wanted to give a more in depth look of the share of titles between the 3 players and get some practice with pie charts :)"
   ]
  },
  {
   "cell_type": "code",
   "execution_count": 85,
   "metadata": {},
   "outputs": [
    {
     "data": {
      "text/plain": [
       "Text(0.5, 1.0, 'Share of Major Tournament Wins Between Each Other')"
      ]
     },
     "execution_count": 85,
     "metadata": {},
     "output_type": "execute_result"
    },
    {
     "data": {
      "image/png": "[encoded data removed]",
      "text/plain": [
       "<Figure size 576x288 with 1 Axes>"
      ]
     },
     "metadata": {},
     "output_type": "display_data"
    }
   ],
   "source": [
    "fig, ax = plt.subplots(figsize=(8, 4))\n",
    "labels = ['Federer', 'Nadal', 'Djokovic']\n",
    "x = [fed_gs_total, nadal_gs_total, djok_gs_total]\n",
    "\n",
    "ax.pie(x, labels=labels, autopct='%1.1f%%', shadow=True, startangle=90)\n",
    "ax.axis('equal')\n",
    "ax.set_title('Share of Major Tournament Wins Between Each Other', fontsize=18)\n",
    "#fig.savefig('images/djok_nadal_fed_major_tournament_perc')"
   ]
  },
  {
   "cell_type": "code",
   "execution_count": 86,
   "metadata": {},
   "outputs": [
    {
     "data": {
      "text/plain": [
       "Text(0.5, 1.0, 'Share of Major Tournament Titles Between Each Other')"
      ]
     },
     "execution_count": 86,
     "metadata": {},
     "output_type": "execute_result"
    },
    {
     "data": {
      "image/png": "[encoded data removed]",
      "text/plain": [
       "<Figure size 576x288 with 1 Axes>"
      ]
     },
     "metadata": {},
     "output_type": "display_data"
    }
   ],
   "source": [
    "fig, ax = plt.subplots(figsize=(8, 4))\n",
    "labels = ['Federer', 'Nadal', 'Djokovic']\n",
    "x = [len(fed_gs_titles), len(nadal_gs_titles), len(djok_gs_titles)]\n",
    "\n",
    "ax.pie(x, labels=labels, autopct='%1.1f%%', shadow=True, startangle=90)\n",
    "ax.axis('equal')\n",
    "ax.set_title('Share of Major Tournament Titles Between Each Other', fontsize=18)\n",
    "#fig.savefig('images/djok_nadal_fed_major_titles_perc')"
   ]
  },
  {
   "cell_type": "markdown",
   "metadata": {},
   "source": [
    "### Surface Comparison"
   ]
  },
  {
   "cell_type": "markdown",
   "metadata": {},
   "source": [
    "Unique thing about tennis is that the playing conditions are not the same thing. Surfaces vary depending on the region of the world and the tournament itself. This certainly has an effect on players performance and something I wanted to take a look into."
   ]
  },
  {
   "cell_type": "code",
   "execution_count": 87,
   "metadata": {},
   "outputs": [],
   "source": [
    "# Federer\n",
    "# Hard\n",
    "fed_hard_wins = con_tennis[((con_tennis['win'] == 1) & (con_tennis['name'] == 'Roger Federer') & (con_tennis['surface'] == 'Hard'))]\n",
    "n_fed_hard_wins = len(con_tennis[((con_tennis['win'] == 1) & (con_tennis['name'] == 'Roger Federer') & (con_tennis['surface'] == 'Hard'))])\n",
    "fed_hard_loss = con_tennis[((con_tennis['win'] == 0) & (con_tennis['name'] == 'Roger Federer') & (con_tennis['surface'] == 'Hard'))]\n",
    "n_fed_hard_loss = len(con_tennis[((con_tennis['win'] == 0) & (con_tennis['name'] == 'Roger Federer') & (con_tennis['surface'] == 'Hard'))])\n",
    "# Clay\n",
    "fed_clay_wins = con_tennis[((con_tennis['win'] == 1) & (con_tennis['name'] == 'Roger Federer') & (con_tennis['surface'] == 'Clay'))]\n",
    "n_fed_clay_wins = len(con_tennis[((con_tennis['win'] == 1) & (con_tennis['name'] == 'Roger Federer') & (con_tennis['surface'] == 'Clay'))])\n",
    "fed_clay_loss = con_tennis[((con_tennis['win'] == 0) & (con_tennis['name'] == 'Roger Federer') & (con_tennis['surface'] == 'Clay'))]\n",
    "n_fed_clay_loss = len(con_tennis[((con_tennis['win'] == 0) & (con_tennis['name'] == 'Roger Federer') & (con_tennis['surface'] == 'Clay'))])\n",
    "# Grass\n",
    "fed_grass_wins = con_tennis[((con_tennis['win'] == 1) & (con_tennis['name'] == 'Roger Federer') & (con_tennis['surface'] == 'Grass'))]\n",
    "n_fed_grass_wins = len(con_tennis[((con_tennis['win'] == 1) & (con_tennis['name'] == 'Roger Federer') & (con_tennis['surface'] == 'Grass'))])\n",
    "fed_grass_loss = con_tennis[((con_tennis['win'] == 0) & (con_tennis['name'] == 'Roger Federer') & (con_tennis['surface'] == 'Grass'))]\n",
    "n_fed_grass_loss = len(con_tennis[((con_tennis['win'] == 0) & (con_tennis['name'] == 'Roger Federer') & (con_tennis['surface'] == 'Grass'))])\n",
    "\n",
    "# Nadal\n",
    "# Hard\n",
    "nadal_hard_wins = con_tennis[((con_tennis['win'] == 1) & (con_tennis['name'] == 'Rafael Nadal') & (con_tennis['surface'] == 'Hard'))]\n",
    "n_nadal_hard_wins = len(con_tennis[((con_tennis['win'] == 1) & (con_tennis['name'] == 'Rafael Nadal') & (con_tennis['surface'] == 'Hard'))])\n",
    "nadal_hard_loss = con_tennis[((con_tennis['win'] == 0) & (con_tennis['name'] == 'Rafael Nadal') & (con_tennis['surface'] == 'Hard'))]\n",
    "n_nadal_hard_loss = len(con_tennis[((con_tennis['win'] == 0) & (con_tennis['name'] == 'Rafael Nadal') & (con_tennis['surface'] == 'Hard'))])\n",
    "# Clay\n",
    "nadal_clay_wins = con_tennis[((con_tennis['win'] == 1) & (con_tennis['name'] == 'Rafael Nadal') & (con_tennis['surface'] == 'Clay'))]\n",
    "n_nadal_clay_wins = len(con_tennis[((con_tennis['win'] == 1) & (con_tennis['name'] == 'Rafael Nadal') & (con_tennis['surface'] == 'Clay'))])\n",
    "nadal_clay_loss = con_tennis[((con_tennis['win'] == 0) & (con_tennis['name'] == 'Rafael Nadal') & (con_tennis['surface'] == 'Clay'))]\n",
    "n_nadal_clay_loss = len(con_tennis[((con_tennis['win'] == 0) & (con_tennis['name'] == 'Rafael Nadal') & (con_tennis['surface'] == 'Clay'))])\n",
    "# Grass\n",
    "nadal_grass_wins = con_tennis[((con_tennis['win'] == 1) & (con_tennis['name'] == 'Rafael Nadal') & (con_tennis['surface'] == 'Grass'))]\n",
    "n_nadal_grass_wins = len(con_tennis[((con_tennis['win'] == 1) & (con_tennis['name'] == 'Rafael Nadal') & (con_tennis['surface'] == 'Grass'))])\n",
    "nadal_grass_loss = con_tennis[((con_tennis['win'] == 0) & (con_tennis['name'] == 'Rafael Nadal') & (con_tennis['surface'] == 'Grass'))]\n",
    "n_nadal_grass_loss = len(con_tennis[((con_tennis['win'] == 0) & (con_tennis['name'] == 'Rafael Nadal') & (con_tennis['surface'] == 'Grass'))])\n",
    "\n",
    "\n",
    "# Djokovic\n",
    "# Hard\n",
    "djok_hard_wins = con_tennis[((con_tennis['win'] == 1) & (con_tennis['name'] == 'Novak Djokovic') & (con_tennis['surface'] == 'Hard'))]\n",
    "n_djok_hard_wins = len(con_tennis[((con_tennis['win'] == 1) & (con_tennis['name'] == 'Novak Djokovic') & (con_tennis['surface'] == 'Hard'))])\n",
    "djok_hard_loss = con_tennis[((con_tennis['win'] == 0) & (con_tennis['name'] == 'Novak Djokovic') & (con_tennis['surface'] == 'Hard'))]\n",
    "n_djok_hard_loss = len(con_tennis[((con_tennis['win'] == 0) & (con_tennis['name'] == 'Novak Djokovic') & (con_tennis['surface'] == 'Hard'))])\n",
    "# Clay\n",
    "djok_clay_wins = con_tennis[((con_tennis['win'] == 1) & (con_tennis['name'] == 'Novak Djokovic') & (con_tennis['surface'] == 'Clay'))]\n",
    "n_djok_clay_wins = len(con_tennis[((con_tennis['win'] == 1) & (con_tennis['name'] == 'Novak Djokovic') & (con_tennis['surface'] == 'Clay'))])\n",
    "djok_clay_loss = con_tennis[((con_tennis['win'] == 0) & (con_tennis['name'] == 'Novak Djokovic') & (con_tennis['surface'] == 'Clay'))]\n",
    "n_djok_clay_loss = len(con_tennis[((con_tennis['win'] == 0) & (con_tennis['name'] == 'Novak Djokovic') & (con_tennis['surface'] == 'Clay'))])\n",
    "# Grass\n",
    "djok_grass_wins = con_tennis[((con_tennis['win'] == 1) & (con_tennis['name'] == 'Novak Djokovic') & (con_tennis['surface'] == 'Grass'))]\n",
    "n_djok_grass_wins = len(con_tennis[((con_tennis['win'] == 1) & (con_tennis['name'] == 'Novak Djokovic') & (con_tennis['surface'] == 'Grass'))])\n",
    "djok_grass_loss = con_tennis[((con_tennis['win'] == 0) & (con_tennis['name'] == 'Novak Djokovic') & (con_tennis['surface'] == 'Grass'))]\n",
    "n_djok_grass_loss = len(con_tennis[((con_tennis['win'] == 0) & (con_tennis['name'] == 'Novak Djokovic') & (con_tennis['surface'] == 'Grass'))])"
   ]
  },
  {
   "cell_type": "code",
   "execution_count": 88,
   "metadata": {},
   "outputs": [
    {
     "data": {
      "image/png": "[encoded data removed]",
      "text/plain": [
       "<Figure size 864x432 with 1 Axes>"
      ]
     },
     "metadata": {},
     "output_type": "display_data"
    }
   ],
   "source": [
    "labels = ['Hard', 'Clay', 'Grass']\n",
    "fed_surf_wins = [n_fed_hard_wins, n_fed_clay_wins, n_fed_grass_wins]\n",
    "nadal_surf_wins = [n_nadal_hard_wins, n_nadal_clay_wins, n_nadal_grass_wins]\n",
    "djok_surf_wins = [n_djok_hard_wins, n_djok_clay_wins, n_djok_grass_wins]\n",
    "\n",
    "x = np.arange(len(labels))\n",
    "width = 0.2\n",
    "\n",
    "fig, ax = plt.subplots(figsize=(12, 6))\n",
    "rects1 = ax.bar(x-width, fed_surf_wins, width, label='Federer', color='tab:olive', edgecolor='black')\n",
    "rects2 = ax.bar(x, nadal_surf_wins, width, label='Nadal', color='salmon', edgecolor='black')\n",
    "rects3 = ax.bar(x+width, djok_surf_wins, width, label='Djokovic', color='steelblue', edgecolor='black')\n",
    "\n",
    "ax.set_ylabel('Num of Wins')\n",
    "ax.set_xlabel('Surface')\n",
    "ax.set_title('Wins Per Court Surface (2010 - 2019)', fontsize=18)\n",
    "ax.set_xticks(x)\n",
    "ax.set_xticklabels(labels)\n",
    "ax.legend()\n",
    "\n",
    "ax.bar_label(rects1, padding=3)\n",
    "ax.bar_label(rects2, padding=3)\n",
    "ax.bar_label(rects3, padding=3)\n",
    "\n",
    "fig.tight_layout()\n",
    "fig.savefig('images/surfaces')"
   ]
  },
  {
   "cell_type": "markdown",
   "metadata": {},
   "source": [
    "### Look into Individual Stats"
   ]
  },
  {
   "cell_type": "markdown",
   "metadata": {},
   "source": [
    "Look into these 3 individual players stats compared to the average of the rest of the tour players. I wanted to see where they are are better or worse than the average to get an idea of how the hypothesis tests may play out."
   ]
  },
  {
   "cell_type": "code",
   "execution_count": 89,
   "metadata": {},
   "outputs": [
    {
     "data": {
      "image/png": "[encoded data removed]",
      "text/plain": [
       "<Figure size 576x288 with 1 Axes>"
      ]
     },
     "metadata": {},
     "output_type": "display_data"
    }
   ],
   "source": [
    "fig, ax = plt.subplots(figsize=(8, 4))\n",
    "avg_ace = con_tennis['ace'].mean()\n",
    "x = ['Federer', 'Nadal', 'Djokovic']\n",
    "y = [con_tennis.groupby(['name']).mean()['ace']['Roger Federer'].round(2), con_tennis.groupby(['name']).mean()['ace']['Rafael Nadal'].round(2), con_tennis.groupby(['name']).mean()['ace']['Novak Djokovic'].round(2)]\n",
    "\n",
    "ax.bar(x, y, color=['coral', 'darkcyan', 'forestgreen'], edgecolor='black')\n",
    "ax.axhline(avg_ace, label=f\"Avg Aces Among All Players ({avg_ace:.2f})\")\n",
    "ax.set_xlabel('Player')\n",
    "ax.set_ylabel('Avg Num of Aces')\n",
    "ax.set_title('Avg Num of Aces Per Match (2010 - 2019)')\n",
    "ax.legend()\n",
    "\n",
    "\n",
    "for index, value in enumerate(y):\n",
    "    ax.text(index - 0.05, value - 1, str(value), c='black', fontsize=12)\n",
    "\n",
    "#fig.savefig('images/avg_aces')"
   ]
  },
  {
   "cell_type": "markdown",
   "metadata": {},
   "source": [
    "Also wanted to highlight that **some stats you want less of**. For instance, double faults are essentially gifting your opponent a free point."
   ]
  },
  {
   "cell_type": "code",
   "execution_count": 90,
   "metadata": {},
   "outputs": [
    {
     "data": {
      "image/png": "[encoded data removed]",
      "text/plain": [
       "<Figure size 576x288 with 1 Axes>"
      ]
     },
     "metadata": {},
     "output_type": "display_data"
    }
   ],
   "source": [
    "fig, ax = plt.subplots(figsize=(8, 4))\n",
    "avg_df = con_tennis['df'].mean()\n",
    "x = ['Federer', 'Nadal', 'Djokovic']\n",
    "y = [con_tennis.groupby(['name']).mean()['df']['Roger Federer'].round(2), con_tennis.groupby(['name']).mean()['df']['Rafael Nadal'].round(2), con_tennis.groupby(['name']).mean()['df']['Novak Djokovic'].round(2)]\n",
    "\n",
    "ax.bar(x, y, color=['coral', 'darkcyan', 'forestgreen'], edgecolor='black')\n",
    "ax.axhline(avg_df, label=f\"Avg Double Faults Among All Players ({avg_df:.2f})\")\n",
    "ax.set_xlabel('Player')\n",
    "ax.set_ylabel('Avg Num of Double Faults')\n",
    "ax.set_title('Avg Num of Double Faults Per Match (2010 - 2019)')\n",
    "ax.legend(loc='best')\n",
    "\n",
    "\n",
    "for index, value in enumerate(y):\n",
    "    ax.text(index - 0.05, value - 1, str(value), c='black', fontsize=12)\n",
    "\n",
    "#fig.savefig('images/avg_df')"
   ]
  },
  {
   "cell_type": "markdown",
   "metadata": {},
   "source": [
    "# Hypothesis Testing"
   ]
  },
  {
   "cell_type": "code",
   "execution_count": 95,
   "metadata": {},
   "outputs": [],
   "source": [
    "def greater_comparison(df1, df2, lst):\n",
    "    '''\n",
    "    Compare a list of statistics between two players to see who performs \"better\"\n",
    "    (who has less) in certain stats.\n",
    "\n",
    "    Parameters\n",
    "    ----------\n",
    "    df1: pandas dataframe\n",
    "        Df of all the games an individual player has played in, win or loss\n",
    "    df2: pandas dataframe\n",
    "        Df of all the games a second individual player has played in, win or loss\n",
    "    lst:\n",
    "        List of all the statistics that we want to compare between the two players.\n",
    "        In this case, more of the certain statistic is considered to be better\n",
    "        \n",
    "    Returns\n",
    "    -------\n",
    "    List: Values from the mannwhitneyu; test statistic (wins for the player) and the \n",
    "          associated p-value. These values alternate (ie: Num of wins in even indexes \n",
    "          and p-values in odd indexes)\n",
    "    '''\n",
    "    score_lst = []\n",
    "    for item in lst:\n",
    "        wins, p_val = stats.mannwhitneyu(df1[item], df2[item], alternative='greater')\n",
    "        score_lst.append(wins)\n",
    "        score_lst.append(p_val)\n",
    "    return score_lst\n",
    "\n",
    "def less_comparison(df1, df2, lst):\n",
    "    '''\n",
    "    Compare a list of statistics between two players to see who performs \"better\"\n",
    "    (who has less) in certain stats.\n",
    "\n",
    "    Parameters\n",
    "    ----------\n",
    "    df1: pandas dataframe\n",
    "        Df of all the games an individual player has played in, win or loss\n",
    "    df2: pandas dataframe\n",
    "        Df of all the games a second individual player has played in, win or loss\n",
    "    lst:\n",
    "        List of all the statistics that we want to compare between the two players.\n",
    "        In this case, less of the certain statistic is considered to be better\n",
    "        \n",
    "    Returns\n",
    "    -------\n",
    "    List: Values from the mannwhitneyu; test statistic (wins for the player) and the \n",
    "          associated p-value. These values alternate (ie: Num of wins in even indexes \n",
    "          and p-values in odd indexes)\n",
    "    '''\n",
    "    score_lst = []\n",
    "    for item in lst:\n",
    "        wins, p_val = stats.mannwhitneyu(df1[item], df2[item], alternative='less')\n",
    "        score_lst.append(wins)\n",
    "        score_lst.append(p_val)                                 \n",
    "    return score_lst"
   ]
  },
  {
   "cell_type": "code",
   "execution_count": 96,
   "metadata": {},
   "outputs": [],
   "source": [
    "# Creating DF for each player\n",
    "fed = con_tennis[(con_tennis[\"name\"] == \"Roger Federer\")]\n",
    "nadal = con_tennis[(con_tennis[\"name\"] == \"Rafael Nadal\")]\n",
    "djok = con_tennis[(con_tennis[\"name\"] == \"Novak Djokovic\")]"
   ]
  },
  {
   "cell_type": "code",
   "execution_count": 97,
   "metadata": {},
   "outputs": [],
   "source": [
    "g_lst = ['ace', 'svpt', '1stIn', '1stWon', '2ndWon', 'SvGms', 'bpSaved', 'win'] # stats you want more of\n",
    "l_lst = ['df', 'bpFaced'] # stats you want less of\n",
    "alpha = 0.05 # our threshold level"
   ]
  },
  {
   "cell_type": "markdown",
   "metadata": {},
   "source": [
    "## Hypothesis 1\n",
    "\n",
    "> $H_0$: Federer performs equally or worse than Nadal in terms of the skills aces, serve points, 1st serve in, 1st serve points won, 2nd serve points won, number of serve games, number of break points saved, wins, double faults, and break points faced.\n",
    "\n",
    "> $H_A$: Federer performs better than Nadal in terms of the skills aces, serve points, 1st serve in, 1st serve points won, 2nd serve points won, number of serve games, number of break points saved, wins, double faults, and break points faced."
   ]
  },
  {
   "cell_type": "code",
   "execution_count": 98,
   "metadata": {},
   "outputs": [
    {
     "name": "stdout",
     "output_type": "stream",
     "text": [
      " Fed wins = [379443.0, 244524.0, 220722.5, 252314.0, 292803.0, 263752.5, 203418.0, 230960.0, 227241.0, 197077.0]\n",
      "\n",
      " Fed p-vals = [1.1919754872754445e-91, 0.04955776347802703, 0.9477890743479132, 0.003255046926093683, 5.3056597152380315e-17, 8.196699269044679e-06, 0.9999747251353331, 0.6322114489682835, 0.22702199590055044, 4.6900003453480326e-07]\n",
      "\n"
     ]
    }
   ],
   "source": [
    "fed_wins1 = greater_comparison(df1=fed, df2=nadal, lst=g_lst)[::2] + less_comparison(df1=fed, df2=nadal, lst=l_lst)[::2]\n",
    "fed_pvals1 = greater_comparison(df1=fed, df2=nadal, lst=g_lst)[1::2] + less_comparison(df1=fed, df2=nadal, lst=l_lst)[1::2]\n",
    "print(f' Fed wins = {fed_wins1}\\n')\n",
    "print(f' Fed p-vals = {fed_pvals1}\\n')"
   ]
  },
  {
   "cell_type": "code",
   "execution_count": 99,
   "metadata": {},
   "outputs": [
    {
     "name": "stdout",
     "output_type": "stream",
     "text": [
      " Nadal Wins = [85617.0, 220536.0, 244337.5, 212709.0, 172260.0, 201334.5, 261642.0, 234100.0, 237819.0, 267983.0]\n",
      "\n",
      " Nadal p-vals = [1.0, 0.9504563163570096, 0.05222560692614206, 0.9967960498115387, 1.0, 0.9999916692902585, 2.5289916058991122e-05, 0.36786958621198623, 0.7730206755695463, 0.9999995313303345]\n",
      "\n"
     ]
    }
   ],
   "source": [
    "nadal_wins1 = greater_comparison(df1=nadal, df2=fed, lst=g_lst)[::2] + less_comparison(df1=nadal, df2=fed, lst=l_lst)[::2]\n",
    "nadal_pvals1 = greater_comparison(df1=nadal, df2=fed, lst=g_lst)[1::2] + less_comparison(df1=nadal, df2=fed, lst=l_lst)[1::2]\n",
    "print(f' Nadal Wins = {nadal_wins1}\\n')\n",
    "print(f' Nadal p-vals = {nadal_pvals1}\\n')"
   ]
  },
  {
   "cell_type": "code",
   "execution_count": 100,
   "metadata": {},
   "outputs": [
    {
     "data": {
      "text/html": [
       "<div>\n",
       "<style scoped>\n",
       "    .dataframe tbody tr th:only-of-type {\n",
       "        vertical-align: middle;\n",
       "    }\n",
       "\n",
       "    .dataframe tbody tr th {\n",
       "        vertical-align: top;\n",
       "    }\n",
       "\n",
       "    .dataframe thead th {\n",
       "        text-align: right;\n",
       "    }\n",
       "</style>\n",
       "<table border=\"1\" class=\"dataframe\">\n",
       "  <thead>\n",
       "    <tr style=\"text-align: right;\">\n",
       "      <th></th>\n",
       "      <th>Federer Wins</th>\n",
       "      <th>Nadal Wins</th>\n",
       "      <th>Total Trials</th>\n",
       "      <th>P-Value</th>\n",
       "      <th>Reject Null?</th>\n",
       "    </tr>\n",
       "  </thead>\n",
       "  <tbody>\n",
       "    <tr>\n",
       "      <th>Aces</th>\n",
       "      <td>379443.0</td>\n",
       "      <td>85617.0</td>\n",
       "      <td>465060.0</td>\n",
       "      <td>0.00000</td>\n",
       "      <td>Reject Null</td>\n",
       "    </tr>\n",
       "    <tr>\n",
       "      <th>Serve Points</th>\n",
       "      <td>244524.0</td>\n",
       "      <td>220536.0</td>\n",
       "      <td>465060.0</td>\n",
       "      <td>0.04956</td>\n",
       "      <td>Reject Null</td>\n",
       "    </tr>\n",
       "    <tr>\n",
       "      <th>1st Serve In</th>\n",
       "      <td>220722.5</td>\n",
       "      <td>244337.5</td>\n",
       "      <td>465060.0</td>\n",
       "      <td>0.94779</td>\n",
       "      <td>Fail to Reject Null</td>\n",
       "    </tr>\n",
       "    <tr>\n",
       "      <th>1st Serve Points Won</th>\n",
       "      <td>252314.0</td>\n",
       "      <td>212709.0</td>\n",
       "      <td>465023.0</td>\n",
       "      <td>0.00326</td>\n",
       "      <td>Reject Null</td>\n",
       "    </tr>\n",
       "    <tr>\n",
       "      <th>2nd Serve Points Won</th>\n",
       "      <td>292803.0</td>\n",
       "      <td>172260.0</td>\n",
       "      <td>465063.0</td>\n",
       "      <td>0.00000</td>\n",
       "      <td>Reject Null</td>\n",
       "    </tr>\n",
       "    <tr>\n",
       "      <th>Service Games</th>\n",
       "      <td>263752.5</td>\n",
       "      <td>201334.5</td>\n",
       "      <td>465087.0</td>\n",
       "      <td>0.00001</td>\n",
       "      <td>Reject Null</td>\n",
       "    </tr>\n",
       "    <tr>\n",
       "      <th>Break Points Saved</th>\n",
       "      <td>203418.0</td>\n",
       "      <td>261642.0</td>\n",
       "      <td>465060.0</td>\n",
       "      <td>0.99997</td>\n",
       "      <td>Fail to Reject Null</td>\n",
       "    </tr>\n",
       "    <tr>\n",
       "      <th>Wins</th>\n",
       "      <td>230960.0</td>\n",
       "      <td>234100.0</td>\n",
       "      <td>465060.0</td>\n",
       "      <td>0.63221</td>\n",
       "      <td>Fail to Reject Null</td>\n",
       "    </tr>\n",
       "    <tr>\n",
       "      <th>Double Faults</th>\n",
       "      <td>227241.0</td>\n",
       "      <td>237819.0</td>\n",
       "      <td>465060.0</td>\n",
       "      <td>0.22702</td>\n",
       "      <td>Fail to Reject Null</td>\n",
       "    </tr>\n",
       "    <tr>\n",
       "      <th>Break Points Faced</th>\n",
       "      <td>197077.0</td>\n",
       "      <td>267983.0</td>\n",
       "      <td>465060.0</td>\n",
       "      <td>0.00000</td>\n",
       "      <td>Reject Null</td>\n",
       "    </tr>\n",
       "  </tbody>\n",
       "</table>\n",
       "</div>"
      ],
      "text/plain": [
       "                      Federer Wins  Nadal Wins  Total Trials  P-Value  \\\n",
       "Aces                      379443.0     85617.0      465060.0  0.00000   \n",
       "Serve Points              244524.0    220536.0      465060.0  0.04956   \n",
       "1st Serve In              220722.5    244337.5      465060.0  0.94779   \n",
       "1st Serve Points Won      252314.0    212709.0      465023.0  0.00326   \n",
       "2nd Serve Points Won      292803.0    172260.0      465063.0  0.00000   \n",
       "Service Games             263752.5    201334.5      465087.0  0.00001   \n",
       "Break Points Saved        203418.0    261642.0      465060.0  0.99997   \n",
       "Wins                      230960.0    234100.0      465060.0  0.63221   \n",
       "Double Faults             227241.0    237819.0      465060.0  0.22702   \n",
       "Break Points Faced        197077.0    267983.0      465060.0  0.00000   \n",
       "\n",
       "                             Reject Null?  \n",
       "Aces                          Reject Null  \n",
       "Serve Points                  Reject Null  \n",
       "1st Serve In          Fail to Reject Null  \n",
       "1st Serve Points Won          Reject Null  \n",
       "2nd Serve Points Won          Reject Null  \n",
       "Service Games                 Reject Null  \n",
       "Break Points Saved    Fail to Reject Null  \n",
       "Wins                  Fail to Reject Null  \n",
       "Double Faults         Fail to Reject Null  \n",
       "Break Points Faced            Reject Null  "
      ]
     },
     "execution_count": 100,
     "metadata": {},
     "output_type": "execute_result"
    }
   ],
   "source": [
    "# ORDER OF LIST BELOW ['ace', 'svpt', '1stIn', '1stWon', '2ndWon', 'SvGms', 'bpSaved', 'win', 'df', 'bpFaced']\n",
    "# Fed <= Nadal\n",
    "\n",
    "total_comparisons = []\n",
    "for fed_v, nadal_v in zip(fed_wins1, nadal_wins1):\n",
    "    total_comparisons.append(fed_v + nadal_v)\n",
    "    \n",
    "data1 = {   \"Federer Wins\": [i for i in fed_wins1],\n",
    "            \"Nadal Wins\": [i for i in nadal_wins1],\n",
    "            \"Total Trials\": [i for i in total_comparisons],\n",
    "            \"P-Value\": [i.round(5) for i in fed_pvals1],\n",
    "            \"Reject Null?\": ['Reject Null' if p_val < alpha else 'Fail to Reject Null' for p_val in fed_pvals1]\n",
    "}\n",
    "fed_vs_nadal = pd.DataFrame(data1, index=['Aces', 'Serve Points', '1st Serve In', '1st Serve Points Won', '2nd Serve Points Won', 'Service Games', 'Break Points Saved', 'Wins', 'Double Faults', 'Break Points Faced'])\n",
    "fed_vs_nadal"
   ]
  },
  {
   "cell_type": "markdown",
   "metadata": {},
   "source": [
    "## Hypothesis 2:\n",
    "> $H_0$: Djokovic performs equally or worse than Federer in terms of the skills aces, serve points, 1st serve in, 1st serve points won, 2nd serve points won, number of serve games, number of break points saved, wins, double faults, and break points faced.\n",
    "\n",
    "> $H_A$: Djokovic performs better than Federer in terms of the skills aces, serve points, 1st serve in, 1st serve points won, 2nd serve points won, number of serve games, number of break points saved, wins, double faults, and break points faced."
   ]
  },
  {
   "cell_type": "code",
   "execution_count": 101,
   "metadata": {},
   "outputs": [
    {
     "name": "stdout",
     "output_type": "stream",
     "text": [
      " Djok wins = [156149.0, 247484.0, 261307.0, 241950.0, 218106.5, 236319.5, 273656.5, 257906.0, 281380.5, 283695.5]\n",
      "\n",
      " Djok p-vals = [1.0, 0.6310122536857776, 0.07151696994668345, 0.8542822035983488, 0.999984288289332, 0.9635899192923532, 0.0009279826877706439, 0.04913641767569531, 0.9999853245659177, 0.9999947248594356]\n",
      "\n"
     ]
    }
   ],
   "source": [
    "# Hypothesis: Djok performs equally or worse than Federer in ...\n",
    "# Get Djokovic wins & pvals\n",
    "\n",
    "djok_wins1 = greater_comparison(df1=djok, df2=fed, lst=g_lst)[::2] + less_comparison(df1=djok, df2=fed, lst=l_lst)[::2]\n",
    "djok_pvals1 = greater_comparison(df1=djok, df2=fed, lst=g_lst)[1::2] + less_comparison(df1=djok, df2=fed, lst=l_lst)[1::2]\n",
    "\n",
    "print(f' Djok wins = {djok_wins1}\\n')\n",
    "print(f' Djok p-vals = {djok_pvals1}\\n')"
   ]
  },
  {
   "cell_type": "code",
   "execution_count": 102,
   "metadata": {},
   "outputs": [
    {
     "name": "stdout",
     "output_type": "stream",
     "text": [
      " Fed Wins = [343959.0, 252624.0, 238801.0, 258078.0, 282155.5, 263785.5, 226451.5, 242202.0, 218727.5, 216412.5]\n",
      "\n",
      " Fed p-vals = [7.483743615841353e-35, 0.36903684188655095, 0.928500794476179, 0.1481424052302433, 1.4394885348384787e-05, 0.03645179802546156, 0.999072431789309, 0.9508849959289873, 1.4684041353944937e-05, 5.278328594977639e-06]\n",
      "\n"
     ]
    }
   ],
   "source": [
    "# Hypothesis: Djok performs equally or worse than Federer in ...\n",
    "# ONLY need to get Federer wins and (p_vals need to be filtered around)\n",
    "\n",
    "fed_wins2 = greater_comparison(df1=fed, df2=djok, lst=g_lst)[::2] + less_comparison(df1=fed, df2=djok, lst=l_lst)[::2]\n",
    "fed_pvals2 = greater_comparison(df1=fed, df2=djok, lst=g_lst)[1::2] + less_comparison(df1=fed, df2=djok, lst=l_lst)[1::2]\n",
    "\n",
    "print(f' Fed Wins = {fed_wins2}\\n')\n",
    "print(f' Fed p-vals = {fed_pvals2}\\n')"
   ]
  },
  {
   "cell_type": "code",
   "execution_count": 103,
   "metadata": {},
   "outputs": [
    {
     "data": {
      "text/html": [
       "<div>\n",
       "<style scoped>\n",
       "    .dataframe tbody tr th:only-of-type {\n",
       "        vertical-align: middle;\n",
       "    }\n",
       "\n",
       "    .dataframe tbody tr th {\n",
       "        vertical-align: top;\n",
       "    }\n",
       "\n",
       "    .dataframe thead th {\n",
       "        text-align: right;\n",
       "    }\n",
       "</style>\n",
       "<table border=\"1\" class=\"dataframe\">\n",
       "  <thead>\n",
       "    <tr style=\"text-align: right;\">\n",
       "      <th></th>\n",
       "      <th>Djokovic Wins</th>\n",
       "      <th>Federer Wins</th>\n",
       "      <th>Total Trials</th>\n",
       "      <th>P-Value</th>\n",
       "      <th>Reject Null?</th>\n",
       "    </tr>\n",
       "  </thead>\n",
       "  <tbody>\n",
       "    <tr>\n",
       "      <th>Aces</th>\n",
       "      <td>156149.0</td>\n",
       "      <td>343959.0</td>\n",
       "      <td>500108.0</td>\n",
       "      <td>1.00000</td>\n",
       "      <td>Fail to Reject Null</td>\n",
       "    </tr>\n",
       "    <tr>\n",
       "      <th>Serve Points</th>\n",
       "      <td>247484.0</td>\n",
       "      <td>252624.0</td>\n",
       "      <td>500108.0</td>\n",
       "      <td>0.63101</td>\n",
       "      <td>Fail to Reject Null</td>\n",
       "    </tr>\n",
       "    <tr>\n",
       "      <th>1st Serve In</th>\n",
       "      <td>261307.0</td>\n",
       "      <td>238801.0</td>\n",
       "      <td>500108.0</td>\n",
       "      <td>0.07152</td>\n",
       "      <td>Fail to Reject Null</td>\n",
       "    </tr>\n",
       "    <tr>\n",
       "      <th>1st Serve Points Won</th>\n",
       "      <td>241950.0</td>\n",
       "      <td>258078.0</td>\n",
       "      <td>500028.0</td>\n",
       "      <td>0.85428</td>\n",
       "      <td>Fail to Reject Null</td>\n",
       "    </tr>\n",
       "    <tr>\n",
       "      <th>2nd Serve Points Won</th>\n",
       "      <td>218106.5</td>\n",
       "      <td>282155.5</td>\n",
       "      <td>500262.0</td>\n",
       "      <td>0.99998</td>\n",
       "      <td>Fail to Reject Null</td>\n",
       "    </tr>\n",
       "    <tr>\n",
       "      <th>Service Games</th>\n",
       "      <td>236319.5</td>\n",
       "      <td>263785.5</td>\n",
       "      <td>500105.0</td>\n",
       "      <td>0.96359</td>\n",
       "      <td>Fail to Reject Null</td>\n",
       "    </tr>\n",
       "    <tr>\n",
       "      <th>Break Points Saved</th>\n",
       "      <td>273656.5</td>\n",
       "      <td>226451.5</td>\n",
       "      <td>500108.0</td>\n",
       "      <td>0.00093</td>\n",
       "      <td>Reject Null</td>\n",
       "    </tr>\n",
       "    <tr>\n",
       "      <th>Wins</th>\n",
       "      <td>257906.0</td>\n",
       "      <td>242202.0</td>\n",
       "      <td>500108.0</td>\n",
       "      <td>0.04914</td>\n",
       "      <td>Reject Null</td>\n",
       "    </tr>\n",
       "    <tr>\n",
       "      <th>Double Faults</th>\n",
       "      <td>281380.5</td>\n",
       "      <td>218727.5</td>\n",
       "      <td>500108.0</td>\n",
       "      <td>0.99999</td>\n",
       "      <td>Fail to Reject Null</td>\n",
       "    </tr>\n",
       "    <tr>\n",
       "      <th>Break Points Faced</th>\n",
       "      <td>283695.5</td>\n",
       "      <td>216412.5</td>\n",
       "      <td>500108.0</td>\n",
       "      <td>0.99999</td>\n",
       "      <td>Fail to Reject Null</td>\n",
       "    </tr>\n",
       "  </tbody>\n",
       "</table>\n",
       "</div>"
      ],
      "text/plain": [
       "                      Djokovic Wins  Federer Wins  Total Trials  P-Value  \\\n",
       "Aces                       156149.0      343959.0      500108.0  1.00000   \n",
       "Serve Points               247484.0      252624.0      500108.0  0.63101   \n",
       "1st Serve In               261307.0      238801.0      500108.0  0.07152   \n",
       "1st Serve Points Won       241950.0      258078.0      500028.0  0.85428   \n",
       "2nd Serve Points Won       218106.5      282155.5      500262.0  0.99998   \n",
       "Service Games              236319.5      263785.5      500105.0  0.96359   \n",
       "Break Points Saved         273656.5      226451.5      500108.0  0.00093   \n",
       "Wins                       257906.0      242202.0      500108.0  0.04914   \n",
       "Double Faults              281380.5      218727.5      500108.0  0.99999   \n",
       "Break Points Faced         283695.5      216412.5      500108.0  0.99999   \n",
       "\n",
       "                             Reject Null?  \n",
       "Aces                  Fail to Reject Null  \n",
       "Serve Points          Fail to Reject Null  \n",
       "1st Serve In          Fail to Reject Null  \n",
       "1st Serve Points Won  Fail to Reject Null  \n",
       "2nd Serve Points Won  Fail to Reject Null  \n",
       "Service Games         Fail to Reject Null  \n",
       "Break Points Saved            Reject Null  \n",
       "Wins                          Reject Null  \n",
       "Double Faults         Fail to Reject Null  \n",
       "Break Points Faced    Fail to Reject Null  "
      ]
     },
     "execution_count": 103,
     "metadata": {},
     "output_type": "execute_result"
    }
   ],
   "source": [
    "total_comparisons2 = []\n",
    "for djok_v, fed_v in zip(djok_wins1, fed_wins2):\n",
    "    total_comparisons2.append(djok_v + fed_v)\n",
    "    \n",
    "data2 = {   \"Djokovic Wins\": [i for i in djok_wins1],\n",
    "            \"Federer Wins\": [i for i in fed_wins2],\n",
    "            \"Total Trials\": [i for i in total_comparisons2],\n",
    "            \"P-Value\": [i.round(5) for i in djok_pvals1],\n",
    "            \"Reject Null?\": ['Reject Null' if p_val < alpha else 'Fail to Reject Null' for p_val in djok_pvals1]\n",
    "}\n",
    "djok_vs_fed = pd.DataFrame(data2, index=['Aces', 'Serve Points', '1st Serve In', '1st Serve Points Won', '2nd Serve Points Won', 'Service Games', 'Break Points Saved', 'Wins', 'Double Faults', 'Break Points Faced'])\n",
    "djok_vs_fed"
   ]
  },
  {
   "cell_type": "markdown",
   "metadata": {},
   "source": [
    "Well, I found this surprising, given my initial assumption that Djokovic would be the best this decade. I decided to make a few boxplots as a sanity check that these pvalues actually make sense."
   ]
  },
  {
   "cell_type": "code",
   "execution_count": 105,
   "metadata": {},
   "outputs": [
    {
     "data": {
      "text/plain": [
       "(-1.0, 17.5)"
      ]
     },
     "execution_count": 105,
     "metadata": {},
     "output_type": "execute_result"
    },
    {
     "data": {
      "image/png": "[encoded data removed]",
      "text/plain": [
       "<Figure size 864x432 with 1 Axes>"
      ]
     },
     "metadata": {},
     "output_type": "display_data"
    }
   ],
   "source": [
    "red_square = dict(markerfacecolor='r', marker='s')\n",
    "fig, ax = plt.subplots(1, figsize=(12, 6))\n",
    "ax.boxplot([djok.bpSaved, fed.bpSaved], patch_artist=True, notch=True, flierprops=red_square, vert=False); #, showfliers=False);\n",
    "ax.set_yticklabels(['Djokovic', 'Federer'])\n",
    "ax.axvline(djok.bpSaved.median())\n",
    "ax.set_title('Federer vs Djokovic Break Points Saved', fontsize=18)\n",
    "ax.set_xlabel('Break Points Saved per Match')\n",
    "ax.set_xlim(-1, 17.5)\n",
    "#fig.savefig('images/h2hbpSaved')"
   ]
  },
  {
   "cell_type": "code",
   "execution_count": 106,
   "metadata": {},
   "outputs": [
    {
     "data": {
      "image/png": "[encoded data removed]",
      "text/plain": [
       "<Figure size 864x432 with 1 Axes>"
      ]
     },
     "metadata": {},
     "output_type": "display_data"
    }
   ],
   "source": [
    "fig, ax = plt.subplots(figsize=(12, 6))\n",
    "ax.boxplot([djok.ace, fed.ace], patch_artist=True, notch=True, flierprops=red_square, vert=False);\n",
    "ax.set_yticklabels(['Djokovic', 'Federer'])\n",
    "ax.set_title('Federer vs Djokovic Aces', fontsize=18)\n",
    "ax.set_xlabel('Aces per Match')\n",
    "fig.savefig('images/h2haces')"
   ]
  },
  {
   "cell_type": "markdown",
   "metadata": {},
   "source": [
    "Looks like the pvaules do make sense...well how can this be? Looked into Federer's and Djokovic's head to head record. In addition I realized that all the stats are centered around serving which is Federer's strongest attribute."
   ]
  },
  {
   "cell_type": "code",
   "execution_count": 107,
   "metadata": {},
   "outputs": [],
   "source": [
    "# For Djokovic...\n",
    "# Head to head record\n",
    "djok_fed_h2h = len(copy_tennis[(copy_tennis['winner_name'] == 'Novak Djokovic') & (copy_tennis['loser_name'] == 'Roger Federer')])\n",
    "# Head to head record in majors\n",
    "djok_h2h_major = len(copy_tennis[(copy_tennis['winner_name'] == 'Novak Djokovic') & (copy_tennis['loser_name'] == 'Roger Federer') & (copy_tennis['tourney_level'] == 'G')])\n",
    "# Head to head record in major finals\n",
    "djok_h2h_final = len(copy_tennis[(copy_tennis['winner_name'] == 'Novak Djokovic') & (copy_tennis['loser_name'] == 'Roger Federer') & (copy_tennis['tourney_level'] == 'G') & (copy_tennis['round'] == 'F')])"
   ]
  },
  {
   "cell_type": "code",
   "execution_count": 109,
   "metadata": {},
   "outputs": [],
   "source": [
    "# For Federer...\n",
    "fed_djok_h2h = len(copy_tennis[(copy_tennis['winner_name'] == 'Roger Federer') & (copy_tennis['loser_name'] == 'Novak Djokovic')])\n",
    "fed_h2h_major = len(copy_tennis[(copy_tennis['winner_name'] == 'Roger Federer') & (copy_tennis['loser_name'] == 'Novak Djokovic') & (copy_tennis['tourney_level'] == 'G')])\n",
    "fed_h2h_final = len(copy_tennis[(copy_tennis['winner_name'] == 'Roger Federer') & (copy_tennis['loser_name'] == 'Novak Djokovic') & (copy_tennis['tourney_level'] == 'G') & (copy_tennis['round'] == 'F')])"
   ]
  },
  {
   "cell_type": "code",
   "execution_count": 110,
   "metadata": {},
   "outputs": [
    {
     "data": {
      "image/png": "[encoded data removed]",
      "text/plain": [
       "<Figure size 864x432 with 1 Axes>"
      ]
     },
     "metadata": {},
     "output_type": "display_data"
    }
   ],
   "source": [
    "labels = ['All Matches', 'Major Tournaments', 'Major Tournament Titles']\n",
    "fed_h2h = [fed_djok_h2h, fed_h2h_major, fed_h2h_final]\n",
    "djok_h2h = [djok_fed_h2h, djok_h2h_major, djok_h2h_final]\n",
    "\n",
    "x = np.arange(len(labels))\n",
    "width = 0.2\n",
    "\n",
    "fig, ax = plt.subplots(figsize=(12, 6))\n",
    "rects1 = ax.bar(x - width/2, djok_h2h, width, label='Djokovic', color='tab:purple', edgecolor='black')\n",
    "rects2 = ax.bar(x + width/2, fed_h2h, width, label='Federer', color='tab:red', edgecolor='black')\n",
    "\n",
    "ax.set_ylabel('Num of Wins', fontsize=16)\n",
    "ax.set_xlabel('Situation of Match', fontsize=16)\n",
    "ax.set_title('Djokovic & Federer Head to Head (2010 - 2019)', fontsize=18)\n",
    "ax.set_xticks(x)\n",
    "ax.set_xticklabels(labels)\n",
    "ax.legend()\n",
    "\n",
    "ax.bar_label(rects1, padding=2)\n",
    "ax.bar_label(rects2, padding=2)\n",
    "#ax.bar_label(rects3, padding=3)\n",
    "\n",
    "fig.tight_layout()\n",
    "#fig.savefig('images/djok_fed_h2h.png')"
   ]
  },
  {
   "cell_type": "markdown",
   "metadata": {},
   "source": [
    "## Test 3:\n",
    "> $H_0$: Nadal performs equally or worse than Djokovic in terms of the skills aces, serve points, 1st serve in, 1st serve points won, 2nd serve points won, number of serve games, number of break points saved, wins, double faults, and break points faced.\n",
    "\n",
    "> $H_A$: Nadal performs better than Djokovic in terms of the skills aces, serve points, 1st serve in, 1st serve points won, 2nd serve points won, number of serve games, number of break points saved, wins, double faults, and break points faced."
   ]
  },
  {
   "cell_type": "code",
   "execution_count": 111,
   "metadata": {},
   "outputs": [
    {
     "name": "stdout",
     "output_type": "stream",
     "text": [
      " Nadal wins = [169328.0, 245382.5, 257343.0, 242303.5, 221040.5, 235798.5, 263740.5, 249680.0, 229871.5, 259655.0]\n",
      "\n",
      " Nadal p-vals = [1.0, 0.912580173872946, 0.4313232345910801, 0.9600294723744962, 0.999996200447824, 0.9952378721548265, 0.1582784178318128, 0.9061091786769204, 0.00031432057596115023, 0.6811978864960235]\n",
      "\n"
     ]
    }
   ],
   "source": [
    "# Hypothesis: Nadal performs equally or worse than Djok in ...\n",
    "# Get Nadal wins & pvals\n",
    "\n",
    "nadal_wins2 = greater_comparison(df1=nadal, df2=djok, lst=g_lst)[::2] + less_comparison(df1=nadal, df2=djok, lst=l_lst)[::2]\n",
    "nadal_pvals2 = greater_comparison(df1=nadal, df2=djok, lst=g_lst)[1::2] + less_comparison(df1=nadal, df2=djok, lst=l_lst)[1::2]\n",
    "\n",
    "print(f' Nadal wins = {nadal_wins2}\\n')\n",
    "print(f' Nadal p-vals = {nadal_pvals2}\\n')"
   ]
  },
  {
   "cell_type": "code",
   "execution_count": 112,
   "metadata": {},
   "outputs": [
    {
     "name": "stdout",
     "output_type": "stream",
     "text": [
      " Djok Wins = [342652.0, 266597.5, 254637.0, 269593.5, 290880.5, 276181.5, 248239.5, 262300.0, 282108.5, 252325.0]\n",
      "\n",
      " Djok p-vals = [3.5350966020355915e-29, 0.08744015334906524, 0.5687270379051637, 0.04090477796379854, 3.9386141411773876e-06, 0.004763905835096724, 0.8417528021007505, 0.09392580062023248, 0.9996858306021679, 0.3188479989978985]\n",
      "\n"
     ]
    }
   ],
   "source": [
    "# Hypothesis: Nadal performs equally or worse than Djok in ...\n",
    "# ONLY need to get Djok wins and (p_vals need to be filtered around)\n",
    "\n",
    "djok_wins2 = greater_comparison(df1=djok, df2=nadal, lst=g_lst)[::2] + less_comparison(df1=djok, df2=nadal, lst=l_lst)[::2]\n",
    "djok_pvals2 = greater_comparison(df1=djok, df2=nadal, lst=g_lst)[1::2] + less_comparison(df1=djok, df2=nadal, lst=l_lst)[1::2]\n",
    "\n",
    "print(f' Djok Wins = {djok_wins2}\\n')\n",
    "print(f' Djok p-vals = {djok_pvals2}\\n')"
   ]
  },
  {
   "cell_type": "code",
   "execution_count": 113,
   "metadata": {},
   "outputs": [
    {
     "data": {
      "text/html": [
       "<div>\n",
       "<style scoped>\n",
       "    .dataframe tbody tr th:only-of-type {\n",
       "        vertical-align: middle;\n",
       "    }\n",
       "\n",
       "    .dataframe tbody tr th {\n",
       "        vertical-align: top;\n",
       "    }\n",
       "\n",
       "    .dataframe thead th {\n",
       "        text-align: right;\n",
       "    }\n",
       "</style>\n",
       "<table border=\"1\" class=\"dataframe\">\n",
       "  <thead>\n",
       "    <tr style=\"text-align: right;\">\n",
       "      <th></th>\n",
       "      <th>Nadal Wins</th>\n",
       "      <th>Djokovic Wins</th>\n",
       "      <th>Total Trials</th>\n",
       "      <th>P-Value</th>\n",
       "      <th>Reject Null?</th>\n",
       "    </tr>\n",
       "  </thead>\n",
       "  <tbody>\n",
       "    <tr>\n",
       "      <th>Aces</th>\n",
       "      <td>169328.0</td>\n",
       "      <td>342652.0</td>\n",
       "      <td>511980.0</td>\n",
       "      <td>1.00000</td>\n",
       "      <td>Fail to Reject Null</td>\n",
       "    </tr>\n",
       "    <tr>\n",
       "      <th>Serve Points</th>\n",
       "      <td>245382.5</td>\n",
       "      <td>266597.5</td>\n",
       "      <td>511980.0</td>\n",
       "      <td>0.91258</td>\n",
       "      <td>Fail to Reject Null</td>\n",
       "    </tr>\n",
       "    <tr>\n",
       "      <th>1st Serve In</th>\n",
       "      <td>257343.0</td>\n",
       "      <td>254637.0</td>\n",
       "      <td>511980.0</td>\n",
       "      <td>0.43132</td>\n",
       "      <td>Fail to Reject Null</td>\n",
       "    </tr>\n",
       "    <tr>\n",
       "      <th>1st Serve Points Won</th>\n",
       "      <td>242303.5</td>\n",
       "      <td>269593.5</td>\n",
       "      <td>511897.0</td>\n",
       "      <td>0.96003</td>\n",
       "      <td>Fail to Reject Null</td>\n",
       "    </tr>\n",
       "    <tr>\n",
       "      <th>2nd Serve Points Won</th>\n",
       "      <td>221040.5</td>\n",
       "      <td>290880.5</td>\n",
       "      <td>511921.0</td>\n",
       "      <td>1.00000</td>\n",
       "      <td>Fail to Reject Null</td>\n",
       "    </tr>\n",
       "    <tr>\n",
       "      <th>Service Games</th>\n",
       "      <td>235798.5</td>\n",
       "      <td>276181.5</td>\n",
       "      <td>511980.0</td>\n",
       "      <td>0.99524</td>\n",
       "      <td>Fail to Reject Null</td>\n",
       "    </tr>\n",
       "    <tr>\n",
       "      <th>Break Points Saved</th>\n",
       "      <td>263740.5</td>\n",
       "      <td>248239.5</td>\n",
       "      <td>511980.0</td>\n",
       "      <td>0.15828</td>\n",
       "      <td>Fail to Reject Null</td>\n",
       "    </tr>\n",
       "    <tr>\n",
       "      <th>Wins</th>\n",
       "      <td>249680.0</td>\n",
       "      <td>262300.0</td>\n",
       "      <td>511980.0</td>\n",
       "      <td>0.90611</td>\n",
       "      <td>Fail to Reject Null</td>\n",
       "    </tr>\n",
       "    <tr>\n",
       "      <th>Double Faults</th>\n",
       "      <td>229871.5</td>\n",
       "      <td>282108.5</td>\n",
       "      <td>511980.0</td>\n",
       "      <td>0.00031</td>\n",
       "      <td>Reject Null</td>\n",
       "    </tr>\n",
       "    <tr>\n",
       "      <th>Break Points Faced</th>\n",
       "      <td>259655.0</td>\n",
       "      <td>252325.0</td>\n",
       "      <td>511980.0</td>\n",
       "      <td>0.68120</td>\n",
       "      <td>Fail to Reject Null</td>\n",
       "    </tr>\n",
       "  </tbody>\n",
       "</table>\n",
       "</div>"
      ],
      "text/plain": [
       "                      Nadal Wins  Djokovic Wins  Total Trials  P-Value  \\\n",
       "Aces                    169328.0       342652.0      511980.0  1.00000   \n",
       "Serve Points            245382.5       266597.5      511980.0  0.91258   \n",
       "1st Serve In            257343.0       254637.0      511980.0  0.43132   \n",
       "1st Serve Points Won    242303.5       269593.5      511897.0  0.96003   \n",
       "2nd Serve Points Won    221040.5       290880.5      511921.0  1.00000   \n",
       "Service Games           235798.5       276181.5      511980.0  0.99524   \n",
       "Break Points Saved      263740.5       248239.5      511980.0  0.15828   \n",
       "Wins                    249680.0       262300.0      511980.0  0.90611   \n",
       "Double Faults           229871.5       282108.5      511980.0  0.00031   \n",
       "Break Points Faced      259655.0       252325.0      511980.0  0.68120   \n",
       "\n",
       "                             Reject Null?  \n",
       "Aces                  Fail to Reject Null  \n",
       "Serve Points          Fail to Reject Null  \n",
       "1st Serve In          Fail to Reject Null  \n",
       "1st Serve Points Won  Fail to Reject Null  \n",
       "2nd Serve Points Won  Fail to Reject Null  \n",
       "Service Games         Fail to Reject Null  \n",
       "Break Points Saved    Fail to Reject Null  \n",
       "Wins                  Fail to Reject Null  \n",
       "Double Faults                 Reject Null  \n",
       "Break Points Faced    Fail to Reject Null  "
      ]
     },
     "execution_count": 113,
     "metadata": {},
     "output_type": "execute_result"
    }
   ],
   "source": [
    "total_comparisons3 = []\n",
    "for nadal_v, djok_v in zip(nadal_wins2, djok_wins2):\n",
    "    total_comparisons3.append(nadal_v + djok_v)\n",
    "    \n",
    "data3 = {   \"Nadal Wins\": [i for i in nadal_wins2],\n",
    "            \"Djokovic Wins\": [i for i in djok_wins2],\n",
    "            \"Total Trials\": [i for i in total_comparisons3],\n",
    "            \"P-Value\": [i.round(5) for i in nadal_pvals2],\n",
    "            \"Reject Null?\": ['Reject Null' if p_val < alpha else 'Fail to Reject Null' for p_val in nadal_pvals2]\n",
    "}\n",
    "nadal_vs_djok = pd.DataFrame(data3, index=['Aces', 'Serve Points', '1st Serve In', '1st Serve Points Won', '2nd Serve Points Won', 'Service Games', 'Break Points Saved', 'Wins', 'Double Faults', 'Break Points Faced'])\n",
    "nadal_vs_djok"
   ]
  },
  {
   "cell_type": "markdown",
   "metadata": {},
   "source": [
    "### Final Order Ranking:\n",
    "\n",
    "1. Roger Federer\n",
    "2. Novak Djokovic\n",
    "3. Rafael Nadal"
   ]
  },
  {
   "cell_type": "code",
   "execution_count": null,
   "metadata": {},
   "outputs": [],
   "source": []
  }
 ],
 "metadata": {
  "kernelspec": {
   "display_name": "Python 3",
   "language": "python",
   "name": "python3"
  },
  "language_info": {
   "codemirror_mode": {
    "name": "ipython",
    "version": 3
   },
   "file_extension": ".py",
   "mimetype": "text/x-python",
   "name": "python",
   "nbconvert_exporter": "python",
   "pygments_lexer": "ipython3",
   "version": "3.7.9"
  }
 },
 "nbformat": 4,
 "nbformat_minor": 4
}
