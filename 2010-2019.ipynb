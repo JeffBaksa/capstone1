{
 "cells": [
  {
   "cell_type": "code",
   "execution_count": 501,
   "metadata": {},
   "outputs": [],
   "source": [
    "import pandas as pd\n",
    "import numpy as np\n",
    "import scipy.stats as stats\n",
    "import matplotlib.pyplot as plt\n",
    "from matplotlib import cm\n",
    "import seaborn as sns\n",
    "plt.style.use('ggplot')"
   ]
  },
  {
   "cell_type": "code",
   "execution_count": 3,
   "metadata": {},
   "outputs": [],
   "source": [
    "tennis_2019 = pd.read_csv('tennis_atp/atp_matches_2019.csv', delimiter=',')\n",
    "tennis_2018 = pd.read_csv('tennis_atp/atp_matches_2018.csv', delimiter=',')\n",
    "tennis_2017 = pd.read_csv('tennis_atp/atp_matches_2017.csv', delimiter=',')\n",
    "tennis_2016 = pd.read_csv('tennis_atp/atp_matches_2016.csv', delimiter=',')\n",
    "tennis_2015 = pd.read_csv('tennis_atp/atp_matches_2015.csv', delimiter=',')\n",
    "tennis_2014 = pd.read_csv('tennis_atp/atp_matches_2014.csv', delimiter=',')\n",
    "tennis_2013 = pd.read_csv('tennis_atp/atp_matches_2013.csv', delimiter=',')\n",
    "tennis_2012 = pd.read_csv('tennis_atp/atp_matches_2012.csv', delimiter=',')\n",
    "tennis_2011 = pd.read_csv('tennis_atp/atp_matches_2011.csv', delimiter=',')\n",
    "tennis_2010 = pd.read_csv('tennis_atp/atp_matches_2010.csv', delimiter=',')"
   ]
  },
  {
   "cell_type": "code",
   "execution_count": 4,
   "metadata": {},
   "outputs": [],
   "source": [
    "copy_tennis_2019 = tennis_2019.copy()\n",
    "copy_tennis_2018 = tennis_2018.copy()\n",
    "copy_tennis_2017 = tennis_2017.copy()\n",
    "copy_tennis_2016 = tennis_2016.copy()\n",
    "copy_tennis_2015 = tennis_2015.copy()\n",
    "copy_tennis_2014 = tennis_2014.copy()\n",
    "copy_tennis_2013 = tennis_2013.copy()\n",
    "copy_tennis_2012 = tennis_2012.copy()\n",
    "copy_tennis_2011 = tennis_2011.copy()\n",
    "copy_tennis_2010 = tennis_2010.copy()"
   ]
  },
  {
   "cell_type": "code",
   "execution_count": 6,
   "metadata": {},
   "outputs": [],
   "source": [
    "final_tennis = pd.concat([copy_tennis_2019, copy_tennis_2018, copy_tennis_2017, copy_tennis_2016, copy_tennis_2015, copy_tennis_2014, copy_tennis_2013, copy_tennis_2012, copy_tennis_2011, copy_tennis_2010], axis = 0, join='inner').sort_index()\n",
    "copy_tennis = final_tennis.copy()"
   ]
  },
  {
   "cell_type": "code",
   "execution_count": 7,
   "metadata": {},
   "outputs": [
    {
     "data": {
      "text/plain": [
       "Index(['tourney_id', 'tourney_name', 'surface', 'draw_size', 'tourney_level',\n",
       "       'tourney_date', 'match_num', 'winner_id', 'winner_seed', 'winner_entry',\n",
       "       'winner_name', 'winner_hand', 'winner_ht', 'winner_ioc', 'winner_age',\n",
       "       'loser_id', 'loser_seed', 'loser_entry', 'loser_name', 'loser_hand',\n",
       "       'loser_ht', 'loser_ioc', 'loser_age', 'score', 'best_of', 'round',\n",
       "       'minutes', 'w_ace', 'w_df', 'w_svpt', 'w_1stIn', 'w_1stWon', 'w_2ndWon',\n",
       "       'w_SvGms', 'w_bpSaved', 'w_bpFaced', 'l_ace', 'l_df', 'l_svpt',\n",
       "       'l_1stIn', 'l_1stWon', 'l_2ndWon', 'l_SvGms', 'l_bpSaved', 'l_bpFaced',\n",
       "       'winner_rank', 'winner_rank_points', 'loser_rank', 'loser_rank_points'],\n",
       "      dtype='object')"
      ]
     },
     "execution_count": 7,
     "metadata": {},
     "output_type": "execute_result"
    }
   ],
   "source": [
    "copy_tennis.columns"
   ]
  },
  {
   "cell_type": "markdown",
   "metadata": {},
   "source": [
    "# Creating New Df"
   ]
  },
  {
   "cell_type": "code",
   "execution_count": 8,
   "metadata": {},
   "outputs": [],
   "source": [
    "wins_tennis = copy_tennis.drop(['loser_id', 'loser_seed', 'loser_entry', 'loser_name', 'loser_hand', 'loser_ht', 'loser_ioc', 'loser_age', \n",
    "                                        'l_ace', 'l_df', 'l_svpt', 'l_1stIn', 'l_1stWon', 'l_2ndWon', 'l_SvGms', 'l_bpSaved', 'l_bpFaced', 'loser_rank', \n",
    "                                'loser_rank_points'], axis=1).copy()"
   ]
  },
  {
   "cell_type": "code",
   "execution_count": 9,
   "metadata": {},
   "outputs": [],
   "source": [
    "wins_tennis['win'] = 1"
   ]
  },
  {
   "cell_type": "code",
   "execution_count": 10,
   "metadata": {},
   "outputs": [
    {
     "data": {
      "text/plain": [
       "(29340, 31)"
      ]
     },
     "execution_count": 10,
     "metadata": {},
     "output_type": "execute_result"
    }
   ],
   "source": [
    "wins_tennis.shape"
   ]
  },
  {
   "cell_type": "code",
   "execution_count": 11,
   "metadata": {},
   "outputs": [
    {
     "data": {
      "text/plain": [
       "Index(['tourney_id', 'tourney_name', 'surface', 'draw_size', 'tourney_level',\n",
       "       'tourney_date', 'match_num', 'winner_id', 'winner_seed', 'winner_entry',\n",
       "       'winner_name', 'winner_hand', 'winner_ht', 'winner_ioc', 'winner_age',\n",
       "       'score', 'best_of', 'round', 'minutes', 'w_ace', 'w_df', 'w_svpt',\n",
       "       'w_1stIn', 'w_1stWon', 'w_2ndWon', 'w_SvGms', 'w_bpSaved', 'w_bpFaced',\n",
       "       'winner_rank', 'winner_rank_points', 'win'],\n",
       "      dtype='object')"
      ]
     },
     "execution_count": 11,
     "metadata": {},
     "output_type": "execute_result"
    }
   ],
   "source": [
    "wins_tennis.columns = ['tourney_id', 'tourney_name', 'surface', 'draw_size', 'tourney_level',\n",
    "       'tourney_date', 'match_num', 'winner_id', 'winner_seed', 'winner_entry',\n",
    "       'winner_name', 'winner_hand', 'winner_ht', 'winner_ioc', 'winner_age',\n",
    "       'score', 'best_of', 'round', 'minutes', 'w_ace', 'w_df', 'w_svpt',\n",
    "       'w_1stIn', 'w_1stWon', 'w_2ndWon', 'w_SvGms', 'w_bpSaved', 'w_bpFaced',\n",
    "       'winner_rank', 'winner_rank_points', 'win']\n",
    "\n",
    "wins_tennis.columns"
   ]
  },
  {
   "cell_type": "code",
   "execution_count": 12,
   "metadata": {},
   "outputs": [],
   "source": [
    "loss_tennis = copy_tennis.drop(['winner_id', 'winner_seed', 'winner_entry',\n",
    "       'winner_name', 'winner_hand', 'winner_ht', 'winner_ioc', 'winner_age', 'w_ace', 'w_df', 'w_svpt', 'w_1stIn', 'w_1stWon', 'w_2ndWon',\n",
    "       'w_SvGms', 'w_bpSaved', 'w_bpFaced', 'winner_rank', 'winner_rank_points'], axis=1).copy()"
   ]
  },
  {
   "cell_type": "code",
   "execution_count": 13,
   "metadata": {},
   "outputs": [],
   "source": [
    "loss_tennis['win'] = 0"
   ]
  },
  {
   "cell_type": "code",
   "execution_count": 14,
   "metadata": {},
   "outputs": [
    {
     "data": {
      "text/plain": [
       "Index(['tourney_id', 'tourney_name', 'surface', 'draw_size', 'tourney_level',\n",
       "       'tourney_date', 'match_num', 'loser_id', 'loser_seed', 'loser_entry',\n",
       "       'loser_name', 'loser_hand', 'loser_ht', 'loser_ioc', 'loser_age',\n",
       "       'score', 'best_of', 'round', 'minutes', 'l_ace', 'l_df', 'l_svpt',\n",
       "       'l_1stIn', 'l_1stWon', 'l_2ndWon', 'l_SvGms', 'l_bpSaved', 'l_bpFaced',\n",
       "       'loser_rank', 'loser_rank_points', 'win'],\n",
       "      dtype='object')"
      ]
     },
     "execution_count": 14,
     "metadata": {},
     "output_type": "execute_result"
    }
   ],
   "source": [
    "loss_tennis.columns"
   ]
  },
  {
   "cell_type": "code",
   "execution_count": 15,
   "metadata": {},
   "outputs": [
    {
     "data": {
      "text/plain": [
       "(29340, 31)"
      ]
     },
     "execution_count": 15,
     "metadata": {},
     "output_type": "execute_result"
    }
   ],
   "source": [
    "loss_tennis.shape"
   ]
  },
  {
   "cell_type": "code",
   "execution_count": 16,
   "metadata": {},
   "outputs": [
    {
     "data": {
      "text/plain": [
       "Index(['tourney_id', 'tourney_name', 'surface', 'drasize', 'tourney_level',\n",
       "       'tourney_date', 'match_num', 'id', 'seed', 'entry', 'name', 'hand',\n",
       "       'ht', 'ioc', 'age', 'score', 'best_of', 'round', 'minutes', 'ace', 'df',\n",
       "       'svpt', '1stIn', '1stWon', '2ndWon', 'SvGms', 'bpSaved', 'bpFaced',\n",
       "       'rank', 'rank_points', 'win'],\n",
       "      dtype='object')"
      ]
     },
     "execution_count": 16,
     "metadata": {},
     "output_type": "execute_result"
    }
   ],
   "source": [
    "wins_tennis.columns = [i.replace('w_', '').replace('winner_', '') for i in wins_tennis.columns]\n",
    "wins_tennis.columns"
   ]
  },
  {
   "cell_type": "code",
   "execution_count": 17,
   "metadata": {},
   "outputs": [
    {
     "data": {
      "text/plain": [
       "Index(['tourney_id', 'tourney_name', 'surface', 'drasize', 'tourney_level',\n",
       "       'tourney_date', 'match_num', 'id', 'seed', 'entry', 'name', 'hand',\n",
       "       'ht', 'ioc', 'age', 'score', 'best_of', 'round', 'minutes', 'ace', 'df',\n",
       "       'svpt', '1stIn', '1stWon', '2ndWon', 'SvGms', 'bpSaved', 'bpFaced',\n",
       "       'rank', 'rank_points', 'win'],\n",
       "      dtype='object')"
      ]
     },
     "execution_count": 17,
     "metadata": {},
     "output_type": "execute_result"
    }
   ],
   "source": [
    "loss_tennis.columns = [i.replace('w_', '').replace('winner_', '') for i in wins_tennis.columns]\n",
    "loss_tennis.columns"
   ]
  },
  {
   "cell_type": "code",
   "execution_count": 18,
   "metadata": {},
   "outputs": [
    {
     "data": {
      "text/plain": [
       "name\n",
       "Abd Hazli Bin Zainuddin         NaN\n",
       "Abdulhameed Alshatti            NaN\n",
       "Abdulhamid Mubarak         0.000000\n",
       "Abdulla Hajji              0.000000\n",
       "Abdullah Maqdas            2.500000\n",
       "                             ...   \n",
       "Zdenek Kolar               2.000000\n",
       "Ze Zhang                   4.513514\n",
       "Zhe Li                     3.642857\n",
       "Zhizhen Zhang              6.833333\n",
       "Zsombor Piros              6.000000\n",
       "Name: ace, Length: 1271, dtype: float64"
      ]
     },
     "execution_count": 18,
     "metadata": {},
     "output_type": "execute_result"
    }
   ],
   "source": [
    "con_tennis = pd.concat([wins_tennis, loss_tennis])\n",
    "con_tennis.groupby(['name']).mean()['ace']"
   ]
  },
  {
   "cell_type": "markdown",
   "metadata": {},
   "source": [
    "### Replace NaN with 0 in con_tennis"
   ]
  },
  {
   "cell_type": "code",
   "execution_count": 150,
   "metadata": {},
   "outputs": [],
   "source": [
    "con_tennis['ace'] = con_tennis['ace'].fillna(0)\n",
    "con_tennis['svpt'] = con_tennis['svpt'].fillna(0)\n",
    "con_tennis['1stIn'] = con_tennis['1stIn'].fillna(0)\n",
    "con_tennis['bpSaved'] = con_tennis['bpSaved'].fillna(0)\n",
    "con_tennis['bpFaced'] = con_tennis['bpFaced'].fillna(0)\n",
    "con_tennis['df'] = con_tennis['df'].fillna(0)"
   ]
  },
  {
   "cell_type": "code",
   "execution_count": 151,
   "metadata": {},
   "outputs": [
    {
     "data": {
      "text/plain": [
       "name\n",
       "Abd Hazli Bin Zainuddin    29.664613\n",
       "Abdulhameed Alshatti       18.585900\n",
       "Abdulhamid Mubarak         21.894593\n",
       "Abdulla Hajji              19.082820\n",
       "Abdullah Maqdas            27.695414\n",
       "                             ...    \n",
       "Zdenek Kolar               21.765914\n",
       "Ze Zhang                   24.062971\n",
       "Zhe Li                     30.327817\n",
       "Zhizhen Zhang              21.587532\n",
       "Zsombor Piros              18.787680\n",
       "Name: age, Length: 1271, dtype: float64"
      ]
     },
     "execution_count": 151,
     "metadata": {},
     "output_type": "execute_result"
    }
   ],
   "source": [
    "avg_age = con_tennis.groupby(['name']).mean()['age']\n",
    "avg_age"
   ]
  },
  {
   "cell_type": "markdown",
   "metadata": {},
   "source": [
    "## Country Winning Percentages"
   ]
  },
  {
   "cell_type": "code",
   "execution_count": 149,
   "metadata": {},
   "outputs": [],
   "source": [
    "#con_tennis[((con_tennis['ioc']==\"RSA\") & (con_tennis['name'] == \"Kevin Anderson\"))]"
   ]
  },
  {
   "cell_type": "code",
   "execution_count": 170,
   "metadata": {},
   "outputs": [
    {
     "data": {
      "text/plain": [
       "ioc\n",
       "USA    80\n",
       "FRA    66\n",
       "ESP    50\n",
       "GER    49\n",
       "ITA    40\n",
       "       ..\n",
       "GUM     1\n",
       "SAM     1\n",
       "SOL     1\n",
       "UAE     1\n",
       "ALG     1\n",
       "Name: name, Length: 98, dtype: int64"
      ]
     },
     "execution_count": 170,
     "metadata": {},
     "output_type": "execute_result"
    }
   ],
   "source": [
    "# country_win_perc = con_tennis.groupby(['ioc']).mean()['win'].sort_values(ascending=False)\n",
    "# country_win_perc\n",
    "# country_win_sum = con_tennis.groupby(['ioc']).sum()['win'].sort_values(ascending=False)\n",
    "# country_win_sum\n",
    "# country_player_total = con_tennis.groupby(['ioc'])['name'].nunique().sort_values(ascending=False)\n",
    "# country_player_total"
   ]
  },
  {
   "cell_type": "code",
   "execution_count": 482,
   "metadata": {},
   "outputs": [
    {
     "data": {
      "image/png": "[encoded data removed]",
      "text/plain": [
       "<Figure size 1440x432 with 1 Axes>"
      ]
     },
     "metadata": {},
     "output_type": "display_data"
    }
   ],
   "source": [
    "country_win_perc = con_tennis.groupby(['ioc']).mean()['win'].sort_values(ascending=False)\n",
    "\n",
    "fig, ax = plt.subplots(figsize=(20, 6))\n",
    "\n",
    "for country, win_per in country_win_perc[2:27].items():\n",
    "    ax.bar(country, win_per)\n",
    "\n",
    "ax.set_xlabel('Countries')\n",
    "ax.set_ylabel('Win Percent (%)')\n",
    "ax.set_title('Win Percentage for Top 25 Countries (2010 - 2019)')\n",
    "ax.set_xlim(xmin=-1)\n",
    "fig.autofmt_xdate(rotation=45)"
   ]
  },
  {
   "cell_type": "code",
   "execution_count": 383,
   "metadata": {},
   "outputs": [
    {
     "data": {
      "image/png": "[encoded data removed]",
      "text/plain": [
       "<Figure size 1440x432 with 1 Axes>"
      ]
     },
     "metadata": {},
     "output_type": "display_data"
    }
   ],
   "source": [
    "country_win_sum = con_tennis.groupby(['ioc']).sum()['win'].sort_values(ascending=False)\n",
    "\n",
    "fig, ax = plt.subplots(figsize=(20, 6))\n",
    "\n",
    "for country, wins in country_win_sum[:25].items():\n",
    "    ax.bar(country, wins)\n",
    "\n",
    "ax.set_xlabel('Countries')\n",
    "ax.set_ylabel('Num of Matches Won')\n",
    "ax.set_title('Win Totals for Top 25 Countries (2010 - 2019)')\n",
    "ax.set_xlim(xmin=-1)\n",
    "fig.autofmt_xdate(rotation=45)"
   ]
  },
  {
   "cell_type": "code",
   "execution_count": 450,
   "metadata": {},
   "outputs": [
    {
     "data": {
      "image/png": "[encoded data removed]",
      "text/plain": [
       "<Figure size 1440x432 with 1 Axes>"
      ]
     },
     "metadata": {},
     "output_type": "display_data"
    }
   ],
   "source": [
    "country_player_total = con_tennis.groupby(['ioc'])['name'].nunique().sort_values(ascending=False)\n",
    "\n",
    "fig, ax = plt.subplots(figsize=(20, 6))\n",
    "\n",
    "for country, player_count in country_player_total[:25].items():\n",
    "    ax.bar(country, player_count)\n",
    "\n",
    "ax.set_xlabel('Countries')\n",
    "ax.set_ylabel('Num of Players')\n",
    "ax.set_title('Top 25 Countries with Most Active Players (2010 - 2019)')\n",
    "ax.set_xlim(xmin=-1)\n",
    "fig.autofmt_xdate(rotation=45)"
   ]
  },
  {
   "cell_type": "markdown",
   "metadata": {},
   "source": [
    "## Metrics to Measure By"
   ]
  },
  {
   "cell_type": "code",
   "execution_count": 451,
   "metadata": {},
   "outputs": [],
   "source": [
    "# fig, ax = plt.subplots(figsize=(12, 4))\n",
    "# ax.hist(con_tennis.groupby(['name']).mean()['ace'], bins=30);\n",
    "# ax.set_xlabel('Avg Num of Aces')\n",
    "# ax.set_ylabel('Frequency')\n",
    "# ax.set_title('Frequency of Avg Num of Aces Per Match (2010 - 2019)')"
   ]
  },
  {
   "cell_type": "code",
   "execution_count": 522,
   "metadata": {},
   "outputs": [
    {
     "data": {
      "image/png": "[encoded data removed]",
      "text/plain": [
       "<Figure size 1440x432 with 1 Axes>"
      ]
     },
     "metadata": {},
     "output_type": "display_data"
    }
   ],
   "source": [
    "player_win_sum = con_tennis.groupby(['name']).sum()['win'].sort_values(ascending=False)\n",
    "flare = sns.color_palette(\"flare\", 1500) #as_cmap=True)\n",
    "fig, ax = plt.subplots(figsize=(20, 6))\n",
    "\n",
    "for player, wins in player_win_sum[:25].items():\n",
    "    ax.bar(player, wins, color=sns.set_palette(\"flare\", 25, 0.4))\n",
    "ax.set_xlabel('Player')\n",
    "ax.set_ylabel('Num of Matches Won')\n",
    "ax.set_title('Top 25 Players in Win Totals (2010 - 2019)')\n",
    "ax.set_xlim(xmin=-1)\n",
    "\n",
    "fig.autofmt_xdate(rotation=45)"
   ]
  },
  {
   "cell_type": "code",
   "execution_count": 498,
   "metadata": {},
   "outputs": [
    {
     "data": {
      "image/png": "[encoded data removed]",
      "text/plain": [
       "<Figure size 864x288 with 1 Axes>"
      ]
     },
     "metadata": {},
     "output_type": "display_data"
    }
   ],
   "source": [
    "fig, ax = plt.subplots(figsize=(12, 4))\n",
    "avg_ace = con_tennis['ace'].mean()\n",
    "x = ['Federer', 'Nadal', 'Djokovic']\n",
    "y = [con_tennis.groupby(['name']).mean()['ace']['Roger Federer'].round(2), con_tennis.groupby(['name']).mean()['ace']['Rafael Nadal'].round(2), con_tennis.groupby(['name']).mean()['ace']['Novak Djokovic'].round(2)]\n",
    "\n",
    "ax.bar(x, y, color=['coral', 'darkcyan', 'forestgreen'])\n",
    "ax.axhline(avg_ace, label=f\"Avg Aces Among All Players ({avg_ace:.2f})\")\n",
    "ax.set_xlabel('Player')\n",
    "ax.set_ylabel('Avg Num of Aces')\n",
    "ax.set_title('Avg Num of Aces Per Match (2010 - 2019)')\n",
    "ax.legend()\n",
    "\n",
    "\n",
    "for index, value in enumerate(y):\n",
    "    ax.text(index - 0.05, value - 1, str(value), c='black', fontsize=12)"
   ]
  },
  {
   "cell_type": "code",
   "execution_count": 452,
   "metadata": {},
   "outputs": [],
   "source": [
    "# top_10_aces = con_tennis.groupby('name')['ace'].sum().sort_values(ascending=False).head(10)\n",
    "# top_10_aces_name = top_10_aces.index"
   ]
  },
  {
   "cell_type": "code",
   "execution_count": 468,
   "metadata": {},
   "outputs": [
    {
     "data": {
      "image/png": "[encoded data removed]",
      "text/plain": [
       "<Figure size 864x288 with 1 Axes>"
      ]
     },
     "metadata": {},
     "output_type": "display_data"
    }
   ],
   "source": [
    "top_10_aces = con_tennis.groupby('name')['ace'].sum().sort_values(ascending=False).head(10)\n",
    "top_10_aces_name = top_10_aces.index\n",
    "\n",
    "fig, ax = plt.subplots(figsize=(12, 4))\n",
    "x = top_10_aces_name\n",
    "y = top_10_aces\n",
    "\n",
    "ax.bar(x, y, color=['coral', 'darkcyan', 'forestgreen'])\n",
    "# ax.bar(x, y)\n",
    "# ax.bar(x, y)\n",
    "#ax.axhline(avg_ace, label=f\"Avg Aces Among All Players ({avg_ace:.2f})\")\n",
    "ax.set_xlabel('Player')\n",
    "ax.set_ylabel('Total Num of Aces')\n",
    "ax.set_title('Top 10 Players in Aces (2010 - 2019)')\n",
    "fig.autofmt_xdate(rotation=45)\n",
    "\n",
    "\n",
    "# for index, value in enumerate(y):\n",
    "#     ax.text(index - 0.05, value - 1, str(value), c='black', fontsize=12)"
   ]
  },
  {
   "cell_type": "code",
   "execution_count": 156,
   "metadata": {},
   "outputs": [],
   "source": [
    "# test = con_tennis.copy()\n",
    "# test['svpt'] = test['svpt'].fillna(0)\n",
    "# test['svpt'].mean()"
   ]
  },
  {
   "cell_type": "code",
   "execution_count": 464,
   "metadata": {},
   "outputs": [
    {
     "data": {
      "image/png": "[encoded data removed]",
      "text/plain": [
       "<Figure size 864x288 with 1 Axes>"
      ]
     },
     "metadata": {},
     "output_type": "display_data"
    }
   ],
   "source": [
    "# Serv points - questionable\n",
    "fig, ax = plt.subplots(figsize=(12, 4))\n",
    "avg_svpt = con_tennis['svpt'].mean() # how can the avg be higher than the 3 top guys?\n",
    "x = ['Federer', 'Nadal', 'Djokovic']\n",
    "y = [con_tennis.groupby(['name']).mean()['svpt']['Roger Federer'].round(2), con_tennis.groupby(['name']).mean()['svpt']['Rafael Nadal'].round(2), con_tennis.groupby(['name']).mean()['svpt']['Novak Djokovic'].round(2)]\n",
    "\n",
    "ax.bar(x, y, color=['coral', 'darkcyan', 'forestgreen'])\n",
    "# ax.bar(x, y, color='b')\n",
    "# ax.bar(x, y)\n",
    "ax.axhline(avg_svpt, label=f\"Avg Serv Points Among All Players ({avg_svpt:.2f})\", color='crimson')\n",
    "ax.set_xlabel('Player')\n",
    "ax.set_ylabel('Avg Num of Serv Points')\n",
    "ax.set_title('Avg Num of Serv Points Per Match (2010 - 2019)')\n",
    "ax.legend(loc='best')\n",
    "\n",
    "\n",
    "for index, value in enumerate(y):\n",
    "    ax.text(index - 0.05, value - 6, str(value), c='black', fontsize=12)"
   ]
  },
  {
   "cell_type": "code",
   "execution_count": 465,
   "metadata": {},
   "outputs": [
    {
     "data": {
      "image/png": "[encoded data removed]",
      "text/plain": [
       "<Figure size 864x288 with 1 Axes>"
      ]
     },
     "metadata": {},
     "output_type": "display_data"
    }
   ],
   "source": [
    "fig, ax = plt.subplots(figsize=(12, 4))\n",
    "avg_1stIn = con_tennis['1stIn'].mean()\n",
    "x = ['Federer', 'Nadal', 'Djokovic']\n",
    "y = [con_tennis.groupby(['name']).mean()['1stIn']['Roger Federer'].round(2), con_tennis.groupby(['name']).mean()['1stIn']['Rafael Nadal'].round(2), con_tennis.groupby(['name']).mean()['1stIn']['Novak Djokovic'].round(2)]\n",
    "\n",
    "ax.bar(x, y, color=['coral', 'darkcyan', 'forestgreen'])\n",
    "ax.axhline(avg_1stIn, label=f\"Avg 1st Serves In Among All Players ({avg_1stIn:.2f})\")\n",
    "ax.set_xlabel('Player')\n",
    "ax.set_ylabel('Avg Num of 1st Serves In')\n",
    "ax.set_title('Avg Num of 1st Serves In Per Match (2010 - 2019)')\n",
    "ax.legend(loc=8)\n",
    "\n",
    "\n",
    "for index, value in enumerate(y):\n",
    "    ax.text(index - 0.05, value - 5, str(value), c='black', fontsize=12)"
   ]
  },
  {
   "cell_type": "code",
   "execution_count": 466,
   "metadata": {},
   "outputs": [
    {
     "data": {
      "image/png": "[encoded data removed]",
      "text/plain": [
       "<Figure size 864x288 with 1 Axes>"
      ]
     },
     "metadata": {},
     "output_type": "display_data"
    }
   ],
   "source": [
    "# bpFaced vs bpSaved - % of trouble gotten out of\n",
    "\n",
    "fig, ax = plt.subplots(figsize=(12, 4))\n",
    "avg_bpSaved = con_tennis['bpSaved'].mean()\n",
    "x = ['Federer', 'Nadal', 'Djokovic']\n",
    "# y1 = con_tennis.groupby(['name']).mean()['bpSaved']['Roger Federer'].round(2)\n",
    "# y2 = con_tennis.groupby(['name']).mean()['bpSaved']['Rafael Nadal'].round(2)\n",
    "# y3 = con_tennis.groupby(['name']).mean()['bpSaved']['Novak Djokovic'].round(2)\n",
    "y = [con_tennis.groupby(['name']).mean()['bpSaved']['Roger Federer'].round(2), con_tennis.groupby(['name']).mean()['bpSaved']['Rafael Nadal'].round(2), con_tennis.groupby(['name']).mean()['bpSaved']['Novak Djokovic'].round(2)]\n",
    "\n",
    "ax.bar(x, y, color=['coral', 'darkcyan', 'forestgreen'])\n",
    "ax.axhline(avg_bpSaved, label=f\"Avg bpSaved Among All Players ({avg_bpSaved:.2f})\")\n",
    "ax.set_xlabel('Player')\n",
    "ax.set_ylabel('Avg Num of bpSaved')\n",
    "ax.set_title('Avg Num of bpSaved Per Match (2010 - 2019)')\n",
    "ax.legend(loc='best')\n",
    "\n",
    "\n",
    "for index, value in enumerate(y):\n",
    "    ax.text(index - 0.05, value - 1, str(value), c='black', fontsize=12)"
   ]
  },
  {
   "cell_type": "code",
   "execution_count": 467,
   "metadata": {},
   "outputs": [
    {
     "data": {
      "image/png": "[encoded data removed]",
      "text/plain": [
       "<Figure size 864x288 with 1 Axes>"
      ]
     },
     "metadata": {},
     "output_type": "display_data"
    }
   ],
   "source": [
    "fig, ax = plt.subplots(figsize=(12, 4))\n",
    "avg_df = con_tennis['df'].mean()\n",
    "x = ['Federer', 'Nadal', 'Djokovic']\n",
    "y = [con_tennis.groupby(['name']).mean()['df']['Roger Federer'].round(2), con_tennis.groupby(['name']).mean()['df']['Rafael Nadal'].round(2), con_tennis.groupby(['name']).mean()['df']['Novak Djokovic'].round(2)]\n",
    "\n",
    "ax.bar(x, y, color=['coral', 'darkcyan', 'forestgreen'])\n",
    "ax.axhline(avg_df, label=f\"Avg Double Faults Among All Players ({avg_df:.2f})\")\n",
    "ax.set_xlabel('Player')\n",
    "ax.set_ylabel('Avg Num of Double Faults')\n",
    "ax.set_title('Avg Num of Double Faults Per Match (2010 - 2019)')\n",
    "ax.legend(loc='best')\n",
    "\n",
    "\n",
    "for index, value in enumerate(y):\n",
    "    ax.text(index - 0.05, value - 1, str(value), c='black', fontsize=12)"
   ]
  },
  {
   "cell_type": "markdown",
   "metadata": {},
   "source": [
    "## Wins and Losses"
   ]
  },
  {
   "cell_type": "code",
   "execution_count": 95,
   "metadata": {},
   "outputs": [],
   "source": [
    "# Wins and Losses\n",
    "\n",
    "# Federer\n",
    "fed_wins = con_tennis[((con_tennis['win'] == 1) & (con_tennis['name'] == 'Roger Federer'))]\n",
    "n_fed_wins = len(con_tennis[((con_tennis['win'] == 1) & (con_tennis['name'] == 'Roger Federer'))])\n",
    "fed_losses = con_tennis[((con_tennis['win'] == 0) & (con_tennis['name'] == 'Roger Federer'))]\n",
    "n_fed_losses = len(con_tennis[((con_tennis['win'] == 0) & (con_tennis['name'] == 'Roger Federer'))])\n",
    "\n",
    "# Nadal\n",
    "nadal_wins = con_tennis[((con_tennis['win'] == 1) & (con_tennis['name'] == 'Rafael Nadal'))]\n",
    "n_nadal_wins = len(con_tennis[((con_tennis['win'] == 1) & (con_tennis['name'] == 'Rafael Nadal'))])\n",
    "nadal_losses = con_tennis[((con_tennis['win'] == 0) & (con_tennis['name'] == 'Rafael Nadal'))]\n",
    "n_nadal_losses = len(con_tennis[((con_tennis['win'] == 0) & (con_tennis['name'] == 'Rafael Nadal'))])\n",
    "\n",
    "# Djok\n",
    "djok_wins = con_tennis[((con_tennis['win'] == 1) & (con_tennis['name'] == 'Novak Djokovic'))]\n",
    "n_djok_wins = len(con_tennis[((con_tennis['win'] == 1) & (con_tennis['name'] == 'Novak Djokovic'))])\n",
    "djok_losses = con_tennis[((con_tennis['win'] == 0) & (con_tennis['name'] == 'Novak Djokovic'))]\n",
    "n_djok_losses = len(con_tennis[((con_tennis['win'] == 0) & (con_tennis['name'] == 'Novak Djokovic'))])"
   ]
  },
  {
   "cell_type": "code",
   "execution_count": 92,
   "metadata": {},
   "outputs": [
    {
     "data": {
      "text/plain": [
       "[Text(0, 0, '112'), Text(0, 0, '110'), Text(0, 0, '100')]"
      ]
     },
     "execution_count": 92,
     "metadata": {},
     "output_type": "execute_result"
    },
    {
     "data": {
      "image/png": "[encoded data removed]",
      "text/plain": [
       "<Figure size 864x288 with 1 Axes>"
      ]
     },
     "metadata": {},
     "output_type": "display_data"
    }
   ],
   "source": [
    "# Grouped barchart of wins/losses for each player\n",
    "fig, ax = plt.subplots(figsize=(12, 4))\n",
    "\n",
    "x = ['Federer (Age 29-38)', 'Nadal (Age 24-33)', 'Djok (Age 23-32)']\n",
    "wins = [n_fed_wins, n_nadal_wins, n_djok_wins]\n",
    "losses = [n_fed_losses, n_nadal_losses, n_djok_losses]\n",
    "width = 0.5\n",
    "\n",
    "p1 = ax.barh(x, wins, width, color='palegreen', label='Wins')\n",
    "p2 = ax.barh(x, losses, width, color='dodgerblue', label='Losses')\n",
    "ax.set_title('Wins and Losses (2010 - 2019)', fontsize=14)\n",
    "ax.set_xlabel('Num of Matches Played')\n",
    "ax.set_ylabel('Player')\n",
    "ax.legend()\n",
    "\n",
    "ax.bar_label(p1, label_type='center')\n",
    "ax.bar_label(p2, label_type='center')"
   ]
  },
  {
   "cell_type": "markdown",
   "metadata": {},
   "source": [
    "## Major Championships"
   ]
  },
  {
   "cell_type": "code",
   "execution_count": 83,
   "metadata": {},
   "outputs": [],
   "source": [
    "# What percent of grand slams did they win?\n",
    "fed_gs_aus = con_tennis[((con_tennis[\"name\"] == \"Roger Federer\") & (con_tennis[\"tourney_name\"] == \"Australian Open\") & (con_tennis['win'] == 1))]\n",
    "fed_gs_fren = con_tennis[((con_tennis[\"name\"] == \"Roger Federer\") & (con_tennis[\"tourney_name\"] == \"Roland Garros\") & (con_tennis['win'] == 1))]\n",
    "fed_gs_wim = con_tennis[((con_tennis[\"name\"] == \"Roger Federer\") & (con_tennis[\"tourney_name\"] == \"Wimbledon\") & (con_tennis['win'] == 1))]\n",
    "fed_gs_us = con_tennis[((con_tennis[\"name\"] == \"Roger Federer\") & (con_tennis[\"tourney_name\"] == \"US Open\") & (con_tennis['win'] == 1))]\n",
    "fed_gs_titles = con_tennis[((con_tennis[\"name\"] == \"Roger Federer\") & (con_tennis[\"tourney_level\"] == \"G\") & (con_tennis['round'] == \"F\") & (con_tennis['win'] == 1))]\n",
    "fed_gs_total = len(fed_gs_aus) + len(fed_gs_fren) + len(fed_gs_wim) + len(fed_gs_us)\n",
    "n_fed_gs_titles = len(fed_gs_titles)\n",
    "\n",
    "nadal_gs_aus = con_tennis[((con_tennis[\"name\"] == \"Rafael Nadal\") & (con_tennis[\"tourney_name\"] == \"Australian Open\") & (con_tennis['win'] == 1))]\n",
    "nadal_gs_fren = con_tennis[((con_tennis[\"name\"] == \"Rafael Nadal\") & (con_tennis[\"tourney_name\"] == \"Roland Garros\") & (con_tennis['win'] == 1))]\n",
    "nadal_gs_wim = con_tennis[((con_tennis[\"name\"] == \"Rafael Nadal\") & (con_tennis[\"tourney_name\"] == \"Wimbledon\") & (con_tennis['win'] == 1))]\n",
    "nadal_gs_us = con_tennis[((con_tennis[\"name\"] == \"Rafael Nadal\") & (con_tennis[\"tourney_name\"] == \"US Open\") & (con_tennis['win'] == 1))]\n",
    "nadal_gs_titles = con_tennis[((con_tennis[\"name\"] == \"Rafael Nadal\") & (con_tennis[\"tourney_level\"] == \"G\") & (con_tennis['round'] == \"F\") & (con_tennis['win'] == 1))]\n",
    "nadal_gs_total = len(nadal_gs_aus) + len(nadal_gs_fren) + len(nadal_gs_wim) + len(nadal_gs_us)\n",
    "n_nadal_gs_titles = len(nadal_gs_titles)\n",
    "\n",
    "djok_gs_aus = con_tennis[((con_tennis[\"name\"] == \"Novak Djokovic\") & (con_tennis[\"tourney_name\"] == \"Australian Open\") & (con_tennis['win'] == 1))]\n",
    "djok_gs_fren = con_tennis[((con_tennis[\"name\"] == \"Novak Djokovic\") & (con_tennis[\"tourney_name\"] == \"Roland Garros\") & (con_tennis['win'] == 1))]\n",
    "djok_gs_wim = con_tennis[((con_tennis[\"name\"] == \"Novak Djokovic\") & (con_tennis[\"tourney_name\"] == \"Wimbledon\") & (con_tennis['win'] == 1))]\n",
    "djok_gs_us = con_tennis[((con_tennis[\"name\"] == \"Novak Djokovic\") & (con_tennis[\"tourney_name\"] == \"US Open\") & (con_tennis['win'] == 1))]\n",
    "djok_gs_titles = con_tennis[((con_tennis[\"name\"] == \"Novak Djokovic\") & (con_tennis[\"tourney_level\"] == \"G\") & (con_tennis['round'] == \"F\") & (con_tennis['win'] == 1))]\n",
    "djok_gs_total = len(djok_gs_aus) + len(djok_gs_fren) + len(djok_gs_wim) + len(djok_gs_us)\n",
    "n_djok_gs_titles = len(djok_gs_titles)\n",
    "\n",
    "combined_gs_total_losses = 78\n",
    "combined_gs_total_wins = fed_gs_total + nadal_gs_total + djok_gs_total\n",
    "combined_gs_titles = fed_gs_titles + nadal_gs_titles + djok_gs_titles"
   ]
  },
  {
   "cell_type": "code",
   "execution_count": 84,
   "metadata": {},
   "outputs": [
    {
     "name": "stdout",
     "output_type": "stream",
     "text": [
      "These 3 players have won a combined 564 matches out of 642 and in major tournaments from 2010 - 2019. Claiming 33 titles out of a possible 40.\n",
      "\n",
      " Federer has won 171 matches, with 5 titles.\n",
      "\n",
      " Nadal has won 177 matches, with 13 titles.\n",
      "\n",
      " Djokovic has won 216 matches, with 15 titles.\n"
     ]
    }
   ],
   "source": [
    "print(f\"These 3 players have won a combined {combined_gs_total_wins} matches out of {combined_gs_total_wins + combined_gs_total_losses} and in major tournaments from 2010 - 2019. Claiming {len(combined_gs_titles)} titles out of a possible 40.\")\n",
    "print(f\"\\n Federer has won {fed_gs_total} matches, with {n_fed_gs_titles} titles.\")\n",
    "print(f\"\\n Nadal has won {nadal_gs_total} matches, with {n_nadal_gs_titles} titles.\")\n",
    "print(f\"\\n Djokovic has won {djok_gs_total} matches, with {n_djok_gs_titles} titles.\")"
   ]
  },
  {
   "cell_type": "code",
   "execution_count": 118,
   "metadata": {},
   "outputs": [
    {
     "data": {
      "text/plain": [
       "[Text(0, 0, '5'), Text(0, 0, '13'), Text(0, 0, '15')]"
      ]
     },
     "execution_count": 118,
     "metadata": {},
     "output_type": "execute_result"
    },
    {
     "data": {
      "image/png": "[encoded data removed]",
      "text/plain": [
       "<Figure size 864x288 with 1 Axes>"
      ]
     },
     "metadata": {},
     "output_type": "display_data"
    }
   ],
   "source": [
    "# Grouped barchart of wins/titles for each player\n",
    "fig, ax = plt.subplots(figsize=(12, 4))\n",
    "\n",
    "x = ['Federer', 'Nadal', 'Djok']\n",
    "wins = [fed_gs_total, nadal_gs_total, djok_gs_total]\n",
    "titles = [n_fed_gs_titles, n_nadal_gs_titles, n_djok_gs_titles]\n",
    "width = 0.5\n",
    "\n",
    "p1 = ax.barh(x, wins, width, color='gray', label='Wins')\n",
    "p2 = ax.barh(x, titles, width, color='gold', label='Titles')\n",
    "ax.set_title('Wins and Titles In Major Tournaments (2010 - 2019)', fontsize=14)\n",
    "ax.set_xlabel('Num of Matches')\n",
    "ax.set_ylabel('Player')\n",
    "ax.legend()\n",
    "\n",
    "ax.bar_label(p1, label_type='center')\n",
    "ax.bar_label(p2, label_type='center')"
   ]
  },
  {
   "cell_type": "code",
   "execution_count": 127,
   "metadata": {},
   "outputs": [
    {
     "data": {
      "text/plain": [
       "Text(0.5, 1.0, 'Share of Major Tournament Wins Between Each Other')"
      ]
     },
     "execution_count": 127,
     "metadata": {},
     "output_type": "execute_result"
    },
    {
     "data": {
      "image/png": "[encoded data removed]",
      "text/plain": [
       "<Figure size 432x288 with 1 Axes>"
      ]
     },
     "metadata": {},
     "output_type": "display_data"
    }
   ],
   "source": [
    "fig, ax = plt.subplots()\n",
    "labels = ['Federer', 'Nadal', 'Djokovic']\n",
    "x = [fed_gs_total, nadal_gs_total, djok_gs_total]\n",
    "\n",
    "ax.pie(x, labels=labels, autopct='%1.1f%%', shadow=True, startangle=90)\n",
    "ax.axis('equal')\n",
    "ax.set_title('Share of Major Tournament Wins Between Each Other')"
   ]
  },
  {
   "cell_type": "code",
   "execution_count": 128,
   "metadata": {},
   "outputs": [
    {
     "data": {
      "text/plain": [
       "Text(0.5, 1.0, 'Share of Major Tournament Titles Between Each Other')"
      ]
     },
     "execution_count": 128,
     "metadata": {},
     "output_type": "execute_result"
    },
    {
     "data": {
      "image/png": "[encoded data removed]",
      "text/plain": [
       "<Figure size 432x288 with 1 Axes>"
      ]
     },
     "metadata": {},
     "output_type": "display_data"
    }
   ],
   "source": [
    "fig, ax = plt.subplots()\n",
    "labels = ['Federer', 'Nadal', 'Djokovic']\n",
    "x = [len(fed_gs_titles), len(nadal_gs_titles), len(djok_gs_titles)]\n",
    "\n",
    "ax.pie(x, labels=labels, autopct='%1.1f%%', shadow=True, startangle=90)\n",
    "ax.axis('equal')\n",
    "ax.set_title('Share of Major Tournament Titles Between Each Other')"
   ]
  },
  {
   "cell_type": "markdown",
   "metadata": {},
   "source": [
    "## Surface Comparisons"
   ]
  },
  {
   "cell_type": "code",
   "execution_count": 105,
   "metadata": {},
   "outputs": [],
   "source": [
    "# Federer\n",
    "# Hard\n",
    "fed_hard_wins = con_tennis[((con_tennis['win'] == 1) & (con_tennis['name'] == 'Roger Federer') & (con_tennis['surface'] == 'Hard'))]\n",
    "n_fed_hard_wins = len(con_tennis[((con_tennis['win'] == 1) & (con_tennis['name'] == 'Roger Federer') & (con_tennis['surface'] == 'Hard'))])\n",
    "fed_hard_loss = con_tennis[((con_tennis['win'] == 0) & (con_tennis['name'] == 'Roger Federer') & (con_tennis['surface'] == 'Hard'))]\n",
    "n_fed_hard_loss = len(con_tennis[((con_tennis['win'] == 0) & (con_tennis['name'] == 'Roger Federer') & (con_tennis['surface'] == 'Hard'))])\n",
    "# Clay\n",
    "fed_clay_wins = con_tennis[((con_tennis['win'] == 1) & (con_tennis['name'] == 'Roger Federer') & (con_tennis['surface'] == 'Clay'))]\n",
    "n_fed_clay_wins = len(con_tennis[((con_tennis['win'] == 1) & (con_tennis['name'] == 'Roger Federer') & (con_tennis['surface'] == 'Clay'))])\n",
    "fed_clay_loss = con_tennis[((con_tennis['win'] == 0) & (con_tennis['name'] == 'Roger Federer') & (con_tennis['surface'] == 'Clay'))]\n",
    "n_fed_clay_loss = len(con_tennis[((con_tennis['win'] == 0) & (con_tennis['name'] == 'Roger Federer') & (con_tennis['surface'] == 'Clay'))])\n",
    "# Grass\n",
    "fed_grass_wins = con_tennis[((con_tennis['win'] == 1) & (con_tennis['name'] == 'Roger Federer') & (con_tennis['surface'] == 'Grass'))]\n",
    "n_fed_grass_wins = len(con_tennis[((con_tennis['win'] == 1) & (con_tennis['name'] == 'Roger Federer') & (con_tennis['surface'] == 'Grass'))])\n",
    "fed_grass_loss = con_tennis[((con_tennis['win'] == 0) & (con_tennis['name'] == 'Roger Federer') & (con_tennis['surface'] == 'Grass'))]\n",
    "n_fed_grass_loss = len(con_tennis[((con_tennis['win'] == 0) & (con_tennis['name'] == 'Roger Federer') & (con_tennis['surface'] == 'Grass'))])\n",
    "\n",
    "# Nadal\n",
    "# Hard\n",
    "nadal_hard_wins = con_tennis[((con_tennis['win'] == 1) & (con_tennis['name'] == 'Rafael Nadal') & (con_tennis['surface'] == 'Hard'))]\n",
    "n_nadal_hard_wins = len(con_tennis[((con_tennis['win'] == 1) & (con_tennis['name'] == 'Rafael Nadal') & (con_tennis['surface'] == 'Hard'))])\n",
    "nadal_hard_loss = con_tennis[((con_tennis['win'] == 0) & (con_tennis['name'] == 'Rafael Nadal') & (con_tennis['surface'] == 'Hard'))]\n",
    "n_nadal_hard_loss = len(con_tennis[((con_tennis['win'] == 0) & (con_tennis['name'] == 'Rafael Nadal') & (con_tennis['surface'] == 'Hard'))])\n",
    "# Clay\n",
    "nadal_clay_wins = con_tennis[((con_tennis['win'] == 1) & (con_tennis['name'] == 'Rafael Nadal') & (con_tennis['surface'] == 'Clay'))]\n",
    "n_nadal_clay_wins = len(con_tennis[((con_tennis['win'] == 1) & (con_tennis['name'] == 'Rafael Nadal') & (con_tennis['surface'] == 'Clay'))])\n",
    "nadal_clay_loss = con_tennis[((con_tennis['win'] == 0) & (con_tennis['name'] == 'Rafael Nadal') & (con_tennis['surface'] == 'Clay'))]\n",
    "n_nadal_clay_loss = len(con_tennis[((con_tennis['win'] == 0) & (con_tennis['name'] == 'Rafael Nadal') & (con_tennis['surface'] == 'Clay'))])\n",
    "# Grass\n",
    "nadal_grass_wins = con_tennis[((con_tennis['win'] == 1) & (con_tennis['name'] == 'Rafael Nadal') & (con_tennis['surface'] == 'Grass'))]\n",
    "n_nadal_grass_wins = len(con_tennis[((con_tennis['win'] == 1) & (con_tennis['name'] == 'Rafael Nadal') & (con_tennis['surface'] == 'Grass'))])\n",
    "nadal_grass_loss = con_tennis[((con_tennis['win'] == 0) & (con_tennis['name'] == 'Rafael Nadal') & (con_tennis['surface'] == 'Grass'))]\n",
    "n_nadal_grass_loss = len(con_tennis[((con_tennis['win'] == 0) & (con_tennis['name'] == 'Rafael Nadal') & (con_tennis['surface'] == 'Grass'))])\n",
    "\n",
    "\n",
    "# Djokovic\n",
    "# Hard\n",
    "djok_hard_wins = con_tennis[((con_tennis['win'] == 1) & (con_tennis['name'] == 'Novak Djokovic') & (con_tennis['surface'] == 'Hard'))]\n",
    "n_djok_hard_wins = len(con_tennis[((con_tennis['win'] == 1) & (con_tennis['name'] == 'Novak Djokovic') & (con_tennis['surface'] == 'Hard'))])\n",
    "djok_hard_loss = con_tennis[((con_tennis['win'] == 0) & (con_tennis['name'] == 'Novak Djokovic') & (con_tennis['surface'] == 'Hard'))]\n",
    "n_djok_hard_loss = len(con_tennis[((con_tennis['win'] == 0) & (con_tennis['name'] == 'Novak Djokovic') & (con_tennis['surface'] == 'Hard'))])\n",
    "# Clay\n",
    "djok_clay_wins = con_tennis[((con_tennis['win'] == 1) & (con_tennis['name'] == 'Novak Djokovic') & (con_tennis['surface'] == 'Clay'))]\n",
    "n_djok_clay_wins = len(con_tennis[((con_tennis['win'] == 1) & (con_tennis['name'] == 'Novak Djokovic') & (con_tennis['surface'] == 'Clay'))])\n",
    "djok_clay_loss = con_tennis[((con_tennis['win'] == 0) & (con_tennis['name'] == 'Novak Djokovic') & (con_tennis['surface'] == 'Clay'))]\n",
    "n_djok_clay_loss = len(con_tennis[((con_tennis['win'] == 0) & (con_tennis['name'] == 'Novak Djokovic') & (con_tennis['surface'] == 'Clay'))])\n",
    "# Grass\n",
    "djok_grass_wins = con_tennis[((con_tennis['win'] == 1) & (con_tennis['name'] == 'Novak Djokovic') & (con_tennis['surface'] == 'Grass'))]\n",
    "n_djok_grass_wins = len(con_tennis[((con_tennis['win'] == 1) & (con_tennis['name'] == 'Novak Djokovic') & (con_tennis['surface'] == 'Grass'))])\n",
    "djok_grass_loss = con_tennis[((con_tennis['win'] == 0) & (con_tennis['name'] == 'Novak Djokovic') & (con_tennis['surface'] == 'Grass'))]\n",
    "n_djok_grass_loss = len(con_tennis[((con_tennis['win'] == 0) & (con_tennis['name'] == 'Novak Djokovic') & (con_tennis['surface'] == 'Grass'))])"
   ]
  },
  {
   "cell_type": "code",
   "execution_count": 117,
   "metadata": {},
   "outputs": [
    {
     "data": {
      "image/png": "[encoded data removed]",
      "text/plain": [
       "<Figure size 864x432 with 1 Axes>"
      ]
     },
     "metadata": {},
     "output_type": "display_data"
    }
   ],
   "source": [
    "labels = ['Hard', 'Clay', 'Grass']\n",
    "fed_surf_wins = [n_fed_hard_wins, n_fed_clay_wins, n_fed_grass_wins]\n",
    "nadal_surf_wins = [n_nadal_hard_wins, n_nadal_clay_wins, n_nadal_grass_wins]\n",
    "djok_surf_wins = [n_djok_hard_wins, n_djok_clay_wins, n_djok_grass_wins]\n",
    "\n",
    "x = np.arange(len(labels))\n",
    "width = 0.2\n",
    "\n",
    "fig, ax = plt.subplots(figsize=(12, 6))\n",
    "rects1 = ax.bar(x-width, fed_surf_wins, width, label='Federer', color='tab:olive')\n",
    "rects2 = ax.bar(x, nadal_surf_wins, width, label='Nadal', color='salmon')\n",
    "rects3 = ax.bar(x+width, djok_surf_wins, width, label='Djokovic', color='steelblue')\n",
    "\n",
    "ax.set_ylabel('Num of Wins')\n",
    "ax.set_xlabel('Surface')\n",
    "ax.set_title('Wins Per Court Surface (2010 - 2019)')\n",
    "ax.set_xticks(x)\n",
    "ax.set_xticklabels(labels)\n",
    "ax.legend()\n",
    "\n",
    "ax.bar_label(rects1, padding=3)\n",
    "ax.bar_label(rects2, padding=3)\n",
    "ax.bar_label(rects3, padding=3)\n",
    "\n",
    "fig.tight_layout()"
   ]
  },
  {
   "cell_type": "markdown",
   "metadata": {},
   "source": [
    "# Hypothesis Testing"
   ]
  },
  {
   "cell_type": "markdown",
   "metadata": {},
   "source": [
    "## Test 1: \n",
    "> $H_0$: Federer performs equally or worse than Nadal in terms of ['ace', 'svpt', '1stIn', '1stWon', '2ndWon', 'SvGms', 'bpSaved', 'win', 'df', 'bpFaced']\n",
    "\n",
    "> $H_A$: Federer performs better than Nadal in terms of ['ace', 'svpt', '1stIn', '1stWon', '2ndWon', 'SvGms', 'bpSaved', 'win', 'df', 'bpFaced']  "
   ]
  },
  {
   "cell_type": "code",
   "execution_count": 306,
   "metadata": {},
   "outputs": [],
   "source": [
    "def greater_comparison(df1, df2, lst):\n",
    "    score_lst = []\n",
    "    for item in g_lst:\n",
    "        wins, p_val = stats.mannwhitneyu(df1[item], df2[item], alternative='greater')\n",
    "        score_lst.append(wins)\n",
    "        score_lst.append(p_val)\n",
    "    return score_lst"
   ]
  },
  {
   "cell_type": "code",
   "execution_count": 307,
   "metadata": {},
   "outputs": [],
   "source": [
    "def less_comparison(df1, df2, lst):\n",
    "    score_lst = []\n",
    "    for item in l_lst:\n",
    "        wins, p_val = stats.mannwhitneyu(df1[item], df2[item], alternative='less')\n",
    "        score_lst.append(wins)\n",
    "        score_lst.append(p_val)                                 \n",
    "    return score_lst"
   ]
  },
  {
   "cell_type": "code",
   "execution_count": 268,
   "metadata": {},
   "outputs": [],
   "source": [
    "# Creating DF for each player\n",
    "fed = con_tennis[(con_tennis[\"name\"] == \"Roger Federer\")]\n",
    "nadal = con_tennis[(con_tennis[\"name\"] == \"Rafael Nadal\")]\n",
    "djok = con_tennis[(con_tennis[\"name\"] == \"Novak Djokovic\")]\n",
    "#con_tennis.columns"
   ]
  },
  {
   "cell_type": "code",
   "execution_count": 341,
   "metadata": {},
   "outputs": [],
   "source": [
    "g_lst = ['ace', 'svpt', '1stIn', '1stWon', '2ndWon', 'SvGms', 'bpSaved', 'win'] # stats you want more of\n",
    "l_lst = ['df', 'bpFaced'] # stats you want less of"
   ]
  },
  {
   "cell_type": "markdown",
   "metadata": {},
   "source": [
    "#### Comparing Aces (Nadal > Fed)"
   ]
  },
  {
   "cell_type": "code",
   "execution_count": 203,
   "metadata": {},
   "outputs": [],
   "source": [
    "# Players Aces (series)\n",
    "fed_aces = fed['ace']\n",
    "nadal_aces = nadal['ace']\n",
    "djok_aces = djok['ace']"
   ]
  },
  {
   "cell_type": "code",
   "execution_count": 243,
   "metadata": {},
   "outputs": [],
   "source": [
    "# stat, p_val = stats.ttest_ind(fed_aces, nadal_aces, equal_var=False) \n",
    "# print(f'For fed, nadal aces...\\nT-stat: {stat}\\nP-val: {p_val}')"
   ]
  },
  {
   "cell_type": "code",
   "execution_count": 233,
   "metadata": {},
   "outputs": [
    {
     "name": "stdout",
     "output_type": "stream",
     "text": [
      " Fed Ace Wins: 379443.0\n",
      " Nadal Ace Wins: 85617.0\n",
      " P_Val: 1.1919754872754445e-91\n"
     ]
    }
   ],
   "source": [
    "fed_ace_wins, p_val = stats.mannwhitneyu(fed_aces, nadal_aces, alternative='greater')\n",
    "nadal_ace_wins, _ = stats.mannwhitneyu(nadal_aces, fed_aces, alternative='greater')\n",
    "print(f\" Fed Ace Wins: {fed_ace_wins}\\n Nadal Ace Wins: {nadal_ace_wins}\\n P_Val: {p_val}\") # Only want the first p_val since we are stating Federer < Nadal"
   ]
  },
  {
   "cell_type": "markdown",
   "metadata": {},
   "source": [
    "#### Svpt (Nadal > Fed)"
   ]
  },
  {
   "cell_type": "code",
   "execution_count": 231,
   "metadata": {},
   "outputs": [],
   "source": [
    "# Test Serve Points\n",
    "fed_svpt = fed['svpt']\n",
    "nadal_svpt = nadal['svpt']\n",
    "djok_svpt = djok['svpt']"
   ]
  },
  {
   "cell_type": "code",
   "execution_count": 244,
   "metadata": {},
   "outputs": [],
   "source": [
    "# stat, p_val = stats.ttest_ind(fed_svpt, nadal_svpt, equal_var=False) \n",
    "# print(f'For fed, nadal svpt...\\nT-stat: {stat}\\nP-val: {p_val}')"
   ]
  },
  {
   "cell_type": "code",
   "execution_count": 235,
   "metadata": {},
   "outputs": [
    {
     "name": "stdout",
     "output_type": "stream",
     "text": [
      " Fed Ace Wins: 244524.0\n",
      " Nadal Ace Wins: 220536.0\n",
      " P_Val: 0.04955776347802703\n"
     ]
    }
   ],
   "source": [
    "fed_svpt_wins, p_val = stats.mannwhitneyu(fed_svpt, nadal_svpt, alternative='greater')\n",
    "nadal_svpt_wins, _ = stats.mannwhitneyu(nadal_svpt, fed_svpt, alternative='greater')\n",
    "print(f\" Fed Ace Wins: {fed_svpt_wins}\\n Nadal Ace Wins: {nadal_svpt_wins}\\n P_Val: {p_val}\")"
   ]
  },
  {
   "cell_type": "code",
   "execution_count": 311,
   "metadata": {},
   "outputs": [
    {
     "name": "stdout",
     "output_type": "stream",
     "text": [
      " Fed, Nadal Stats = [379443.0, 1.1919754872754445e-91, 244524.0, 0.04955776347802703, 220722.5, 0.9477890743479132, 252314.0, 0.003255046926093683, 292803.0, 5.3056597152380315e-17, 263752.5, 8.196699269044679e-06, 203418.0, 0.9999747251353331, 230960.0, 0.6322114489682835]\n",
      "\n",
      " Nadal, Fed Stats = [85617.0, 1.0, 220536.0, 0.9504563163570096, 244337.5, 0.05222560692614206, 212709.0, 0.9967960498115387, 172260.0, 1.0, 201334.5, 0.9999916692902585, 261642.0, 2.5289916058991122e-05, 234100.0, 0.36786958621198623]\n",
      "\n"
     ]
    }
   ],
   "source": [
    "# Before I rearranged hypothesis\n",
    "print(f' Fed, Nadal Stats = {greater_comparison(df1=fed, df2=nadal, lst=g_lst)}\\n')\n",
    "print(f' Nadal, Fed Stats = {greater_comparison(df1=nadal, df2=fed, lst=g_lst,)}\\n')"
   ]
  },
  {
   "cell_type": "code",
   "execution_count": 301,
   "metadata": {},
   "outputs": [
    {
     "name": "stdout",
     "output_type": "stream",
     "text": [
      " Fed, Nadal Stats = [227241.0, 0.22702199590055044, 197077.0, 4.6900003453480326e-07]\n",
      "\n",
      " Nadal, Fed Stats = [237819.0, 0.7730206755695463, 267983.0, 0.9999995313303345]\n",
      "\n"
     ]
    }
   ],
   "source": [
    "print(f' Fed, Nadal Stats = {less_comparison(df1=fed, df2=nadal, lst=l_lst)}\\n')\n",
    "print(f' Nadal, Fed Stats = {less_comparison(df1=nadal, df2=fed, lst=l_lst)}\\n')"
   ]
  },
  {
   "cell_type": "code",
   "execution_count": 342,
   "metadata": {},
   "outputs": [
    {
     "name": "stdout",
     "output_type": "stream",
     "text": [
      " Fed wins = [379443.0, 244524.0, 220722.5, 252314.0, 292803.0, 263752.5, 203418.0, 230960.0, 227241.0, 197077.0]\n",
      "\n",
      " Fed p-vals = [1.1919754872754445e-91, 0.04955776347802703, 0.9477890743479132, 0.003255046926093683, 5.3056597152380315e-17, 8.196699269044679e-06, 0.9999747251353331, 0.6322114489682835, 0.22702199590055044, 4.6900003453480326e-07]\n",
      "\n"
     ]
    }
   ],
   "source": [
    "# After rearranging Hypothesis\n",
    "# Hypothesis: Fed performs equally or worse than Nadal in ...\n",
    "# Get Federer wins and pvals\n",
    "fed_wins1 = greater_comparison(df1=fed, df2=nadal, lst=l_lst)[::2] + less_comparison(df1=fed, df2=nadal, lst=g_lst)[::2]\n",
    "fed_pvals1 = greater_comparison(df1=fed, df2=nadal, lst=l_lst)[1::2] + less_comparison(df1=fed, df2=nadal, lst=g_lst)[1::2]\n",
    "print(f' Fed wins = {fed_wins1}\\n')\n",
    "print(f' Fed p-vals = {fed_pvals1}\\n')"
   ]
  },
  {
   "cell_type": "code",
   "execution_count": 423,
   "metadata": {},
   "outputs": [
    {
     "name": "stdout",
     "output_type": "stream",
     "text": [
      " Nadal Wins = [85617.0, 220536.0, 244337.5, 212709.0, 172260.0, 201334.5, 261642.0, 234100.0, 237819.0, 267983.0]\n",
      "\n",
      " Nadal p-vals = [1.0, 0.9504563163570096, 0.05222560692614206, 0.9967960498115387, 1.0, 0.9999916692902585, 2.5289916058991122e-05, 0.36786958621198623, 0.7730206755695463, 0.9999995313303345]\n",
      "\n"
     ]
    }
   ],
   "source": [
    "# Hypothesis: Fed performs equally or worse than Nadal in ...\n",
    "# ONLY need to get Nadal wins and (p_vals need to be filtered around)\n",
    "nadal_wins1 = greater_comparison(df1=nadal, df2=fed, lst=l_lst)[::2] + less_comparison(df1=nadal, df2=fed, lst=g_lst)[::2]\n",
    "nadal_pvals1 = greater_comparison(df1=nadal, df2=fed, lst=l_lst)[1::2] + less_comparison(df1=nadal, df2=fed, lst=g_lst)[1::2]\n",
    "print(f' Nadal Wins = {nadal_wins1}\\n')\n",
    "print(f' Nadal p-vals = {nadal_pvals1}\\n')"
   ]
  },
  {
   "cell_type": "code",
   "execution_count": 368,
   "metadata": {},
   "outputs": [],
   "source": [
    "# fed_win_totals1 = [379443.0, 244524.0, 220722.5, 252314.0, 292803.0, 263752.5, 203418.0, 227241.0, 197077.0]\n",
    "# nadal_win_totals1 = [85617.0, 220536.0, 244337.5, 212709.0, 172260.0, 201334.5, 261642.0, 237819.0, 267983.0]\n",
    "# p_vals_fed_vs_nadal = [1.1919754872754445e-91, 0.04955776347802703, 0.9477890743479132, 0.003255046926093683, 5.3056597152380315e-17, 8.196699269044679e-06, 0.9999747251353331, 0.22702199590055044, 4.6900003453480326e-07]\n",
    "#p_vals_fed_vs_nadal2 = [1.0, 0.9504563163570096, 0.05222560692614206, 0.9967960498115387, 1.0, 0.9999916692902585, 2.5289916058991122e-05, 0.7730206755695463, 0.9999995313303345]\n"
   ]
  },
  {
   "cell_type": "code",
   "execution_count": 416,
   "metadata": {},
   "outputs": [
    {
     "data": {
      "text/html": [
       "<div>\n",
       "<style scoped>\n",
       "    .dataframe tbody tr th:only-of-type {\n",
       "        vertical-align: middle;\n",
       "    }\n",
       "\n",
       "    .dataframe tbody tr th {\n",
       "        vertical-align: top;\n",
       "    }\n",
       "\n",
       "    .dataframe thead th {\n",
       "        text-align: right;\n",
       "    }\n",
       "</style>\n",
       "<table border=\"1\" class=\"dataframe\">\n",
       "  <thead>\n",
       "    <tr style=\"text-align: right;\">\n",
       "      <th></th>\n",
       "      <th>Federer Wins</th>\n",
       "      <th>Nadal Wins</th>\n",
       "      <th>Total Trials</th>\n",
       "      <th>P-Value</th>\n",
       "      <th>Reject Null?</th>\n",
       "    </tr>\n",
       "  </thead>\n",
       "  <tbody>\n",
       "    <tr>\n",
       "      <th>Aces</th>\n",
       "      <td>379443.0</td>\n",
       "      <td>85617.0</td>\n",
       "      <td>465060.0</td>\n",
       "      <td>0.00000</td>\n",
       "      <td>Reject Null</td>\n",
       "    </tr>\n",
       "    <tr>\n",
       "      <th>Serve Points</th>\n",
       "      <td>244524.0</td>\n",
       "      <td>220536.0</td>\n",
       "      <td>465060.0</td>\n",
       "      <td>0.04956</td>\n",
       "      <td>Reject Null</td>\n",
       "    </tr>\n",
       "    <tr>\n",
       "      <th>1st Serve In</th>\n",
       "      <td>220722.5</td>\n",
       "      <td>244337.5</td>\n",
       "      <td>465060.0</td>\n",
       "      <td>0.94779</td>\n",
       "      <td>Fail to Reject Null</td>\n",
       "    </tr>\n",
       "    <tr>\n",
       "      <th>1st Serve Points Won</th>\n",
       "      <td>252314.0</td>\n",
       "      <td>212709.0</td>\n",
       "      <td>465023.0</td>\n",
       "      <td>0.00326</td>\n",
       "      <td>Reject Null</td>\n",
       "    </tr>\n",
       "    <tr>\n",
       "      <th>2nd Serve Points Won</th>\n",
       "      <td>292803.0</td>\n",
       "      <td>172260.0</td>\n",
       "      <td>465063.0</td>\n",
       "      <td>0.00000</td>\n",
       "      <td>Reject Null</td>\n",
       "    </tr>\n",
       "    <tr>\n",
       "      <th>Service Games</th>\n",
       "      <td>263752.5</td>\n",
       "      <td>201334.5</td>\n",
       "      <td>465087.0</td>\n",
       "      <td>0.00001</td>\n",
       "      <td>Reject Null</td>\n",
       "    </tr>\n",
       "    <tr>\n",
       "      <th>Break Points Saved</th>\n",
       "      <td>203418.0</td>\n",
       "      <td>261642.0</td>\n",
       "      <td>465060.0</td>\n",
       "      <td>0.99997</td>\n",
       "      <td>Fail to Reject Null</td>\n",
       "    </tr>\n",
       "    <tr>\n",
       "      <th>Wins</th>\n",
       "      <td>230960.0</td>\n",
       "      <td>234100.0</td>\n",
       "      <td>465060.0</td>\n",
       "      <td>0.63221</td>\n",
       "      <td>Fail to Reject Null</td>\n",
       "    </tr>\n",
       "    <tr>\n",
       "      <th>Double Faults</th>\n",
       "      <td>227241.0</td>\n",
       "      <td>237819.0</td>\n",
       "      <td>465060.0</td>\n",
       "      <td>0.22702</td>\n",
       "      <td>Fail to Reject Null</td>\n",
       "    </tr>\n",
       "    <tr>\n",
       "      <th>Break Points Faced</th>\n",
       "      <td>197077.0</td>\n",
       "      <td>267983.0</td>\n",
       "      <td>465060.0</td>\n",
       "      <td>0.00000</td>\n",
       "      <td>Reject Null</td>\n",
       "    </tr>\n",
       "  </tbody>\n",
       "</table>\n",
       "</div>"
      ],
      "text/plain": [
       "                      Federer Wins  Nadal Wins  Total Trials  P-Value  \\\n",
       "Aces                      379443.0     85617.0      465060.0  0.00000   \n",
       "Serve Points              244524.0    220536.0      465060.0  0.04956   \n",
       "1st Serve In              220722.5    244337.5      465060.0  0.94779   \n",
       "1st Serve Points Won      252314.0    212709.0      465023.0  0.00326   \n",
       "2nd Serve Points Won      292803.0    172260.0      465063.0  0.00000   \n",
       "Service Games             263752.5    201334.5      465087.0  0.00001   \n",
       "Break Points Saved        203418.0    261642.0      465060.0  0.99997   \n",
       "Wins                      230960.0    234100.0      465060.0  0.63221   \n",
       "Double Faults             227241.0    237819.0      465060.0  0.22702   \n",
       "Break Points Faced        197077.0    267983.0      465060.0  0.00000   \n",
       "\n",
       "                             Reject Null?  \n",
       "Aces                          Reject Null  \n",
       "Serve Points                  Reject Null  \n",
       "1st Serve In          Fail to Reject Null  \n",
       "1st Serve Points Won          Reject Null  \n",
       "2nd Serve Points Won          Reject Null  \n",
       "Service Games                 Reject Null  \n",
       "Break Points Saved    Fail to Reject Null  \n",
       "Wins                  Fail to Reject Null  \n",
       "Double Faults         Fail to Reject Null  \n",
       "Break Points Faced            Reject Null  "
      ]
     },
     "execution_count": 416,
     "metadata": {},
     "output_type": "execute_result"
    }
   ],
   "source": [
    "# ORDER OF LIST BELOW ['ace', 'svpt', '1stIn', '1stWon', '2ndWon', 'SvGms', 'bpSaved', 'win', 'df', 'bpFaced']\n",
    "alpha = 0.05\n",
    "\n",
    "total_comparisons = []\n",
    "for fed_v, nadal_v in zip(fed_wins1, nadal_wins1):\n",
    "    total_comparisons.append(fed_v + nadal_v)\n",
    "    \n",
    "data1 = {   \"Federer Wins\": [i for i in fed_wins1],\n",
    "            \"Nadal Wins\": [i for i in nadal_wins1],\n",
    "            \"Total Trials\": [i for i in total_comparisons],\n",
    "            \"P-Value\": [i.round(5) for i in fed_pvals1],\n",
    "            \"Reject Null?\": ['Reject Null' if p_val < alpha else 'Fail to Reject Null' for p_val in fed_pvals1]\n",
    "}\n",
    "fed_vs_nadal = pd.DataFrame(data1, index=['Aces', 'Serve Points', '1st Serve In', '1st Serve Points Won', '2nd Serve Points Won', 'Service Games', 'Break Points Saved', 'Wins', 'Double Faults', 'Break Points Faced'])\n",
    "fed_vs_nadal"
   ]
  },
  {
   "cell_type": "markdown",
   "metadata": {},
   "source": [
    "## Test 2:\n",
    "> $H_0$: Djokovic performs equally or worse than Federer in terms of ['ace', 'svpt', '1stIn', '1stWon', '2ndWon', 'SvGms', 'bpSaved', 'win', 'df', 'bpFaced']\n",
    "\n",
    "> $H_A$: Djokovic performs better than Federer in terms of ['ace', 'svpt', '1stIn', '1stWon', '2ndWon', 'SvGms', 'bpSaved', 'win', 'df', 'bpFaced']"
   ]
  },
  {
   "cell_type": "code",
   "execution_count": 363,
   "metadata": {},
   "outputs": [
    {
     "name": "stdout",
     "output_type": "stream",
     "text": [
      " Djok wins = [156149.0, 247484.0, 261307.0, 241950.0, 218106.5, 236319.5, 273656.5, 257906.0, 281380.5, 283695.5]\n",
      "\n",
      " Djok p-vals = [1.0, 0.6310122536857776, 0.07151696994668345, 0.8542822035983488, 0.999984288289332, 0.9635899192923532, 0.0009279826877706439, 0.04913641767569531, 0.9999853245659177, 0.9999947248594356]\n",
      "\n"
     ]
    }
   ],
   "source": [
    "# Hypothesis: Djok performs equally or worse than Federer in ...\n",
    "# Get Djokovic wins & pvals\n",
    "\n",
    "djok_wins1 = greater_comparison(df1=djok, df2=fed, lst=l_lst)[::2] + less_comparison(df1=djok, df2=fed, lst=g_lst)[::2]\n",
    "djok_pvals1 = greater_comparison(df1=djok, df2=fed, lst=l_lst)[1::2] + less_comparison(df1=djok, df2=fed, lst=g_lst)[1::2]\n",
    "\n",
    "print(f' Djok wins = {djok_wins1}\\n')\n",
    "print(f' Djok p-vals = {djok_pvals1}\\n')"
   ]
  },
  {
   "cell_type": "code",
   "execution_count": 422,
   "metadata": {},
   "outputs": [
    {
     "name": "stdout",
     "output_type": "stream",
     "text": [
      " Fed Wins = [343959.0, 252624.0, 238801.0, 258078.0, 282155.5, 263785.5, 226451.5, 242202.0, 218727.5, 216412.5]\n",
      "\n",
      " Fed p-vals = [7.483743615841353e-35, 0.36903684188655095, 0.928500794476179, 0.1481424052302433, 1.4394885348384787e-05, 0.03645179802546156, 0.999072431789309, 0.9508849959289873, 1.4684041353944937e-05, 5.278328594977639e-06]\n",
      "\n"
     ]
    }
   ],
   "source": [
    "# Hypothesis: Djok performs equally or worse than Federer in ...\n",
    "# ONLY need to get Federer wins and (p_vals need to be filtered around)\n",
    "\n",
    "fed_wins2 = greater_comparison(df1=fed, df2=djok, lst=l_lst)[::2] + less_comparison(df1=fed, df2=djok, lst=g_lst)[::2]\n",
    "fed_pvals2 = greater_comparison(df1=fed, df2=djok, lst=l_lst)[1::2] + less_comparison(df1=fed, df2=djok, lst=g_lst)[1::2]\n",
    "\n",
    "print(f' Fed Wins = {fed_wins2}\\n')\n",
    "print(f' Fed p-vals = {fed_pvals2}\\n')"
   ]
  },
  {
   "cell_type": "code",
   "execution_count": 417,
   "metadata": {},
   "outputs": [
    {
     "data": {
      "text/html": [
       "<div>\n",
       "<style scoped>\n",
       "    .dataframe tbody tr th:only-of-type {\n",
       "        vertical-align: middle;\n",
       "    }\n",
       "\n",
       "    .dataframe tbody tr th {\n",
       "        vertical-align: top;\n",
       "    }\n",
       "\n",
       "    .dataframe thead th {\n",
       "        text-align: right;\n",
       "    }\n",
       "</style>\n",
       "<table border=\"1\" class=\"dataframe\">\n",
       "  <thead>\n",
       "    <tr style=\"text-align: right;\">\n",
       "      <th></th>\n",
       "      <th>Djokovic Wins</th>\n",
       "      <th>Federer Wins</th>\n",
       "      <th>Total Trials</th>\n",
       "      <th>P-Value</th>\n",
       "      <th>Reject Null?</th>\n",
       "    </tr>\n",
       "  </thead>\n",
       "  <tbody>\n",
       "    <tr>\n",
       "      <th>Aces</th>\n",
       "      <td>156149.0</td>\n",
       "      <td>343959.0</td>\n",
       "      <td>500108.0</td>\n",
       "      <td>1.00000</td>\n",
       "      <td>Fail to Reject Null</td>\n",
       "    </tr>\n",
       "    <tr>\n",
       "      <th>Serve Points</th>\n",
       "      <td>247484.0</td>\n",
       "      <td>252624.0</td>\n",
       "      <td>500108.0</td>\n",
       "      <td>0.63101</td>\n",
       "      <td>Fail to Reject Null</td>\n",
       "    </tr>\n",
       "    <tr>\n",
       "      <th>1st Serve In</th>\n",
       "      <td>261307.0</td>\n",
       "      <td>238801.0</td>\n",
       "      <td>500108.0</td>\n",
       "      <td>0.07152</td>\n",
       "      <td>Fail to Reject Null</td>\n",
       "    </tr>\n",
       "    <tr>\n",
       "      <th>1st Serve Points Won</th>\n",
       "      <td>241950.0</td>\n",
       "      <td>258078.0</td>\n",
       "      <td>500028.0</td>\n",
       "      <td>0.85428</td>\n",
       "      <td>Fail to Reject Null</td>\n",
       "    </tr>\n",
       "    <tr>\n",
       "      <th>2nd Serve Points Won</th>\n",
       "      <td>218106.5</td>\n",
       "      <td>282155.5</td>\n",
       "      <td>500262.0</td>\n",
       "      <td>0.99998</td>\n",
       "      <td>Fail to Reject Null</td>\n",
       "    </tr>\n",
       "    <tr>\n",
       "      <th>Service Games</th>\n",
       "      <td>236319.5</td>\n",
       "      <td>263785.5</td>\n",
       "      <td>500105.0</td>\n",
       "      <td>0.96359</td>\n",
       "      <td>Fail to Reject Null</td>\n",
       "    </tr>\n",
       "    <tr>\n",
       "      <th>Break Points Saved</th>\n",
       "      <td>273656.5</td>\n",
       "      <td>226451.5</td>\n",
       "      <td>500108.0</td>\n",
       "      <td>0.00093</td>\n",
       "      <td>Reject Null</td>\n",
       "    </tr>\n",
       "    <tr>\n",
       "      <th>Wins</th>\n",
       "      <td>257906.0</td>\n",
       "      <td>242202.0</td>\n",
       "      <td>500108.0</td>\n",
       "      <td>0.04914</td>\n",
       "      <td>Reject Null</td>\n",
       "    </tr>\n",
       "    <tr>\n",
       "      <th>Double Faults</th>\n",
       "      <td>281380.5</td>\n",
       "      <td>218727.5</td>\n",
       "      <td>500108.0</td>\n",
       "      <td>0.99999</td>\n",
       "      <td>Fail to Reject Null</td>\n",
       "    </tr>\n",
       "    <tr>\n",
       "      <th>Break Points Faced</th>\n",
       "      <td>283695.5</td>\n",
       "      <td>216412.5</td>\n",
       "      <td>500108.0</td>\n",
       "      <td>0.99999</td>\n",
       "      <td>Fail to Reject Null</td>\n",
       "    </tr>\n",
       "  </tbody>\n",
       "</table>\n",
       "</div>"
      ],
      "text/plain": [
       "                      Djokovic Wins  Federer Wins  Total Trials  P-Value  \\\n",
       "Aces                       156149.0      343959.0      500108.0  1.00000   \n",
       "Serve Points               247484.0      252624.0      500108.0  0.63101   \n",
       "1st Serve In               261307.0      238801.0      500108.0  0.07152   \n",
       "1st Serve Points Won       241950.0      258078.0      500028.0  0.85428   \n",
       "2nd Serve Points Won       218106.5      282155.5      500262.0  0.99998   \n",
       "Service Games              236319.5      263785.5      500105.0  0.96359   \n",
       "Break Points Saved         273656.5      226451.5      500108.0  0.00093   \n",
       "Wins                       257906.0      242202.0      500108.0  0.04914   \n",
       "Double Faults              281380.5      218727.5      500108.0  0.99999   \n",
       "Break Points Faced         283695.5      216412.5      500108.0  0.99999   \n",
       "\n",
       "                             Reject Null?  \n",
       "Aces                  Fail to Reject Null  \n",
       "Serve Points          Fail to Reject Null  \n",
       "1st Serve In          Fail to Reject Null  \n",
       "1st Serve Points Won  Fail to Reject Null  \n",
       "2nd Serve Points Won  Fail to Reject Null  \n",
       "Service Games         Fail to Reject Null  \n",
       "Break Points Saved            Reject Null  \n",
       "Wins                          Reject Null  \n",
       "Double Faults         Fail to Reject Null  \n",
       "Break Points Faced    Fail to Reject Null  "
      ]
     },
     "execution_count": 417,
     "metadata": {},
     "output_type": "execute_result"
    }
   ],
   "source": [
    "alpha = 0.05\n",
    "\n",
    "total_comparisons2 = []\n",
    "for djok_v, fed_v in zip(djok_wins1, fed_wins2):\n",
    "    total_comparisons2.append(djok_v + fed_v)\n",
    "    \n",
    "data2 = {   \"Djokovic Wins\": [i for i in djok_wins1],\n",
    "            \"Federer Wins\": [i for i in fed_wins2],\n",
    "            \"Total Trials\": [i for i in total_comparisons2],\n",
    "            \"P-Value\": [i.round(5) for i in djok_pvals1],\n",
    "            \"Reject Null?\": ['Reject Null' if p_val < alpha else 'Fail to Reject Null' for p_val in djok_pvals1]\n",
    "}\n",
    "djok_vs_fed = pd.DataFrame(data2, index=['Aces', 'Serve Points', '1st Serve In', '1st Serve Points Won', '2nd Serve Points Won', 'Service Games', 'Break Points Saved', 'Wins', 'Double Faults', 'Break Points Faced'])\n",
    "djok_vs_fed"
   ]
  },
  {
   "cell_type": "markdown",
   "metadata": {},
   "source": [
    "    Asked myself \"how can this be? ...given the number of titles Djokovic has\"\n",
    "* Federer might be statistically better, but let me check their h2h record in order to explain Djokovic's > num of wins in regular matches and grand slam titles\n",
    "    * Federer 'fine tuned' machine"
   ]
  },
  {
   "cell_type": "code",
   "execution_count": 400,
   "metadata": {},
   "outputs": [
    {
     "data": {
      "text/html": [
       "<div>\n",
       "<style scoped>\n",
       "    .dataframe tbody tr th:only-of-type {\n",
       "        vertical-align: middle;\n",
       "    }\n",
       "\n",
       "    .dataframe tbody tr th {\n",
       "        vertical-align: top;\n",
       "    }\n",
       "\n",
       "    .dataframe thead th {\n",
       "        text-align: right;\n",
       "    }\n",
       "</style>\n",
       "<table border=\"1\" class=\"dataframe\">\n",
       "  <thead>\n",
       "    <tr style=\"text-align: right;\">\n",
       "      <th></th>\n",
       "      <th>tourney_id</th>\n",
       "      <th>tourney_name</th>\n",
       "      <th>surface</th>\n",
       "      <th>draw_size</th>\n",
       "      <th>tourney_level</th>\n",
       "      <th>tourney_date</th>\n",
       "      <th>match_num</th>\n",
       "      <th>winner_id</th>\n",
       "      <th>winner_seed</th>\n",
       "      <th>winner_entry</th>\n",
       "      <th>...</th>\n",
       "      <th>l_1stIn</th>\n",
       "      <th>l_1stWon</th>\n",
       "      <th>l_2ndWon</th>\n",
       "      <th>l_SvGms</th>\n",
       "      <th>l_bpSaved</th>\n",
       "      <th>l_bpFaced</th>\n",
       "      <th>winner_rank</th>\n",
       "      <th>winner_rank_points</th>\n",
       "      <th>loser_rank</th>\n",
       "      <th>loser_rank_points</th>\n",
       "    </tr>\n",
       "  </thead>\n",
       "  <tbody>\n",
       "    <tr>\n",
       "      <th>263</th>\n",
       "      <td>2016-580</td>\n",
       "      <td>Australian Open</td>\n",
       "      <td>Hard</td>\n",
       "      <td>128</td>\n",
       "      <td>G</td>\n",
       "      <td>20160118</td>\n",
       "      <td>224</td>\n",
       "      <td>104925</td>\n",
       "      <td>1.0</td>\n",
       "      <td>NaN</td>\n",
       "      <td>...</td>\n",
       "      <td>57.0</td>\n",
       "      <td>35.0</td>\n",
       "      <td>21.0</td>\n",
       "      <td>16.0</td>\n",
       "      <td>4.0</td>\n",
       "      <td>9.0</td>\n",
       "      <td>1.0</td>\n",
       "      <td>16790.0</td>\n",
       "      <td>3.0</td>\n",
       "      <td>8165.0</td>\n",
       "    </tr>\n",
       "    <tr>\n",
       "      <th>272</th>\n",
       "      <td>2011-580</td>\n",
       "      <td>Australian Open</td>\n",
       "      <td>Hard</td>\n",
       "      <td>128</td>\n",
       "      <td>G</td>\n",
       "      <td>20110117</td>\n",
       "      <td>126</td>\n",
       "      <td>104925</td>\n",
       "      <td>3.0</td>\n",
       "      <td>NaN</td>\n",
       "      <td>...</td>\n",
       "      <td>62.0</td>\n",
       "      <td>45.0</td>\n",
       "      <td>20.0</td>\n",
       "      <td>17.0</td>\n",
       "      <td>9.0</td>\n",
       "      <td>14.0</td>\n",
       "      <td>3.0</td>\n",
       "      <td>6240.0</td>\n",
       "      <td>2.0</td>\n",
       "      <td>9245.0</td>\n",
       "    </tr>\n",
       "    <tr>\n",
       "      <th>633</th>\n",
       "      <td>2011-495</td>\n",
       "      <td>Dubai</td>\n",
       "      <td>Hard</td>\n",
       "      <td>32</td>\n",
       "      <td>A</td>\n",
       "      <td>20110221</td>\n",
       "      <td>31</td>\n",
       "      <td>104925</td>\n",
       "      <td>2.0</td>\n",
       "      <td>NaN</td>\n",
       "      <td>...</td>\n",
       "      <td>35.0</td>\n",
       "      <td>22.0</td>\n",
       "      <td>9.0</td>\n",
       "      <td>9.0</td>\n",
       "      <td>6.0</td>\n",
       "      <td>10.0</td>\n",
       "      <td>3.0</td>\n",
       "      <td>7880.0</td>\n",
       "      <td>2.0</td>\n",
       "      <td>7965.0</td>\n",
       "    </tr>\n",
       "    <tr>\n",
       "      <th>830</th>\n",
       "      <td>2014-404</td>\n",
       "      <td>Indian Wells Masters</td>\n",
       "      <td>Hard</td>\n",
       "      <td>96</td>\n",
       "      <td>M</td>\n",
       "      <td>20140306</td>\n",
       "      <td>95</td>\n",
       "      <td>104925</td>\n",
       "      <td>2.0</td>\n",
       "      <td>NaN</td>\n",
       "      <td>...</td>\n",
       "      <td>64.0</td>\n",
       "      <td>45.0</td>\n",
       "      <td>21.0</td>\n",
       "      <td>15.0</td>\n",
       "      <td>4.0</td>\n",
       "      <td>6.0</td>\n",
       "      <td>2.0</td>\n",
       "      <td>10260.0</td>\n",
       "      <td>8.0</td>\n",
       "      <td>4625.0</td>\n",
       "    </tr>\n",
       "    <tr>\n",
       "      <th>835</th>\n",
       "      <td>2015-404</td>\n",
       "      <td>Indian Wells Masters</td>\n",
       "      <td>Hard</td>\n",
       "      <td>96</td>\n",
       "      <td>M</td>\n",
       "      <td>20150312</td>\n",
       "      <td>95</td>\n",
       "      <td>104925</td>\n",
       "      <td>1.0</td>\n",
       "      <td>NaN</td>\n",
       "      <td>...</td>\n",
       "      <td>57.0</td>\n",
       "      <td>41.0</td>\n",
       "      <td>15.0</td>\n",
       "      <td>14.0</td>\n",
       "      <td>8.0</td>\n",
       "      <td>13.0</td>\n",
       "      <td>1.0</td>\n",
       "      <td>13205.0</td>\n",
       "      <td>2.0</td>\n",
       "      <td>9205.0</td>\n",
       "    </tr>\n",
       "    <tr>\n",
       "      <th>858</th>\n",
       "      <td>2011-404</td>\n",
       "      <td>Indian Wells Masters</td>\n",
       "      <td>Hard</td>\n",
       "      <td>96</td>\n",
       "      <td>M</td>\n",
       "      <td>20110310</td>\n",
       "      <td>94</td>\n",
       "      <td>104925</td>\n",
       "      <td>3.0</td>\n",
       "      <td>NaN</td>\n",
       "      <td>...</td>\n",
       "      <td>48.0</td>\n",
       "      <td>33.0</td>\n",
       "      <td>15.0</td>\n",
       "      <td>13.0</td>\n",
       "      <td>5.0</td>\n",
       "      <td>10.0</td>\n",
       "      <td>3.0</td>\n",
       "      <td>7800.0</td>\n",
       "      <td>2.0</td>\n",
       "      <td>7965.0</td>\n",
       "    </tr>\n",
       "    <tr>\n",
       "      <th>1304</th>\n",
       "      <td>2015-416</td>\n",
       "      <td>Rome Masters</td>\n",
       "      <td>Clay</td>\n",
       "      <td>56</td>\n",
       "      <td>M</td>\n",
       "      <td>20150510</td>\n",
       "      <td>55</td>\n",
       "      <td>104925</td>\n",
       "      <td>1.0</td>\n",
       "      <td>NaN</td>\n",
       "      <td>...</td>\n",
       "      <td>39.0</td>\n",
       "      <td>30.0</td>\n",
       "      <td>8.0</td>\n",
       "      <td>9.0</td>\n",
       "      <td>3.0</td>\n",
       "      <td>5.0</td>\n",
       "      <td>1.0</td>\n",
       "      <td>13845.0</td>\n",
       "      <td>2.0</td>\n",
       "      <td>8645.0</td>\n",
       "    </tr>\n",
       "    <tr>\n",
       "      <th>1430</th>\n",
       "      <td>2012-416</td>\n",
       "      <td>Rome Masters</td>\n",
       "      <td>Clay</td>\n",
       "      <td>56</td>\n",
       "      <td>M</td>\n",
       "      <td>20120513</td>\n",
       "      <td>53</td>\n",
       "      <td>104925</td>\n",
       "      <td>1.0</td>\n",
       "      <td>NaN</td>\n",
       "      <td>...</td>\n",
       "      <td>32.0</td>\n",
       "      <td>25.0</td>\n",
       "      <td>16.0</td>\n",
       "      <td>10.0</td>\n",
       "      <td>3.0</td>\n",
       "      <td>6.0</td>\n",
       "      <td>1.0</td>\n",
       "      <td>11200.0</td>\n",
       "      <td>2.0</td>\n",
       "      <td>9430.0</td>\n",
       "    </tr>\n",
       "    <tr>\n",
       "      <th>1611</th>\n",
       "      <td>2012-520</td>\n",
       "      <td>Roland Garros</td>\n",
       "      <td>Clay</td>\n",
       "      <td>128</td>\n",
       "      <td>G</td>\n",
       "      <td>20120527</td>\n",
       "      <td>125</td>\n",
       "      <td>104925</td>\n",
       "      <td>1.0</td>\n",
       "      <td>NaN</td>\n",
       "      <td>...</td>\n",
       "      <td>48.0</td>\n",
       "      <td>27.0</td>\n",
       "      <td>17.0</td>\n",
       "      <td>15.0</td>\n",
       "      <td>3.0</td>\n",
       "      <td>10.0</td>\n",
       "      <td>1.0</td>\n",
       "      <td>11800.0</td>\n",
       "      <td>3.0</td>\n",
       "      <td>9790.0</td>\n",
       "    </tr>\n",
       "    <tr>\n",
       "      <th>1628</th>\n",
       "      <td>2019-540</td>\n",
       "      <td>Wimbledon</td>\n",
       "      <td>Grass</td>\n",
       "      <td>128</td>\n",
       "      <td>G</td>\n",
       "      <td>20190701</td>\n",
       "      <td>226</td>\n",
       "      <td>104925</td>\n",
       "      <td>1.0</td>\n",
       "      <td>NaN</td>\n",
       "      <td>...</td>\n",
       "      <td>127.0</td>\n",
       "      <td>100.0</td>\n",
       "      <td>39.0</td>\n",
       "      <td>34.0</td>\n",
       "      <td>5.0</td>\n",
       "      <td>8.0</td>\n",
       "      <td>1.0</td>\n",
       "      <td>12415.0</td>\n",
       "      <td>3.0</td>\n",
       "      <td>6620.0</td>\n",
       "    </tr>\n",
       "    <tr>\n",
       "      <th>1775</th>\n",
       "      <td>2015-540</td>\n",
       "      <td>Wimbledon</td>\n",
       "      <td>Grass</td>\n",
       "      <td>128</td>\n",
       "      <td>G</td>\n",
       "      <td>20150629</td>\n",
       "      <td>127</td>\n",
       "      <td>104925</td>\n",
       "      <td>1.0</td>\n",
       "      <td>NaN</td>\n",
       "      <td>...</td>\n",
       "      <td>94.0</td>\n",
       "      <td>70.0</td>\n",
       "      <td>23.0</td>\n",
       "      <td>22.0</td>\n",
       "      <td>6.0</td>\n",
       "      <td>10.0</td>\n",
       "      <td>1.0</td>\n",
       "      <td>13845.0</td>\n",
       "      <td>2.0</td>\n",
       "      <td>9665.0</td>\n",
       "    </tr>\n",
       "    <tr>\n",
       "      <th>1823</th>\n",
       "      <td>2014-540</td>\n",
       "      <td>Wimbledon</td>\n",
       "      <td>Grass</td>\n",
       "      <td>128</td>\n",
       "      <td>G</td>\n",
       "      <td>20140623</td>\n",
       "      <td>127</td>\n",
       "      <td>104925</td>\n",
       "      <td>1.0</td>\n",
       "      <td>NaN</td>\n",
       "      <td>...</td>\n",
       "      <td>133.0</td>\n",
       "      <td>102.0</td>\n",
       "      <td>26.0</td>\n",
       "      <td>28.0</td>\n",
       "      <td>11.0</td>\n",
       "      <td>15.0</td>\n",
       "      <td>2.0</td>\n",
       "      <td>12330.0</td>\n",
       "      <td>4.0</td>\n",
       "      <td>4945.0</td>\n",
       "    </tr>\n",
       "    <tr>\n",
       "      <th>2216</th>\n",
       "      <td>2018-M024</td>\n",
       "      <td>Cincinnati Masters</td>\n",
       "      <td>Hard</td>\n",
       "      <td>64</td>\n",
       "      <td>M</td>\n",
       "      <td>20180813</td>\n",
       "      <td>300</td>\n",
       "      <td>104925</td>\n",
       "      <td>10.0</td>\n",
       "      <td>NaN</td>\n",
       "      <td>...</td>\n",
       "      <td>45.0</td>\n",
       "      <td>30.0</td>\n",
       "      <td>15.0</td>\n",
       "      <td>10.0</td>\n",
       "      <td>3.0</td>\n",
       "      <td>6.0</td>\n",
       "      <td>10.0</td>\n",
       "      <td>3445.0</td>\n",
       "      <td>2.0</td>\n",
       "      <td>6480.0</td>\n",
       "    </tr>\n",
       "    <tr>\n",
       "      <th>2436</th>\n",
       "      <td>2015-560</td>\n",
       "      <td>US Open</td>\n",
       "      <td>Hard</td>\n",
       "      <td>128</td>\n",
       "      <td>G</td>\n",
       "      <td>20150831</td>\n",
       "      <td>127</td>\n",
       "      <td>104925</td>\n",
       "      <td>1.0</td>\n",
       "      <td>NaN</td>\n",
       "      <td>...</td>\n",
       "      <td>87.0</td>\n",
       "      <td>62.0</td>\n",
       "      <td>23.0</td>\n",
       "      <td>21.0</td>\n",
       "      <td>7.0</td>\n",
       "      <td>13.0</td>\n",
       "      <td>1.0</td>\n",
       "      <td>14865.0</td>\n",
       "      <td>2.0</td>\n",
       "      <td>9065.0</td>\n",
       "    </tr>\n",
       "    <tr>\n",
       "      <th>2462</th>\n",
       "      <td>2010-560</td>\n",
       "      <td>US Open</td>\n",
       "      <td>Hard</td>\n",
       "      <td>128</td>\n",
       "      <td>G</td>\n",
       "      <td>20100830</td>\n",
       "      <td>126</td>\n",
       "      <td>104925</td>\n",
       "      <td>3.0</td>\n",
       "      <td>NaN</td>\n",
       "      <td>...</td>\n",
       "      <td>84.0</td>\n",
       "      <td>62.0</td>\n",
       "      <td>35.0</td>\n",
       "      <td>25.0</td>\n",
       "      <td>6.0</td>\n",
       "      <td>12.0</td>\n",
       "      <td>3.0</td>\n",
       "      <td>6665.0</td>\n",
       "      <td>2.0</td>\n",
       "      <td>7215.0</td>\n",
       "    </tr>\n",
       "    <tr>\n",
       "      <th>2474</th>\n",
       "      <td>2011-560</td>\n",
       "      <td>US Open</td>\n",
       "      <td>Hard</td>\n",
       "      <td>128</td>\n",
       "      <td>G</td>\n",
       "      <td>20110829</td>\n",
       "      <td>125</td>\n",
       "      <td>104925</td>\n",
       "      <td>1.0</td>\n",
       "      <td>NaN</td>\n",
       "      <td>...</td>\n",
       "      <td>101.0</td>\n",
       "      <td>68.0</td>\n",
       "      <td>35.0</td>\n",
       "      <td>25.0</td>\n",
       "      <td>6.0</td>\n",
       "      <td>12.0</td>\n",
       "      <td>1.0</td>\n",
       "      <td>13920.0</td>\n",
       "      <td>3.0</td>\n",
       "      <td>8380.0</td>\n",
       "    </tr>\n",
       "    <tr>\n",
       "      <th>2852</th>\n",
       "      <td>2018-0352</td>\n",
       "      <td>Paris Masters</td>\n",
       "      <td>Hard</td>\n",
       "      <td>64</td>\n",
       "      <td>M</td>\n",
       "      <td>20181029</td>\n",
       "      <td>298</td>\n",
       "      <td>104925</td>\n",
       "      <td>2.0</td>\n",
       "      <td>NaN</td>\n",
       "      <td>...</td>\n",
       "      <td>93.0</td>\n",
       "      <td>69.0</td>\n",
       "      <td>25.0</td>\n",
       "      <td>18.0</td>\n",
       "      <td>12.0</td>\n",
       "      <td>12.0</td>\n",
       "      <td>2.0</td>\n",
       "      <td>7445.0</td>\n",
       "      <td>3.0</td>\n",
       "      <td>6260.0</td>\n",
       "    </tr>\n",
       "    <tr>\n",
       "      <th>2897</th>\n",
       "      <td>2014-605</td>\n",
       "      <td>Tour Finals</td>\n",
       "      <td>Hard</td>\n",
       "      <td>8</td>\n",
       "      <td>F</td>\n",
       "      <td>20141109</td>\n",
       "      <td>515</td>\n",
       "      <td>104925</td>\n",
       "      <td>1.0</td>\n",
       "      <td>NaN</td>\n",
       "      <td>...</td>\n",
       "      <td>NaN</td>\n",
       "      <td>NaN</td>\n",
       "      <td>NaN</td>\n",
       "      <td>NaN</td>\n",
       "      <td>NaN</td>\n",
       "      <td>NaN</td>\n",
       "      <td>1.0</td>\n",
       "      <td>10010.0</td>\n",
       "      <td>2.0</td>\n",
       "      <td>8700.0</td>\n",
       "    </tr>\n",
       "    <tr>\n",
       "      <th>2923</th>\n",
       "      <td>2013-352</td>\n",
       "      <td>Paris Masters</td>\n",
       "      <td>Hard</td>\n",
       "      <td>48</td>\n",
       "      <td>M</td>\n",
       "      <td>20131028</td>\n",
       "      <td>46</td>\n",
       "      <td>104925</td>\n",
       "      <td>2.0</td>\n",
       "      <td>NaN</td>\n",
       "      <td>...</td>\n",
       "      <td>59.0</td>\n",
       "      <td>40.0</td>\n",
       "      <td>12.0</td>\n",
       "      <td>13.0</td>\n",
       "      <td>6.0</td>\n",
       "      <td>10.0</td>\n",
       "      <td>2.0</td>\n",
       "      <td>11120.0</td>\n",
       "      <td>6.0</td>\n",
       "      <td>4245.0</td>\n",
       "    </tr>\n",
       "    <tr>\n",
       "      <th>2929</th>\n",
       "      <td>2013-605</td>\n",
       "      <td>Tour Finals</td>\n",
       "      <td>Hard</td>\n",
       "      <td>8</td>\n",
       "      <td>F</td>\n",
       "      <td>20131104</td>\n",
       "      <td>505</td>\n",
       "      <td>104925</td>\n",
       "      <td>2.0</td>\n",
       "      <td>NaN</td>\n",
       "      <td>...</td>\n",
       "      <td>56.0</td>\n",
       "      <td>37.0</td>\n",
       "      <td>23.0</td>\n",
       "      <td>15.0</td>\n",
       "      <td>6.0</td>\n",
       "      <td>11.0</td>\n",
       "      <td>2.0</td>\n",
       "      <td>10610.0</td>\n",
       "      <td>7.0</td>\n",
       "      <td>3805.0</td>\n",
       "    </tr>\n",
       "    <tr>\n",
       "      <th>2939</th>\n",
       "      <td>2015-605</td>\n",
       "      <td>Tour Finals</td>\n",
       "      <td>Hard</td>\n",
       "      <td>8</td>\n",
       "      <td>F</td>\n",
       "      <td>20151115</td>\n",
       "      <td>515</td>\n",
       "      <td>104925</td>\n",
       "      <td>1.0</td>\n",
       "      <td>NaN</td>\n",
       "      <td>...</td>\n",
       "      <td>38.0</td>\n",
       "      <td>27.0</td>\n",
       "      <td>9.0</td>\n",
       "      <td>10.0</td>\n",
       "      <td>6.0</td>\n",
       "      <td>9.0</td>\n",
       "      <td>1.0</td>\n",
       "      <td>15285.0</td>\n",
       "      <td>3.0</td>\n",
       "      <td>7340.0</td>\n",
       "    </tr>\n",
       "    <tr>\n",
       "      <th>3005</th>\n",
       "      <td>2012-605</td>\n",
       "      <td>Tour Finals</td>\n",
       "      <td>Hard</td>\n",
       "      <td>8</td>\n",
       "      <td>F</td>\n",
       "      <td>20121105</td>\n",
       "      <td>515</td>\n",
       "      <td>104925</td>\n",
       "      <td>1.0</td>\n",
       "      <td>NaN</td>\n",
       "      <td>...</td>\n",
       "      <td>57.0</td>\n",
       "      <td>35.0</td>\n",
       "      <td>19.0</td>\n",
       "      <td>12.0</td>\n",
       "      <td>3.0</td>\n",
       "      <td>7.0</td>\n",
       "      <td>1.0</td>\n",
       "      <td>11420.0</td>\n",
       "      <td>2.0</td>\n",
       "      <td>9465.0</td>\n",
       "    </tr>\n",
       "  </tbody>\n",
       "</table>\n",
       "<p>22 rows × 49 columns</p>\n",
       "</div>"
      ],
      "text/plain": [
       "     tourney_id          tourney_name surface  draw_size tourney_level  \\\n",
       "263    2016-580       Australian Open    Hard        128             G   \n",
       "272    2011-580       Australian Open    Hard        128             G   \n",
       "633    2011-495                 Dubai    Hard         32             A   \n",
       "830    2014-404  Indian Wells Masters    Hard         96             M   \n",
       "835    2015-404  Indian Wells Masters    Hard         96             M   \n",
       "858    2011-404  Indian Wells Masters    Hard         96             M   \n",
       "1304   2015-416          Rome Masters    Clay         56             M   \n",
       "1430   2012-416          Rome Masters    Clay         56             M   \n",
       "1611   2012-520         Roland Garros    Clay        128             G   \n",
       "1628   2019-540             Wimbledon   Grass        128             G   \n",
       "1775   2015-540             Wimbledon   Grass        128             G   \n",
       "1823   2014-540             Wimbledon   Grass        128             G   \n",
       "2216  2018-M024    Cincinnati Masters    Hard         64             M   \n",
       "2436   2015-560               US Open    Hard        128             G   \n",
       "2462   2010-560               US Open    Hard        128             G   \n",
       "2474   2011-560               US Open    Hard        128             G   \n",
       "2852  2018-0352         Paris Masters    Hard         64             M   \n",
       "2897   2014-605           Tour Finals    Hard          8             F   \n",
       "2923   2013-352         Paris Masters    Hard         48             M   \n",
       "2929   2013-605           Tour Finals    Hard          8             F   \n",
       "2939   2015-605           Tour Finals    Hard          8             F   \n",
       "3005   2012-605           Tour Finals    Hard          8             F   \n",
       "\n",
       "      tourney_date  match_num  winner_id  winner_seed winner_entry  ...  \\\n",
       "263       20160118        224     104925          1.0          NaN  ...   \n",
       "272       20110117        126     104925          3.0          NaN  ...   \n",
       "633       20110221         31     104925          2.0          NaN  ...   \n",
       "830       20140306         95     104925          2.0          NaN  ...   \n",
       "835       20150312         95     104925          1.0          NaN  ...   \n",
       "858       20110310         94     104925          3.0          NaN  ...   \n",
       "1304      20150510         55     104925          1.0          NaN  ...   \n",
       "1430      20120513         53     104925          1.0          NaN  ...   \n",
       "1611      20120527        125     104925          1.0          NaN  ...   \n",
       "1628      20190701        226     104925          1.0          NaN  ...   \n",
       "1775      20150629        127     104925          1.0          NaN  ...   \n",
       "1823      20140623        127     104925          1.0          NaN  ...   \n",
       "2216      20180813        300     104925         10.0          NaN  ...   \n",
       "2436      20150831        127     104925          1.0          NaN  ...   \n",
       "2462      20100830        126     104925          3.0          NaN  ...   \n",
       "2474      20110829        125     104925          1.0          NaN  ...   \n",
       "2852      20181029        298     104925          2.0          NaN  ...   \n",
       "2897      20141109        515     104925          1.0          NaN  ...   \n",
       "2923      20131028         46     104925          2.0          NaN  ...   \n",
       "2929      20131104        505     104925          2.0          NaN  ...   \n",
       "2939      20151115        515     104925          1.0          NaN  ...   \n",
       "3005      20121105        515     104925          1.0          NaN  ...   \n",
       "\n",
       "     l_1stIn l_1stWon  l_2ndWon l_SvGms  l_bpSaved  l_bpFaced  winner_rank  \\\n",
       "263     57.0     35.0      21.0    16.0        4.0        9.0          1.0   \n",
       "272     62.0     45.0      20.0    17.0        9.0       14.0          3.0   \n",
       "633     35.0     22.0       9.0     9.0        6.0       10.0          3.0   \n",
       "830     64.0     45.0      21.0    15.0        4.0        6.0          2.0   \n",
       "835     57.0     41.0      15.0    14.0        8.0       13.0          1.0   \n",
       "858     48.0     33.0      15.0    13.0        5.0       10.0          3.0   \n",
       "1304    39.0     30.0       8.0     9.0        3.0        5.0          1.0   \n",
       "1430    32.0     25.0      16.0    10.0        3.0        6.0          1.0   \n",
       "1611    48.0     27.0      17.0    15.0        3.0       10.0          1.0   \n",
       "1628   127.0    100.0      39.0    34.0        5.0        8.0          1.0   \n",
       "1775    94.0     70.0      23.0    22.0        6.0       10.0          1.0   \n",
       "1823   133.0    102.0      26.0    28.0       11.0       15.0          2.0   \n",
       "2216    45.0     30.0      15.0    10.0        3.0        6.0         10.0   \n",
       "2436    87.0     62.0      23.0    21.0        7.0       13.0          1.0   \n",
       "2462    84.0     62.0      35.0    25.0        6.0       12.0          3.0   \n",
       "2474   101.0     68.0      35.0    25.0        6.0       12.0          1.0   \n",
       "2852    93.0     69.0      25.0    18.0       12.0       12.0          2.0   \n",
       "2897     NaN      NaN       NaN     NaN        NaN        NaN          1.0   \n",
       "2923    59.0     40.0      12.0    13.0        6.0       10.0          2.0   \n",
       "2929    56.0     37.0      23.0    15.0        6.0       11.0          2.0   \n",
       "2939    38.0     27.0       9.0    10.0        6.0        9.0          1.0   \n",
       "3005    57.0     35.0      19.0    12.0        3.0        7.0          1.0   \n",
       "\n",
       "     winner_rank_points loser_rank loser_rank_points  \n",
       "263             16790.0        3.0            8165.0  \n",
       "272              6240.0        2.0            9245.0  \n",
       "633              7880.0        2.0            7965.0  \n",
       "830             10260.0        8.0            4625.0  \n",
       "835             13205.0        2.0            9205.0  \n",
       "858              7800.0        2.0            7965.0  \n",
       "1304            13845.0        2.0            8645.0  \n",
       "1430            11200.0        2.0            9430.0  \n",
       "1611            11800.0        3.0            9790.0  \n",
       "1628            12415.0        3.0            6620.0  \n",
       "1775            13845.0        2.0            9665.0  \n",
       "1823            12330.0        4.0            4945.0  \n",
       "2216             3445.0        2.0            6480.0  \n",
       "2436            14865.0        2.0            9065.0  \n",
       "2462             6665.0        2.0            7215.0  \n",
       "2474            13920.0        3.0            8380.0  \n",
       "2852             7445.0        3.0            6260.0  \n",
       "2897            10010.0        2.0            8700.0  \n",
       "2923            11120.0        6.0            4245.0  \n",
       "2929            10610.0        7.0            3805.0  \n",
       "2939            15285.0        3.0            7340.0  \n",
       "3005            11420.0        2.0            9465.0  \n",
       "\n",
       "[22 rows x 49 columns]"
      ]
     },
     "execution_count": 400,
     "metadata": {},
     "output_type": "execute_result"
    }
   ],
   "source": [
    "#final_tennis[(final_tennis['winner_name'] == 'Novak Djokovic') & (final_tennis['loser_name'] == 'Roger Federer')]\n",
    "djok_fed_h2h = copy_tennis[(copy_tennis['winner_name'] == 'Novak Djokovic') & (copy_tennis['loser_name'] == 'Roger Federer')]\n",
    "djok_fed_h2h # Federer has lost to Djokovic 22 times! 9 times in major tournaments"
   ]
  },
  {
   "cell_type": "code",
   "execution_count": 404,
   "metadata": {},
   "outputs": [
    {
     "data": {
      "text/html": [
       "<div>\n",
       "<style scoped>\n",
       "    .dataframe tbody tr th:only-of-type {\n",
       "        vertical-align: middle;\n",
       "    }\n",
       "\n",
       "    .dataframe tbody tr th {\n",
       "        vertical-align: top;\n",
       "    }\n",
       "\n",
       "    .dataframe thead th {\n",
       "        text-align: right;\n",
       "    }\n",
       "</style>\n",
       "<table border=\"1\" class=\"dataframe\">\n",
       "  <thead>\n",
       "    <tr style=\"text-align: right;\">\n",
       "      <th></th>\n",
       "      <th>tourney_id</th>\n",
       "      <th>tourney_name</th>\n",
       "      <th>surface</th>\n",
       "      <th>draw_size</th>\n",
       "      <th>tourney_level</th>\n",
       "      <th>tourney_date</th>\n",
       "      <th>match_num</th>\n",
       "      <th>winner_id</th>\n",
       "      <th>winner_seed</th>\n",
       "      <th>winner_entry</th>\n",
       "      <th>...</th>\n",
       "      <th>l_1stIn</th>\n",
       "      <th>l_1stWon</th>\n",
       "      <th>l_2ndWon</th>\n",
       "      <th>l_SvGms</th>\n",
       "      <th>l_bpSaved</th>\n",
       "      <th>l_bpFaced</th>\n",
       "      <th>winner_rank</th>\n",
       "      <th>winner_rank_points</th>\n",
       "      <th>loser_rank</th>\n",
       "      <th>loser_rank_points</th>\n",
       "    </tr>\n",
       "  </thead>\n",
       "  <tbody>\n",
       "    <tr>\n",
       "      <th>263</th>\n",
       "      <td>2016-580</td>\n",
       "      <td>Australian Open</td>\n",
       "      <td>Hard</td>\n",
       "      <td>128</td>\n",
       "      <td>G</td>\n",
       "      <td>20160118</td>\n",
       "      <td>224</td>\n",
       "      <td>104925</td>\n",
       "      <td>1.0</td>\n",
       "      <td>NaN</td>\n",
       "      <td>...</td>\n",
       "      <td>57.0</td>\n",
       "      <td>35.0</td>\n",
       "      <td>21.0</td>\n",
       "      <td>16.0</td>\n",
       "      <td>4.0</td>\n",
       "      <td>9.0</td>\n",
       "      <td>1.0</td>\n",
       "      <td>16790.0</td>\n",
       "      <td>3.0</td>\n",
       "      <td>8165.0</td>\n",
       "    </tr>\n",
       "    <tr>\n",
       "      <th>272</th>\n",
       "      <td>2011-580</td>\n",
       "      <td>Australian Open</td>\n",
       "      <td>Hard</td>\n",
       "      <td>128</td>\n",
       "      <td>G</td>\n",
       "      <td>20110117</td>\n",
       "      <td>126</td>\n",
       "      <td>104925</td>\n",
       "      <td>3.0</td>\n",
       "      <td>NaN</td>\n",
       "      <td>...</td>\n",
       "      <td>62.0</td>\n",
       "      <td>45.0</td>\n",
       "      <td>20.0</td>\n",
       "      <td>17.0</td>\n",
       "      <td>9.0</td>\n",
       "      <td>14.0</td>\n",
       "      <td>3.0</td>\n",
       "      <td>6240.0</td>\n",
       "      <td>2.0</td>\n",
       "      <td>9245.0</td>\n",
       "    </tr>\n",
       "    <tr>\n",
       "      <th>1611</th>\n",
       "      <td>2012-520</td>\n",
       "      <td>Roland Garros</td>\n",
       "      <td>Clay</td>\n",
       "      <td>128</td>\n",
       "      <td>G</td>\n",
       "      <td>20120527</td>\n",
       "      <td>125</td>\n",
       "      <td>104925</td>\n",
       "      <td>1.0</td>\n",
       "      <td>NaN</td>\n",
       "      <td>...</td>\n",
       "      <td>48.0</td>\n",
       "      <td>27.0</td>\n",
       "      <td>17.0</td>\n",
       "      <td>15.0</td>\n",
       "      <td>3.0</td>\n",
       "      <td>10.0</td>\n",
       "      <td>1.0</td>\n",
       "      <td>11800.0</td>\n",
       "      <td>3.0</td>\n",
       "      <td>9790.0</td>\n",
       "    </tr>\n",
       "    <tr>\n",
       "      <th>1628</th>\n",
       "      <td>2019-540</td>\n",
       "      <td>Wimbledon</td>\n",
       "      <td>Grass</td>\n",
       "      <td>128</td>\n",
       "      <td>G</td>\n",
       "      <td>20190701</td>\n",
       "      <td>226</td>\n",
       "      <td>104925</td>\n",
       "      <td>1.0</td>\n",
       "      <td>NaN</td>\n",
       "      <td>...</td>\n",
       "      <td>127.0</td>\n",
       "      <td>100.0</td>\n",
       "      <td>39.0</td>\n",
       "      <td>34.0</td>\n",
       "      <td>5.0</td>\n",
       "      <td>8.0</td>\n",
       "      <td>1.0</td>\n",
       "      <td>12415.0</td>\n",
       "      <td>3.0</td>\n",
       "      <td>6620.0</td>\n",
       "    </tr>\n",
       "    <tr>\n",
       "      <th>1775</th>\n",
       "      <td>2015-540</td>\n",
       "      <td>Wimbledon</td>\n",
       "      <td>Grass</td>\n",
       "      <td>128</td>\n",
       "      <td>G</td>\n",
       "      <td>20150629</td>\n",
       "      <td>127</td>\n",
       "      <td>104925</td>\n",
       "      <td>1.0</td>\n",
       "      <td>NaN</td>\n",
       "      <td>...</td>\n",
       "      <td>94.0</td>\n",
       "      <td>70.0</td>\n",
       "      <td>23.0</td>\n",
       "      <td>22.0</td>\n",
       "      <td>6.0</td>\n",
       "      <td>10.0</td>\n",
       "      <td>1.0</td>\n",
       "      <td>13845.0</td>\n",
       "      <td>2.0</td>\n",
       "      <td>9665.0</td>\n",
       "    </tr>\n",
       "    <tr>\n",
       "      <th>1823</th>\n",
       "      <td>2014-540</td>\n",
       "      <td>Wimbledon</td>\n",
       "      <td>Grass</td>\n",
       "      <td>128</td>\n",
       "      <td>G</td>\n",
       "      <td>20140623</td>\n",
       "      <td>127</td>\n",
       "      <td>104925</td>\n",
       "      <td>1.0</td>\n",
       "      <td>NaN</td>\n",
       "      <td>...</td>\n",
       "      <td>133.0</td>\n",
       "      <td>102.0</td>\n",
       "      <td>26.0</td>\n",
       "      <td>28.0</td>\n",
       "      <td>11.0</td>\n",
       "      <td>15.0</td>\n",
       "      <td>2.0</td>\n",
       "      <td>12330.0</td>\n",
       "      <td>4.0</td>\n",
       "      <td>4945.0</td>\n",
       "    </tr>\n",
       "    <tr>\n",
       "      <th>2436</th>\n",
       "      <td>2015-560</td>\n",
       "      <td>US Open</td>\n",
       "      <td>Hard</td>\n",
       "      <td>128</td>\n",
       "      <td>G</td>\n",
       "      <td>20150831</td>\n",
       "      <td>127</td>\n",
       "      <td>104925</td>\n",
       "      <td>1.0</td>\n",
       "      <td>NaN</td>\n",
       "      <td>...</td>\n",
       "      <td>87.0</td>\n",
       "      <td>62.0</td>\n",
       "      <td>23.0</td>\n",
       "      <td>21.0</td>\n",
       "      <td>7.0</td>\n",
       "      <td>13.0</td>\n",
       "      <td>1.0</td>\n",
       "      <td>14865.0</td>\n",
       "      <td>2.0</td>\n",
       "      <td>9065.0</td>\n",
       "    </tr>\n",
       "    <tr>\n",
       "      <th>2462</th>\n",
       "      <td>2010-560</td>\n",
       "      <td>US Open</td>\n",
       "      <td>Hard</td>\n",
       "      <td>128</td>\n",
       "      <td>G</td>\n",
       "      <td>20100830</td>\n",
       "      <td>126</td>\n",
       "      <td>104925</td>\n",
       "      <td>3.0</td>\n",
       "      <td>NaN</td>\n",
       "      <td>...</td>\n",
       "      <td>84.0</td>\n",
       "      <td>62.0</td>\n",
       "      <td>35.0</td>\n",
       "      <td>25.0</td>\n",
       "      <td>6.0</td>\n",
       "      <td>12.0</td>\n",
       "      <td>3.0</td>\n",
       "      <td>6665.0</td>\n",
       "      <td>2.0</td>\n",
       "      <td>7215.0</td>\n",
       "    </tr>\n",
       "    <tr>\n",
       "      <th>2474</th>\n",
       "      <td>2011-560</td>\n",
       "      <td>US Open</td>\n",
       "      <td>Hard</td>\n",
       "      <td>128</td>\n",
       "      <td>G</td>\n",
       "      <td>20110829</td>\n",
       "      <td>125</td>\n",
       "      <td>104925</td>\n",
       "      <td>1.0</td>\n",
       "      <td>NaN</td>\n",
       "      <td>...</td>\n",
       "      <td>101.0</td>\n",
       "      <td>68.0</td>\n",
       "      <td>35.0</td>\n",
       "      <td>25.0</td>\n",
       "      <td>6.0</td>\n",
       "      <td>12.0</td>\n",
       "      <td>1.0</td>\n",
       "      <td>13920.0</td>\n",
       "      <td>3.0</td>\n",
       "      <td>8380.0</td>\n",
       "    </tr>\n",
       "  </tbody>\n",
       "</table>\n",
       "<p>9 rows × 49 columns</p>\n",
       "</div>"
      ],
      "text/plain": [
       "     tourney_id     tourney_name surface  draw_size tourney_level  \\\n",
       "263    2016-580  Australian Open    Hard        128             G   \n",
       "272    2011-580  Australian Open    Hard        128             G   \n",
       "1611   2012-520    Roland Garros    Clay        128             G   \n",
       "1628   2019-540        Wimbledon   Grass        128             G   \n",
       "1775   2015-540        Wimbledon   Grass        128             G   \n",
       "1823   2014-540        Wimbledon   Grass        128             G   \n",
       "2436   2015-560          US Open    Hard        128             G   \n",
       "2462   2010-560          US Open    Hard        128             G   \n",
       "2474   2011-560          US Open    Hard        128             G   \n",
       "\n",
       "      tourney_date  match_num  winner_id  winner_seed winner_entry  ...  \\\n",
       "263       20160118        224     104925          1.0          NaN  ...   \n",
       "272       20110117        126     104925          3.0          NaN  ...   \n",
       "1611      20120527        125     104925          1.0          NaN  ...   \n",
       "1628      20190701        226     104925          1.0          NaN  ...   \n",
       "1775      20150629        127     104925          1.0          NaN  ...   \n",
       "1823      20140623        127     104925          1.0          NaN  ...   \n",
       "2436      20150831        127     104925          1.0          NaN  ...   \n",
       "2462      20100830        126     104925          3.0          NaN  ...   \n",
       "2474      20110829        125     104925          1.0          NaN  ...   \n",
       "\n",
       "     l_1stIn l_1stWon  l_2ndWon l_SvGms  l_bpSaved  l_bpFaced  winner_rank  \\\n",
       "263     57.0     35.0      21.0    16.0        4.0        9.0          1.0   \n",
       "272     62.0     45.0      20.0    17.0        9.0       14.0          3.0   \n",
       "1611    48.0     27.0      17.0    15.0        3.0       10.0          1.0   \n",
       "1628   127.0    100.0      39.0    34.0        5.0        8.0          1.0   \n",
       "1775    94.0     70.0      23.0    22.0        6.0       10.0          1.0   \n",
       "1823   133.0    102.0      26.0    28.0       11.0       15.0          2.0   \n",
       "2436    87.0     62.0      23.0    21.0        7.0       13.0          1.0   \n",
       "2462    84.0     62.0      35.0    25.0        6.0       12.0          3.0   \n",
       "2474   101.0     68.0      35.0    25.0        6.0       12.0          1.0   \n",
       "\n",
       "     winner_rank_points loser_rank loser_rank_points  \n",
       "263             16790.0        3.0            8165.0  \n",
       "272              6240.0        2.0            9245.0  \n",
       "1611            11800.0        3.0            9790.0  \n",
       "1628            12415.0        3.0            6620.0  \n",
       "1775            13845.0        2.0            9665.0  \n",
       "1823            12330.0        4.0            4945.0  \n",
       "2436            14865.0        2.0            9065.0  \n",
       "2462             6665.0        2.0            7215.0  \n",
       "2474            13920.0        3.0            8380.0  \n",
       "\n",
       "[9 rows x 49 columns]"
      ]
     },
     "execution_count": 404,
     "metadata": {},
     "output_type": "execute_result"
    }
   ],
   "source": [
    "copy_tennis[(copy_tennis['winner_name'] == 'Novak Djokovic') & (copy_tennis['loser_name'] == 'Roger Federer') & (copy_tennis['tourney_level'] == 'G') & (copy_tennis['tourney_level'] == 'G')]"
   ]
  },
  {
   "cell_type": "code",
   "execution_count": 403,
   "metadata": {},
   "outputs": [
    {
     "data": {
      "text/html": [
       "<div>\n",
       "<style scoped>\n",
       "    .dataframe tbody tr th:only-of-type {\n",
       "        vertical-align: middle;\n",
       "    }\n",
       "\n",
       "    .dataframe tbody tr th {\n",
       "        vertical-align: top;\n",
       "    }\n",
       "\n",
       "    .dataframe thead th {\n",
       "        text-align: right;\n",
       "    }\n",
       "</style>\n",
       "<table border=\"1\" class=\"dataframe\">\n",
       "  <thead>\n",
       "    <tr style=\"text-align: right;\">\n",
       "      <th></th>\n",
       "      <th>tourney_id</th>\n",
       "      <th>tourney_name</th>\n",
       "      <th>surface</th>\n",
       "      <th>draw_size</th>\n",
       "      <th>tourney_level</th>\n",
       "      <th>tourney_date</th>\n",
       "      <th>match_num</th>\n",
       "      <th>winner_id</th>\n",
       "      <th>winner_seed</th>\n",
       "      <th>winner_entry</th>\n",
       "      <th>...</th>\n",
       "      <th>l_1stIn</th>\n",
       "      <th>l_1stWon</th>\n",
       "      <th>l_2ndWon</th>\n",
       "      <th>l_SvGms</th>\n",
       "      <th>l_bpSaved</th>\n",
       "      <th>l_bpFaced</th>\n",
       "      <th>winner_rank</th>\n",
       "      <th>winner_rank_points</th>\n",
       "      <th>loser_rank</th>\n",
       "      <th>loser_rank_points</th>\n",
       "    </tr>\n",
       "  </thead>\n",
       "  <tbody>\n",
       "    <tr>\n",
       "      <th>1628</th>\n",
       "      <td>2019-540</td>\n",
       "      <td>Wimbledon</td>\n",
       "      <td>Grass</td>\n",
       "      <td>128</td>\n",
       "      <td>G</td>\n",
       "      <td>20190701</td>\n",
       "      <td>226</td>\n",
       "      <td>104925</td>\n",
       "      <td>1.0</td>\n",
       "      <td>NaN</td>\n",
       "      <td>...</td>\n",
       "      <td>127.0</td>\n",
       "      <td>100.0</td>\n",
       "      <td>39.0</td>\n",
       "      <td>34.0</td>\n",
       "      <td>5.0</td>\n",
       "      <td>8.0</td>\n",
       "      <td>1.0</td>\n",
       "      <td>12415.0</td>\n",
       "      <td>3.0</td>\n",
       "      <td>6620.0</td>\n",
       "    </tr>\n",
       "    <tr>\n",
       "      <th>1775</th>\n",
       "      <td>2015-540</td>\n",
       "      <td>Wimbledon</td>\n",
       "      <td>Grass</td>\n",
       "      <td>128</td>\n",
       "      <td>G</td>\n",
       "      <td>20150629</td>\n",
       "      <td>127</td>\n",
       "      <td>104925</td>\n",
       "      <td>1.0</td>\n",
       "      <td>NaN</td>\n",
       "      <td>...</td>\n",
       "      <td>94.0</td>\n",
       "      <td>70.0</td>\n",
       "      <td>23.0</td>\n",
       "      <td>22.0</td>\n",
       "      <td>6.0</td>\n",
       "      <td>10.0</td>\n",
       "      <td>1.0</td>\n",
       "      <td>13845.0</td>\n",
       "      <td>2.0</td>\n",
       "      <td>9665.0</td>\n",
       "    </tr>\n",
       "    <tr>\n",
       "      <th>1823</th>\n",
       "      <td>2014-540</td>\n",
       "      <td>Wimbledon</td>\n",
       "      <td>Grass</td>\n",
       "      <td>128</td>\n",
       "      <td>G</td>\n",
       "      <td>20140623</td>\n",
       "      <td>127</td>\n",
       "      <td>104925</td>\n",
       "      <td>1.0</td>\n",
       "      <td>NaN</td>\n",
       "      <td>...</td>\n",
       "      <td>133.0</td>\n",
       "      <td>102.0</td>\n",
       "      <td>26.0</td>\n",
       "      <td>28.0</td>\n",
       "      <td>11.0</td>\n",
       "      <td>15.0</td>\n",
       "      <td>2.0</td>\n",
       "      <td>12330.0</td>\n",
       "      <td>4.0</td>\n",
       "      <td>4945.0</td>\n",
       "    </tr>\n",
       "    <tr>\n",
       "      <th>2436</th>\n",
       "      <td>2015-560</td>\n",
       "      <td>US Open</td>\n",
       "      <td>Hard</td>\n",
       "      <td>128</td>\n",
       "      <td>G</td>\n",
       "      <td>20150831</td>\n",
       "      <td>127</td>\n",
       "      <td>104925</td>\n",
       "      <td>1.0</td>\n",
       "      <td>NaN</td>\n",
       "      <td>...</td>\n",
       "      <td>87.0</td>\n",
       "      <td>62.0</td>\n",
       "      <td>23.0</td>\n",
       "      <td>21.0</td>\n",
       "      <td>7.0</td>\n",
       "      <td>13.0</td>\n",
       "      <td>1.0</td>\n",
       "      <td>14865.0</td>\n",
       "      <td>2.0</td>\n",
       "      <td>9065.0</td>\n",
       "    </tr>\n",
       "  </tbody>\n",
       "</table>\n",
       "<p>4 rows × 49 columns</p>\n",
       "</div>"
      ],
      "text/plain": [
       "     tourney_id tourney_name surface  draw_size tourney_level  tourney_date  \\\n",
       "1628   2019-540    Wimbledon   Grass        128             G      20190701   \n",
       "1775   2015-540    Wimbledon   Grass        128             G      20150629   \n",
       "1823   2014-540    Wimbledon   Grass        128             G      20140623   \n",
       "2436   2015-560      US Open    Hard        128             G      20150831   \n",
       "\n",
       "      match_num  winner_id  winner_seed winner_entry  ... l_1stIn l_1stWon  \\\n",
       "1628        226     104925          1.0          NaN  ...   127.0    100.0   \n",
       "1775        127     104925          1.0          NaN  ...    94.0     70.0   \n",
       "1823        127     104925          1.0          NaN  ...   133.0    102.0   \n",
       "2436        127     104925          1.0          NaN  ...    87.0     62.0   \n",
       "\n",
       "      l_2ndWon l_SvGms  l_bpSaved  l_bpFaced  winner_rank winner_rank_points  \\\n",
       "1628      39.0    34.0        5.0        8.0          1.0            12415.0   \n",
       "1775      23.0    22.0        6.0       10.0          1.0            13845.0   \n",
       "1823      26.0    28.0       11.0       15.0          2.0            12330.0   \n",
       "2436      23.0    21.0        7.0       13.0          1.0            14865.0   \n",
       "\n",
       "     loser_rank loser_rank_points  \n",
       "1628        3.0            6620.0  \n",
       "1775        2.0            9665.0  \n",
       "1823        4.0            4945.0  \n",
       "2436        2.0            9065.0  \n",
       "\n",
       "[4 rows x 49 columns]"
      ]
     },
     "execution_count": 403,
     "metadata": {},
     "output_type": "execute_result"
    }
   ],
   "source": [
    "# Djokovic has beaten Federer 4 times in major finals!\n",
    "copy_tennis[(copy_tennis['winner_name'] == 'Novak Djokovic') & (copy_tennis['loser_name'] == 'Roger Federer') & (copy_tennis['tourney_level'] == 'G') & (copy_tennis['tourney_level'] == 'G') & (copy_tennis['round'] == 'F')]"
   ]
  },
  {
   "cell_type": "markdown",
   "metadata": {},
   "source": [
    "## Test 3:\n",
    "> $H_0$: Nadal performs equally or worse than Djokovic in terms of ['ace', 'svpt', '1stIn', '1stWon', '2ndWon', 'SvGms', 'bpSaved', 'win', 'df', 'bpFaced']\n",
    "\n",
    "> $H_A$: Nadal performs better than Djokovic in terms of ['ace', 'svpt', '1stIn', '1stWon', '2ndWon', 'SvGms', 'bpSaved', 'win', 'df', 'bpFaced']"
   ]
  },
  {
   "cell_type": "code",
   "execution_count": 418,
   "metadata": {},
   "outputs": [
    {
     "name": "stdout",
     "output_type": "stream",
     "text": [
      " Nadal wins = [169328.0, 245382.5, 257343.0, 242303.5, 221040.5, 235798.5, 263740.5, 249680.0, 229871.5, 259655.0]\n",
      "\n",
      " Nadal p-vals = [1.0, 0.912580173872946, 0.4313232345910801, 0.9600294723744962, 0.999996200447824, 0.9952378721548265, 0.1582784178318128, 0.9061091786769204, 0.00031432057596115023, 0.6811978864960235]\n",
      "\n"
     ]
    }
   ],
   "source": [
    "# Hypothesis: Nadal performs equally or worse than Djok in ...\n",
    "# Get Nadal wins & pvals\n",
    "\n",
    "nadal_wins2 = greater_comparison(df1=nadal, df2=djok, lst=l_lst)[::2] + less_comparison(df1=nadal, df2=djok, lst=g_lst)[::2]\n",
    "nadal_pvals2 = greater_comparison(df1=nadal, df2=djok, lst=l_lst)[1::2] + less_comparison(df1=nadal, df2=djok, lst=g_lst)[1::2]\n",
    "\n",
    "print(f' Nadal wins = {nadal_wins2}\\n')\n",
    "print(f' Nadal p-vals = {nadal_pvals2}\\n')"
   ]
  },
  {
   "cell_type": "code",
   "execution_count": 421,
   "metadata": {},
   "outputs": [
    {
     "name": "stdout",
     "output_type": "stream",
     "text": [
      " Djok Wins = [342652.0, 266597.5, 254637.0, 269593.5, 290880.5, 276181.5, 248239.5, 262300.0, 282108.5, 252325.0]\n",
      "\n",
      " Djok p-vals = [3.5350966020355915e-29, 0.08744015334906524, 0.5687270379051637, 0.04090477796379854, 3.9386141411773876e-06, 0.004763905835096724, 0.8417528021007505, 0.09392580062023248, 0.9996858306021679, 0.3188479989978985]\n",
      "\n"
     ]
    }
   ],
   "source": [
    "# Hypothesis: Nadal performs equally or worse than Djok in ...\n",
    "# ONLY need to get Djok wins and (p_vals need to be filtered around)\n",
    "\n",
    "djok_wins2 = greater_comparison(df1=djok, df2=nadal, lst=l_lst)[::2] + less_comparison(df1=djok, df2=nadal, lst=g_lst)[::2]\n",
    "djok_pvals2 = greater_comparison(df1=djok, df2=nadal, lst=l_lst)[1::2] + less_comparison(df1=djok, df2=nadal, lst=g_lst)[1::2]\n",
    "\n",
    "print(f' Djok Wins = {djok_wins2}\\n')\n",
    "print(f' Djok p-vals = {djok_pvals2}\\n')"
   ]
  },
  {
   "cell_type": "code",
   "execution_count": 426,
   "metadata": {},
   "outputs": [
    {
     "data": {
      "text/html": [
       "<div>\n",
       "<style scoped>\n",
       "    .dataframe tbody tr th:only-of-type {\n",
       "        vertical-align: middle;\n",
       "    }\n",
       "\n",
       "    .dataframe tbody tr th {\n",
       "        vertical-align: top;\n",
       "    }\n",
       "\n",
       "    .dataframe thead th {\n",
       "        text-align: right;\n",
       "    }\n",
       "</style>\n",
       "<table border=\"1\" class=\"dataframe\">\n",
       "  <thead>\n",
       "    <tr style=\"text-align: right;\">\n",
       "      <th></th>\n",
       "      <th>Nadal Wins</th>\n",
       "      <th>Djokovic Wins</th>\n",
       "      <th>Total Trials</th>\n",
       "      <th>P-Value</th>\n",
       "      <th>Reject Null?</th>\n",
       "    </tr>\n",
       "  </thead>\n",
       "  <tbody>\n",
       "    <tr>\n",
       "      <th>Aces</th>\n",
       "      <td>169328.0</td>\n",
       "      <td>342652.0</td>\n",
       "      <td>465060.0</td>\n",
       "      <td>1.00000</td>\n",
       "      <td>Fail to Reject Null</td>\n",
       "    </tr>\n",
       "    <tr>\n",
       "      <th>Serve Points</th>\n",
       "      <td>245382.5</td>\n",
       "      <td>266597.5</td>\n",
       "      <td>465060.0</td>\n",
       "      <td>0.91258</td>\n",
       "      <td>Fail to Reject Null</td>\n",
       "    </tr>\n",
       "    <tr>\n",
       "      <th>1st Serve In</th>\n",
       "      <td>257343.0</td>\n",
       "      <td>254637.0</td>\n",
       "      <td>465060.0</td>\n",
       "      <td>0.43132</td>\n",
       "      <td>Fail to Reject Null</td>\n",
       "    </tr>\n",
       "    <tr>\n",
       "      <th>1st Serve Points Won</th>\n",
       "      <td>242303.5</td>\n",
       "      <td>269593.5</td>\n",
       "      <td>465023.0</td>\n",
       "      <td>0.96003</td>\n",
       "      <td>Fail to Reject Null</td>\n",
       "    </tr>\n",
       "    <tr>\n",
       "      <th>2nd Serve Points Won</th>\n",
       "      <td>221040.5</td>\n",
       "      <td>290880.5</td>\n",
       "      <td>465063.0</td>\n",
       "      <td>1.00000</td>\n",
       "      <td>Fail to Reject Null</td>\n",
       "    </tr>\n",
       "    <tr>\n",
       "      <th>Service Games</th>\n",
       "      <td>235798.5</td>\n",
       "      <td>276181.5</td>\n",
       "      <td>465087.0</td>\n",
       "      <td>0.99524</td>\n",
       "      <td>Fail to Reject Null</td>\n",
       "    </tr>\n",
       "    <tr>\n",
       "      <th>Break Points Saved</th>\n",
       "      <td>263740.5</td>\n",
       "      <td>248239.5</td>\n",
       "      <td>465060.0</td>\n",
       "      <td>0.15828</td>\n",
       "      <td>Fail to Reject Null</td>\n",
       "    </tr>\n",
       "    <tr>\n",
       "      <th>Wins</th>\n",
       "      <td>249680.0</td>\n",
       "      <td>262300.0</td>\n",
       "      <td>465060.0</td>\n",
       "      <td>0.90611</td>\n",
       "      <td>Fail to Reject Null</td>\n",
       "    </tr>\n",
       "    <tr>\n",
       "      <th>Double Faults</th>\n",
       "      <td>229871.5</td>\n",
       "      <td>282108.5</td>\n",
       "      <td>465060.0</td>\n",
       "      <td>0.00031</td>\n",
       "      <td>Reject Null</td>\n",
       "    </tr>\n",
       "    <tr>\n",
       "      <th>Break Points Faced</th>\n",
       "      <td>259655.0</td>\n",
       "      <td>252325.0</td>\n",
       "      <td>465060.0</td>\n",
       "      <td>0.68120</td>\n",
       "      <td>Fail to Reject Null</td>\n",
       "    </tr>\n",
       "  </tbody>\n",
       "</table>\n",
       "</div>"
      ],
      "text/plain": [
       "                      Nadal Wins  Djokovic Wins  Total Trials  P-Value  \\\n",
       "Aces                    169328.0       342652.0      465060.0  1.00000   \n",
       "Serve Points            245382.5       266597.5      465060.0  0.91258   \n",
       "1st Serve In            257343.0       254637.0      465060.0  0.43132   \n",
       "1st Serve Points Won    242303.5       269593.5      465023.0  0.96003   \n",
       "2nd Serve Points Won    221040.5       290880.5      465063.0  1.00000   \n",
       "Service Games           235798.5       276181.5      465087.0  0.99524   \n",
       "Break Points Saved      263740.5       248239.5      465060.0  0.15828   \n",
       "Wins                    249680.0       262300.0      465060.0  0.90611   \n",
       "Double Faults           229871.5       282108.5      465060.0  0.00031   \n",
       "Break Points Faced      259655.0       252325.0      465060.0  0.68120   \n",
       "\n",
       "                             Reject Null?  \n",
       "Aces                  Fail to Reject Null  \n",
       "Serve Points          Fail to Reject Null  \n",
       "1st Serve In          Fail to Reject Null  \n",
       "1st Serve Points Won  Fail to Reject Null  \n",
       "2nd Serve Points Won  Fail to Reject Null  \n",
       "Service Games         Fail to Reject Null  \n",
       "Break Points Saved    Fail to Reject Null  \n",
       "Wins                  Fail to Reject Null  \n",
       "Double Faults                 Reject Null  \n",
       "Break Points Faced    Fail to Reject Null  "
      ]
     },
     "execution_count": 426,
     "metadata": {},
     "output_type": "execute_result"
    }
   ],
   "source": [
    "alpha = 0.05\n",
    "total_comparisons3 = []\n",
    "for nadal_v, djok_v in zip(nadal_wins2, djok_wins2):\n",
    "    total_comparisons3.append(nadal_v + djok_v)\n",
    "    \n",
    "data3 = {   \"Nadal Wins\": [i for i in nadal_wins2],\n",
    "            \"Djokovic Wins\": [i for i in djok_wins2],\n",
    "            \"Total Trials\": [i for i in total_comparisons],\n",
    "            \"P-Value\": [i.round(5) for i in nadal_pvals2],\n",
    "            \"Reject Null?\": ['Reject Null' if p_val < alpha else 'Fail to Reject Null' for p_val in nadal_pvals2]\n",
    "}\n",
    "nadal_vs_djok = pd.DataFrame(data3, index=['Aces', 'Serve Points', '1st Serve In', '1st Serve Points Won', '2nd Serve Points Won', 'Service Games', 'Break Points Saved', 'Wins', 'Double Faults', 'Break Points Faced'])\n",
    "nadal_vs_djok"
   ]
  },
  {
   "cell_type": "code",
   "execution_count": 425,
   "metadata": {},
   "outputs": [
    {
     "data": {
      "text/html": [
       "<div>\n",
       "<style scoped>\n",
       "    .dataframe tbody tr th:only-of-type {\n",
       "        vertical-align: middle;\n",
       "    }\n",
       "\n",
       "    .dataframe tbody tr th {\n",
       "        vertical-align: top;\n",
       "    }\n",
       "\n",
       "    .dataframe thead th {\n",
       "        text-align: right;\n",
       "    }\n",
       "</style>\n",
       "<table border=\"1\" class=\"dataframe\">\n",
       "  <thead>\n",
       "    <tr style=\"text-align: right;\">\n",
       "      <th></th>\n",
       "      <th>Nadal Wins</th>\n",
       "      <th>Djokovic Wins</th>\n",
       "      <th>Total Trials</th>\n",
       "      <th>P-Value</th>\n",
       "      <th>Reject Null?</th>\n",
       "    </tr>\n",
       "  </thead>\n",
       "  <tbody>\n",
       "    <tr>\n",
       "      <th>Aces</th>\n",
       "      <td>169328.0</td>\n",
       "      <td>342652.0</td>\n",
       "      <td>465060.0</td>\n",
       "      <td>1.00000</td>\n",
       "      <td>Reject Null</td>\n",
       "    </tr>\n",
       "    <tr>\n",
       "      <th>Serve Points</th>\n",
       "      <td>245382.5</td>\n",
       "      <td>266597.5</td>\n",
       "      <td>465060.0</td>\n",
       "      <td>0.91258</td>\n",
       "      <td>Fail to Reject Null</td>\n",
       "    </tr>\n",
       "    <tr>\n",
       "      <th>1st Serve In</th>\n",
       "      <td>257343.0</td>\n",
       "      <td>254637.0</td>\n",
       "      <td>465060.0</td>\n",
       "      <td>0.43132</td>\n",
       "      <td>Fail to Reject Null</td>\n",
       "    </tr>\n",
       "    <tr>\n",
       "      <th>1st Serve Points Won</th>\n",
       "      <td>242303.5</td>\n",
       "      <td>269593.5</td>\n",
       "      <td>465023.0</td>\n",
       "      <td>0.96003</td>\n",
       "      <td>Reject Null</td>\n",
       "    </tr>\n",
       "    <tr>\n",
       "      <th>2nd Serve Points Won</th>\n",
       "      <td>221040.5</td>\n",
       "      <td>290880.5</td>\n",
       "      <td>465063.0</td>\n",
       "      <td>1.00000</td>\n",
       "      <td>Reject Null</td>\n",
       "    </tr>\n",
       "    <tr>\n",
       "      <th>Service Games</th>\n",
       "      <td>235798.5</td>\n",
       "      <td>276181.5</td>\n",
       "      <td>465087.0</td>\n",
       "      <td>0.99524</td>\n",
       "      <td>Reject Null</td>\n",
       "    </tr>\n",
       "    <tr>\n",
       "      <th>Break Points Saved</th>\n",
       "      <td>263740.5</td>\n",
       "      <td>248239.5</td>\n",
       "      <td>465060.0</td>\n",
       "      <td>0.15828</td>\n",
       "      <td>Fail to Reject Null</td>\n",
       "    </tr>\n",
       "    <tr>\n",
       "      <th>Wins</th>\n",
       "      <td>249680.0</td>\n",
       "      <td>262300.0</td>\n",
       "      <td>465060.0</td>\n",
       "      <td>0.90611</td>\n",
       "      <td>Fail to Reject Null</td>\n",
       "    </tr>\n",
       "    <tr>\n",
       "      <th>Double Faults</th>\n",
       "      <td>229871.5</td>\n",
       "      <td>282108.5</td>\n",
       "      <td>465060.0</td>\n",
       "      <td>0.00031</td>\n",
       "      <td>Fail to Reject Null</td>\n",
       "    </tr>\n",
       "    <tr>\n",
       "      <th>Break Points Faced</th>\n",
       "      <td>259655.0</td>\n",
       "      <td>252325.0</td>\n",
       "      <td>465060.0</td>\n",
       "      <td>0.68120</td>\n",
       "      <td>Fail to Reject Null</td>\n",
       "    </tr>\n",
       "  </tbody>\n",
       "</table>\n",
       "</div>"
      ],
      "text/plain": [
       "                      Nadal Wins  Djokovic Wins  Total Trials  P-Value  \\\n",
       "Aces                    169328.0       342652.0      465060.0  1.00000   \n",
       "Serve Points            245382.5       266597.5      465060.0  0.91258   \n",
       "1st Serve In            257343.0       254637.0      465060.0  0.43132   \n",
       "1st Serve Points Won    242303.5       269593.5      465023.0  0.96003   \n",
       "2nd Serve Points Won    221040.5       290880.5      465063.0  1.00000   \n",
       "Service Games           235798.5       276181.5      465087.0  0.99524   \n",
       "Break Points Saved      263740.5       248239.5      465060.0  0.15828   \n",
       "Wins                    249680.0       262300.0      465060.0  0.90611   \n",
       "Double Faults           229871.5       282108.5      465060.0  0.00031   \n",
       "Break Points Faced      259655.0       252325.0      465060.0  0.68120   \n",
       "\n",
       "                             Reject Null?  \n",
       "Aces                          Reject Null  \n",
       "Serve Points          Fail to Reject Null  \n",
       "1st Serve In          Fail to Reject Null  \n",
       "1st Serve Points Won          Reject Null  \n",
       "2nd Serve Points Won          Reject Null  \n",
       "Service Games                 Reject Null  \n",
       "Break Points Saved    Fail to Reject Null  \n",
       "Wins                  Fail to Reject Null  \n",
       "Double Faults         Fail to Reject Null  \n",
       "Break Points Faced    Fail to Reject Null  "
      ]
     },
     "execution_count": 425,
     "metadata": {},
     "output_type": "execute_result"
    }
   ],
   "source": [
    "# Pretty sure this would be the set up if our H_0 is Nadal is >= to Djok\n",
    "alpha = 0.05\n",
    "total_comparisons3 = []\n",
    "for nadal_v, djok_v in zip(nadal_wins2, djok_wins2):\n",
    "    total_comparisons3.append(nadal_v + djok_v)\n",
    "    \n",
    "data3 = {   \"Nadal Wins\": [i for i in nadal_wins2],\n",
    "            \"Djokovic Wins\": [i for i in djok_wins2],\n",
    "            \"Total Trials\": [i for i in total_comparisons],\n",
    "            \"P-Value\": [i.round(5) for i in nadal_pvals2],\n",
    "            \"Reject Null?\": ['Reject Null' if p_val < alpha else 'Fail to Reject Null' for p_val in djok_pvals2]\n",
    "}\n",
    "nadal_vs_djok = pd.DataFrame(data3, index=['Aces', 'Serve Points', '1st Serve In', '1st Serve Points Won', '2nd Serve Points Won', 'Service Games', 'Break Points Saved', 'Wins', 'Double Faults', 'Break Points Faced'])\n",
    "nadal_vs_djok"
   ]
  },
  {
   "cell_type": "code",
   "execution_count": null,
   "metadata": {},
   "outputs": [],
   "source": []
  }
 ],
 "metadata": {
  "kernelspec": {
   "display_name": "Python 3",
   "language": "python",
   "name": "python3"
  },
  "language_info": {
   "codemirror_mode": {
    "name": "ipython",
    "version": 3
   },
   "file_extension": ".py",
   "mimetype": "text/x-python",
   "name": "python",
   "nbconvert_exporter": "python",
   "pygments_lexer": "ipython3",
   "version": "3.7.9"
  }
 },
 "nbformat": 4,
 "nbformat_minor": 4
}
